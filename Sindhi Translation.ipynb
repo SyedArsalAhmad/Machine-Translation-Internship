{
 "cells": [
  {
   "cell_type": "code",
   "execution_count": null,
   "metadata": {
    "colab": {
     "base_uri": "https://localhost:8080/"
    },
    "id": "Et6-c2zoEG8a",
    "outputId": "63c50662-6a98-477a-f234-4852fb6d63d2"
   },
   "outputs": [
    {
     "name": "stdout",
     "output_type": "stream",
     "text": [
      "Collecting tensorflow==2.1.0\n",
      "  Using cached tensorflow-2.1.0-cp37-cp37m-manylinux2010_x86_64.whl (421.8 MB)\n",
      "Requirement already satisfied: keras-preprocessing>=1.1.0 in /usr/local/lib/python3.7/dist-packages (from tensorflow==2.1.0) (1.1.2)\n",
      "Requirement already satisfied: wheel>=0.26 in /usr/local/lib/python3.7/dist-packages (from tensorflow==2.1.0) (0.36.2)\n",
      "Requirement already satisfied: google-pasta>=0.1.6 in /usr/local/lib/python3.7/dist-packages (from tensorflow==2.1.0) (0.2.0)\n",
      "Collecting gast==0.2.2\n",
      "  Using cached gast-0.2.2-py3-none-any.whl\n",
      "Requirement already satisfied: numpy<2.0,>=1.16.0 in /usr/local/lib/python3.7/dist-packages (from tensorflow==2.1.0) (1.19.5)\n",
      "Requirement already satisfied: protobuf>=3.8.0 in /usr/local/lib/python3.7/dist-packages (from tensorflow==2.1.0) (3.17.3)\n",
      "Collecting tensorboard<2.2.0,>=2.1.0\n",
      "  Using cached tensorboard-2.1.1-py3-none-any.whl (3.8 MB)\n",
      "Requirement already satisfied: termcolor>=1.1.0 in /usr/local/lib/python3.7/dist-packages (from tensorflow==2.1.0) (1.1.0)\n",
      "Requirement already satisfied: grpcio>=1.8.6 in /usr/local/lib/python3.7/dist-packages (from tensorflow==2.1.0) (1.34.1)\n",
      "Requirement already satisfied: opt-einsum>=2.3.2 in /usr/local/lib/python3.7/dist-packages (from tensorflow==2.1.0) (3.3.0)\n",
      "Requirement already satisfied: scipy==1.4.1 in /usr/local/lib/python3.7/dist-packages (from tensorflow==2.1.0) (1.4.1)\n",
      "Requirement already satisfied: keras-applications>=1.0.8 in /usr/local/lib/python3.7/dist-packages (from tensorflow==2.1.0) (1.0.8)\n",
      "Collecting tensorflow-estimator<2.2.0,>=2.1.0rc0\n",
      "  Using cached tensorflow_estimator-2.1.0-py2.py3-none-any.whl (448 kB)\n",
      "Requirement already satisfied: six>=1.12.0 in /usr/local/lib/python3.7/dist-packages (from tensorflow==2.1.0) (1.15.0)\n",
      "Requirement already satisfied: absl-py>=0.7.0 in /usr/local/lib/python3.7/dist-packages (from tensorflow==2.1.0) (0.12.0)\n",
      "Requirement already satisfied: wrapt>=1.11.1 in /usr/local/lib/python3.7/dist-packages (from tensorflow==2.1.0) (1.12.1)\n",
      "Requirement already satisfied: astor>=0.6.0 in /usr/local/lib/python3.7/dist-packages (from tensorflow==2.1.0) (0.8.1)\n",
      "Requirement already satisfied: h5py in /usr/local/lib/python3.7/dist-packages (from keras-applications>=1.0.8->tensorflow==2.1.0) (3.1.0)\n",
      "Requirement already satisfied: markdown>=2.6.8 in /usr/local/lib/python3.7/dist-packages (from tensorboard<2.2.0,>=2.1.0->tensorflow==2.1.0) (3.3.4)\n",
      "Requirement already satisfied: setuptools>=41.0.0 in /usr/local/lib/python3.7/dist-packages (from tensorboard<2.2.0,>=2.1.0->tensorflow==2.1.0) (57.2.0)\n",
      "Requirement already satisfied: werkzeug>=0.11.15 in /usr/local/lib/python3.7/dist-packages (from tensorboard<2.2.0,>=2.1.0->tensorflow==2.1.0) (1.0.1)\n",
      "Requirement already satisfied: google-auth<2,>=1.6.3 in /usr/local/lib/python3.7/dist-packages (from tensorboard<2.2.0,>=2.1.0->tensorflow==2.1.0) (1.32.1)\n",
      "Requirement already satisfied: requests<3,>=2.21.0 in /usr/local/lib/python3.7/dist-packages (from tensorboard<2.2.0,>=2.1.0->tensorflow==2.1.0) (2.23.0)\n",
      "Requirement already satisfied: google-auth-oauthlib<0.5,>=0.4.1 in /usr/local/lib/python3.7/dist-packages (from tensorboard<2.2.0,>=2.1.0->tensorflow==2.1.0) (0.4.4)\n",
      "Requirement already satisfied: cachetools<5.0,>=2.0.0 in /usr/local/lib/python3.7/dist-packages (from google-auth<2,>=1.6.3->tensorboard<2.2.0,>=2.1.0->tensorflow==2.1.0) (4.2.2)\n",
      "Requirement already satisfied: pyasn1-modules>=0.2.1 in /usr/local/lib/python3.7/dist-packages (from google-auth<2,>=1.6.3->tensorboard<2.2.0,>=2.1.0->tensorflow==2.1.0) (0.2.8)\n",
      "Requirement already satisfied: rsa<5,>=3.1.4 in /usr/local/lib/python3.7/dist-packages (from google-auth<2,>=1.6.3->tensorboard<2.2.0,>=2.1.0->tensorflow==2.1.0) (4.7.2)\n",
      "Requirement already satisfied: requests-oauthlib>=0.7.0 in /usr/local/lib/python3.7/dist-packages (from google-auth-oauthlib<0.5,>=0.4.1->tensorboard<2.2.0,>=2.1.0->tensorflow==2.1.0) (1.3.0)\n",
      "Requirement already satisfied: importlib-metadata in /usr/local/lib/python3.7/dist-packages (from markdown>=2.6.8->tensorboard<2.2.0,>=2.1.0->tensorflow==2.1.0) (4.6.1)\n",
      "Requirement already satisfied: pyasn1<0.5.0,>=0.4.6 in /usr/local/lib/python3.7/dist-packages (from pyasn1-modules>=0.2.1->google-auth<2,>=1.6.3->tensorboard<2.2.0,>=2.1.0->tensorflow==2.1.0) (0.4.8)\n",
      "Requirement already satisfied: certifi>=2017.4.17 in /usr/local/lib/python3.7/dist-packages (from requests<3,>=2.21.0->tensorboard<2.2.0,>=2.1.0->tensorflow==2.1.0) (2021.5.30)\n",
      "Requirement already satisfied: chardet<4,>=3.0.2 in /usr/local/lib/python3.7/dist-packages (from requests<3,>=2.21.0->tensorboard<2.2.0,>=2.1.0->tensorflow==2.1.0) (3.0.4)\n",
      "Requirement already satisfied: idna<3,>=2.5 in /usr/local/lib/python3.7/dist-packages (from requests<3,>=2.21.0->tensorboard<2.2.0,>=2.1.0->tensorflow==2.1.0) (2.10)\n",
      "Requirement already satisfied: urllib3!=1.25.0,!=1.25.1,<1.26,>=1.21.1 in /usr/local/lib/python3.7/dist-packages (from requests<3,>=2.21.0->tensorboard<2.2.0,>=2.1.0->tensorflow==2.1.0) (1.24.3)\n",
      "Requirement already satisfied: oauthlib>=3.0.0 in /usr/local/lib/python3.7/dist-packages (from requests-oauthlib>=0.7.0->google-auth-oauthlib<0.5,>=0.4.1->tensorboard<2.2.0,>=2.1.0->tensorflow==2.1.0) (3.1.1)\n",
      "Requirement already satisfied: cached-property in /usr/local/lib/python3.7/dist-packages (from h5py->keras-applications>=1.0.8->tensorflow==2.1.0) (1.5.2)\n",
      "Requirement already satisfied: zipp>=0.5 in /usr/local/lib/python3.7/dist-packages (from importlib-metadata->markdown>=2.6.8->tensorboard<2.2.0,>=2.1.0->tensorflow==2.1.0) (3.5.0)\n",
      "Requirement already satisfied: typing-extensions>=3.6.4 in /usr/local/lib/python3.7/dist-packages (from importlib-metadata->markdown>=2.6.8->tensorboard<2.2.0,>=2.1.0->tensorflow==2.1.0) (3.7.4.3)\n",
      "Installing collected packages: tensorflow-estimator, tensorboard, gast, tensorflow\n",
      "  Attempting uninstall: tensorflow-estimator\n",
      "    Found existing installation: tensorflow-estimator 2.5.0\n",
      "    Uninstalling tensorflow-estimator-2.5.0:\n",
      "      Successfully uninstalled tensorflow-estimator-2.5.0\n",
      "  Attempting uninstall: tensorboard\n",
      "    Found existing installation: tensorboard 2.6.0\n",
      "    Uninstalling tensorboard-2.6.0:\n",
      "      Successfully uninstalled tensorboard-2.6.0\n",
      "  Attempting uninstall: gast\n",
      "    Found existing installation: gast 0.4.0\n",
      "    Uninstalling gast-0.4.0:\n",
      "      Successfully uninstalled gast-0.4.0\n",
      "  Attempting uninstall: tensorflow\n",
      "    Found existing installation: tensorflow 2.5.1\n",
      "    Uninstalling tensorflow-2.5.1:\n",
      "      Successfully uninstalled tensorflow-2.5.1\n",
      "\u001b[31mERROR: pip's dependency resolver does not currently take into account all the packages that are installed. This behaviour is the source of the following dependency conflicts.\n",
      "tensorflow-probability 0.13.0 requires gast>=0.3.2, but you have gast 0.2.2 which is incompatible.\u001b[0m\n",
      "Successfully installed gast-0.2.2 tensorboard-2.1.1 tensorflow-2.1.0 tensorflow-estimator-2.1.0\n"
     ]
    }
   ],
   "source": [
    "!pip install tensorflow==2.1.0"
   ]
  },
  {
   "cell_type": "code",
   "execution_count": null,
   "metadata": {
    "colab": {
     "base_uri": "https://localhost:8080/"
    },
    "id": "y5fP-suuqEbP",
    "outputId": "d0f55e0b-e8d4-4161-90d3-b709338da3de"
   },
   "outputs": [
    {
     "name": "stdout",
     "output_type": "stream",
     "text": [
      "Requirement already satisfied: tensorflow in /usr/local/lib/python3.7/dist-packages (2.5.1)\n",
      "Requirement already satisfied: tensorflow-estimator<2.6.0,>=2.5.0 in /usr/local/lib/python3.7/dist-packages (from tensorflow) (2.5.0)\n",
      "Requirement already satisfied: typing-extensions~=3.7.4 in /usr/local/lib/python3.7/dist-packages (from tensorflow) (3.7.4.3)\n",
      "Requirement already satisfied: keras-nightly~=2.5.0.dev in /usr/local/lib/python3.7/dist-packages (from tensorflow) (2.5.0.dev2021032900)\n",
      "Requirement already satisfied: protobuf>=3.9.2 in /usr/local/lib/python3.7/dist-packages (from tensorflow) (3.17.3)\n",
      "Requirement already satisfied: google-pasta~=0.2 in /usr/local/lib/python3.7/dist-packages (from tensorflow) (0.2.0)\n",
      "Requirement already satisfied: numpy~=1.19.2 in /usr/local/lib/python3.7/dist-packages (from tensorflow) (1.19.5)\n",
      "Requirement already satisfied: six~=1.15.0 in /usr/local/lib/python3.7/dist-packages (from tensorflow) (1.15.0)\n",
      "Requirement already satisfied: wheel~=0.35 in /usr/local/lib/python3.7/dist-packages (from tensorflow) (0.36.2)\n",
      "Requirement already satisfied: flatbuffers~=1.12.0 in /usr/local/lib/python3.7/dist-packages (from tensorflow) (1.12)\n",
      "Requirement already satisfied: absl-py~=0.10 in /usr/local/lib/python3.7/dist-packages (from tensorflow) (0.12.0)\n",
      "Requirement already satisfied: grpcio~=1.34.0 in /usr/local/lib/python3.7/dist-packages (from tensorflow) (1.34.1)\n",
      "Requirement already satisfied: keras-preprocessing~=1.1.2 in /usr/local/lib/python3.7/dist-packages (from tensorflow) (1.1.2)\n",
      "Requirement already satisfied: tensorboard~=2.5 in /usr/local/lib/python3.7/dist-packages (from tensorflow) (2.6.0)\n",
      "Requirement already satisfied: termcolor~=1.1.0 in /usr/local/lib/python3.7/dist-packages (from tensorflow) (1.1.0)\n",
      "Requirement already satisfied: opt-einsum~=3.3.0 in /usr/local/lib/python3.7/dist-packages (from tensorflow) (3.3.0)\n",
      "Requirement already satisfied: gast==0.4.0 in /usr/local/lib/python3.7/dist-packages (from tensorflow) (0.4.0)\n",
      "Requirement already satisfied: astunparse~=1.6.3 in /usr/local/lib/python3.7/dist-packages (from tensorflow) (1.6.3)\n",
      "Requirement already satisfied: wrapt~=1.12.1 in /usr/local/lib/python3.7/dist-packages (from tensorflow) (1.12.1)\n",
      "Requirement already satisfied: h5py~=3.1.0 in /usr/local/lib/python3.7/dist-packages (from tensorflow) (3.1.0)\n",
      "Requirement already satisfied: cached-property in /usr/local/lib/python3.7/dist-packages (from h5py~=3.1.0->tensorflow) (1.5.2)\n",
      "Requirement already satisfied: tensorboard-plugin-wit>=1.6.0 in /usr/local/lib/python3.7/dist-packages (from tensorboard~=2.5->tensorflow) (1.8.0)\n",
      "Requirement already satisfied: setuptools>=41.0.0 in /usr/local/lib/python3.7/dist-packages (from tensorboard~=2.5->tensorflow) (57.2.0)\n",
      "Requirement already satisfied: google-auth-oauthlib<0.5,>=0.4.1 in /usr/local/lib/python3.7/dist-packages (from tensorboard~=2.5->tensorflow) (0.4.4)\n",
      "Requirement already satisfied: tensorboard-data-server<0.7.0,>=0.6.0 in /usr/local/lib/python3.7/dist-packages (from tensorboard~=2.5->tensorflow) (0.6.1)\n",
      "Requirement already satisfied: requests<3,>=2.21.0 in /usr/local/lib/python3.7/dist-packages (from tensorboard~=2.5->tensorflow) (2.23.0)\n",
      "Requirement already satisfied: werkzeug>=0.11.15 in /usr/local/lib/python3.7/dist-packages (from tensorboard~=2.5->tensorflow) (1.0.1)\n",
      "Requirement already satisfied: google-auth<2,>=1.6.3 in /usr/local/lib/python3.7/dist-packages (from tensorboard~=2.5->tensorflow) (1.32.1)\n",
      "Requirement already satisfied: markdown>=2.6.8 in /usr/local/lib/python3.7/dist-packages (from tensorboard~=2.5->tensorflow) (3.3.4)\n",
      "Requirement already satisfied: rsa<5,>=3.1.4 in /usr/local/lib/python3.7/dist-packages (from google-auth<2,>=1.6.3->tensorboard~=2.5->tensorflow) (4.7.2)\n",
      "Requirement already satisfied: pyasn1-modules>=0.2.1 in /usr/local/lib/python3.7/dist-packages (from google-auth<2,>=1.6.3->tensorboard~=2.5->tensorflow) (0.2.8)\n",
      "Requirement already satisfied: cachetools<5.0,>=2.0.0 in /usr/local/lib/python3.7/dist-packages (from google-auth<2,>=1.6.3->tensorboard~=2.5->tensorflow) (4.2.2)\n",
      "Requirement already satisfied: requests-oauthlib>=0.7.0 in /usr/local/lib/python3.7/dist-packages (from google-auth-oauthlib<0.5,>=0.4.1->tensorboard~=2.5->tensorflow) (1.3.0)\n",
      "Requirement already satisfied: importlib-metadata in /usr/local/lib/python3.7/dist-packages (from markdown>=2.6.8->tensorboard~=2.5->tensorflow) (4.6.1)\n",
      "Requirement already satisfied: pyasn1<0.5.0,>=0.4.6 in /usr/local/lib/python3.7/dist-packages (from pyasn1-modules>=0.2.1->google-auth<2,>=1.6.3->tensorboard~=2.5->tensorflow) (0.4.8)\n",
      "Requirement already satisfied: chardet<4,>=3.0.2 in /usr/local/lib/python3.7/dist-packages (from requests<3,>=2.21.0->tensorboard~=2.5->tensorflow) (3.0.4)\n",
      "Requirement already satisfied: idna<3,>=2.5 in /usr/local/lib/python3.7/dist-packages (from requests<3,>=2.21.0->tensorboard~=2.5->tensorflow) (2.10)\n",
      "Requirement already satisfied: urllib3!=1.25.0,!=1.25.1,<1.26,>=1.21.1 in /usr/local/lib/python3.7/dist-packages (from requests<3,>=2.21.0->tensorboard~=2.5->tensorflow) (1.24.3)\n",
      "Requirement already satisfied: certifi>=2017.4.17 in /usr/local/lib/python3.7/dist-packages (from requests<3,>=2.21.0->tensorboard~=2.5->tensorflow) (2021.5.30)\n",
      "Requirement already satisfied: oauthlib>=3.0.0 in /usr/local/lib/python3.7/dist-packages (from requests-oauthlib>=0.7.0->google-auth-oauthlib<0.5,>=0.4.1->tensorboard~=2.5->tensorflow) (3.1.1)\n",
      "Requirement already satisfied: zipp>=0.5 in /usr/local/lib/python3.7/dist-packages (from importlib-metadata->markdown>=2.6.8->tensorboard~=2.5->tensorflow) (3.5.0)\n"
     ]
    }
   ],
   "source": [
    "!pip install --upgrade tensorflow"
   ]
  },
  {
   "cell_type": "code",
   "execution_count": null,
   "metadata": {
    "colab": {
     "base_uri": "https://localhost:8080/"
    },
    "id": "viuPsL33qJhM",
    "outputId": "03aad9ec-4583-4c6d-d84d-7b0d3f39aca2"
   },
   "outputs": [
    {
     "name": "stdout",
     "output_type": "stream",
     "text": [
      "Requirement already satisfied: tensorflow-gpu in /usr/local/lib/python3.7/dist-packages (2.5.1)\n",
      "Requirement already satisfied: opt-einsum~=3.3.0 in /usr/local/lib/python3.7/dist-packages (from tensorflow-gpu) (3.3.0)\n",
      "Requirement already satisfied: termcolor~=1.1.0 in /usr/local/lib/python3.7/dist-packages (from tensorflow-gpu) (1.1.0)\n",
      "Requirement already satisfied: grpcio~=1.34.0 in /usr/local/lib/python3.7/dist-packages (from tensorflow-gpu) (1.34.1)\n",
      "Requirement already satisfied: gast==0.4.0 in /usr/local/lib/python3.7/dist-packages (from tensorflow-gpu) (0.4.0)\n",
      "Requirement already satisfied: astunparse~=1.6.3 in /usr/local/lib/python3.7/dist-packages (from tensorflow-gpu) (1.6.3)\n",
      "Requirement already satisfied: flatbuffers~=1.12.0 in /usr/local/lib/python3.7/dist-packages (from tensorflow-gpu) (1.12)\n",
      "Requirement already satisfied: keras-nightly~=2.5.0.dev in /usr/local/lib/python3.7/dist-packages (from tensorflow-gpu) (2.5.0.dev2021032900)\n",
      "Requirement already satisfied: protobuf>=3.9.2 in /usr/local/lib/python3.7/dist-packages (from tensorflow-gpu) (3.17.3)\n",
      "Requirement already satisfied: tensorboard~=2.5 in /usr/local/lib/python3.7/dist-packages (from tensorflow-gpu) (2.6.0)\n",
      "Requirement already satisfied: numpy~=1.19.2 in /usr/local/lib/python3.7/dist-packages (from tensorflow-gpu) (1.19.5)\n",
      "Requirement already satisfied: h5py~=3.1.0 in /usr/local/lib/python3.7/dist-packages (from tensorflow-gpu) (3.1.0)\n",
      "Requirement already satisfied: typing-extensions~=3.7.4 in /usr/local/lib/python3.7/dist-packages (from tensorflow-gpu) (3.7.4.3)\n",
      "Requirement already satisfied: keras-preprocessing~=1.1.2 in /usr/local/lib/python3.7/dist-packages (from tensorflow-gpu) (1.1.2)\n",
      "Requirement already satisfied: wheel~=0.35 in /usr/local/lib/python3.7/dist-packages (from tensorflow-gpu) (0.36.2)\n",
      "Requirement already satisfied: six~=1.15.0 in /usr/local/lib/python3.7/dist-packages (from tensorflow-gpu) (1.15.0)\n",
      "Requirement already satisfied: absl-py~=0.10 in /usr/local/lib/python3.7/dist-packages (from tensorflow-gpu) (0.12.0)\n",
      "Requirement already satisfied: wrapt~=1.12.1 in /usr/local/lib/python3.7/dist-packages (from tensorflow-gpu) (1.12.1)\n",
      "Requirement already satisfied: google-pasta~=0.2 in /usr/local/lib/python3.7/dist-packages (from tensorflow-gpu) (0.2.0)\n",
      "Requirement already satisfied: tensorflow-estimator<2.6.0,>=2.5.0 in /usr/local/lib/python3.7/dist-packages (from tensorflow-gpu) (2.5.0)\n",
      "Requirement already satisfied: cached-property in /usr/local/lib/python3.7/dist-packages (from h5py~=3.1.0->tensorflow-gpu) (1.5.2)\n",
      "Requirement already satisfied: google-auth<2,>=1.6.3 in /usr/local/lib/python3.7/dist-packages (from tensorboard~=2.5->tensorflow-gpu) (1.32.1)\n",
      "Requirement already satisfied: tensorboard-data-server<0.7.0,>=0.6.0 in /usr/local/lib/python3.7/dist-packages (from tensorboard~=2.5->tensorflow-gpu) (0.6.1)\n",
      "Requirement already satisfied: markdown>=2.6.8 in /usr/local/lib/python3.7/dist-packages (from tensorboard~=2.5->tensorflow-gpu) (3.3.4)\n",
      "Requirement already satisfied: tensorboard-plugin-wit>=1.6.0 in /usr/local/lib/python3.7/dist-packages (from tensorboard~=2.5->tensorflow-gpu) (1.8.0)\n",
      "Requirement already satisfied: requests<3,>=2.21.0 in /usr/local/lib/python3.7/dist-packages (from tensorboard~=2.5->tensorflow-gpu) (2.23.0)\n",
      "Requirement already satisfied: werkzeug>=0.11.15 in /usr/local/lib/python3.7/dist-packages (from tensorboard~=2.5->tensorflow-gpu) (1.0.1)\n",
      "Requirement already satisfied: setuptools>=41.0.0 in /usr/local/lib/python3.7/dist-packages (from tensorboard~=2.5->tensorflow-gpu) (57.2.0)\n",
      "Requirement already satisfied: google-auth-oauthlib<0.5,>=0.4.1 in /usr/local/lib/python3.7/dist-packages (from tensorboard~=2.5->tensorflow-gpu) (0.4.4)\n",
      "Requirement already satisfied: pyasn1-modules>=0.2.1 in /usr/local/lib/python3.7/dist-packages (from google-auth<2,>=1.6.3->tensorboard~=2.5->tensorflow-gpu) (0.2.8)\n",
      "Requirement already satisfied: rsa<5,>=3.1.4 in /usr/local/lib/python3.7/dist-packages (from google-auth<2,>=1.6.3->tensorboard~=2.5->tensorflow-gpu) (4.7.2)\n",
      "Requirement already satisfied: cachetools<5.0,>=2.0.0 in /usr/local/lib/python3.7/dist-packages (from google-auth<2,>=1.6.3->tensorboard~=2.5->tensorflow-gpu) (4.2.2)\n",
      "Requirement already satisfied: requests-oauthlib>=0.7.0 in /usr/local/lib/python3.7/dist-packages (from google-auth-oauthlib<0.5,>=0.4.1->tensorboard~=2.5->tensorflow-gpu) (1.3.0)\n",
      "Requirement already satisfied: importlib-metadata in /usr/local/lib/python3.7/dist-packages (from markdown>=2.6.8->tensorboard~=2.5->tensorflow-gpu) (4.6.1)\n",
      "Requirement already satisfied: pyasn1<0.5.0,>=0.4.6 in /usr/local/lib/python3.7/dist-packages (from pyasn1-modules>=0.2.1->google-auth<2,>=1.6.3->tensorboard~=2.5->tensorflow-gpu) (0.4.8)\n",
      "Requirement already satisfied: urllib3!=1.25.0,!=1.25.1,<1.26,>=1.21.1 in /usr/local/lib/python3.7/dist-packages (from requests<3,>=2.21.0->tensorboard~=2.5->tensorflow-gpu) (1.24.3)\n",
      "Requirement already satisfied: certifi>=2017.4.17 in /usr/local/lib/python3.7/dist-packages (from requests<3,>=2.21.0->tensorboard~=2.5->tensorflow-gpu) (2021.5.30)\n",
      "Requirement already satisfied: chardet<4,>=3.0.2 in /usr/local/lib/python3.7/dist-packages (from requests<3,>=2.21.0->tensorboard~=2.5->tensorflow-gpu) (3.0.4)\n",
      "Requirement already satisfied: idna<3,>=2.5 in /usr/local/lib/python3.7/dist-packages (from requests<3,>=2.21.0->tensorboard~=2.5->tensorflow-gpu) (2.10)\n",
      "Requirement already satisfied: oauthlib>=3.0.0 in /usr/local/lib/python3.7/dist-packages (from requests-oauthlib>=0.7.0->google-auth-oauthlib<0.5,>=0.4.1->tensorboard~=2.5->tensorflow-gpu) (3.1.1)\n",
      "Requirement already satisfied: zipp>=0.5 in /usr/local/lib/python3.7/dist-packages (from importlib-metadata->markdown>=2.6.8->tensorboard~=2.5->tensorflow-gpu) (3.5.0)\n"
     ]
    }
   ],
   "source": [
    "!pip install --upgrade tensorflow-gpu"
   ]
  },
  {
   "cell_type": "code",
   "execution_count": 2,
   "metadata": {
    "colab": {
     "base_uri": "https://localhost:8080/"
    },
    "id": "hso4irG2EG8e",
    "outputId": "ac38f6a8-42a0-4c77-c0c8-ff6443b3bed4"
   },
   "outputs": [
    {
     "name": "stdout",
     "output_type": "stream",
     "text": [
      "Collecting keras_layer_normalization\n",
      "  Downloading keras-layer-normalization-0.15.0.tar.gz (4.2 kB)\n",
      "Requirement already satisfied: numpy in /usr/local/lib/python3.7/dist-packages (from keras_layer_normalization) (1.19.5)\n",
      "Requirement already satisfied: Keras in /usr/local/lib/python3.7/dist-packages (from keras_layer_normalization) (2.4.3)\n",
      "Requirement already satisfied: h5py in /usr/local/lib/python3.7/dist-packages (from Keras->keras_layer_normalization) (3.1.0)\n",
      "Requirement already satisfied: scipy>=0.14 in /usr/local/lib/python3.7/dist-packages (from Keras->keras_layer_normalization) (1.4.1)\n",
      "Requirement already satisfied: pyyaml in /usr/local/lib/python3.7/dist-packages (from Keras->keras_layer_normalization) (3.13)\n",
      "Requirement already satisfied: cached-property in /usr/local/lib/python3.7/dist-packages (from h5py->Keras->keras_layer_normalization) (1.5.2)\n",
      "Building wheels for collected packages: keras-layer-normalization\n",
      "  Building wheel for keras-layer-normalization (setup.py) ... \u001b[?25l\u001b[?25hdone\n",
      "  Created wheel for keras-layer-normalization: filename=keras_layer_normalization-0.15.0-py3-none-any.whl size=5224 sha256=fe8993ab364f423165b1cb5cc8f631f14e802a37db8f756e8d70512391310067\n",
      "  Stored in directory: /root/.cache/pip/wheels/4d/be/fe/55422f77ac11fe6ddcb471198038de8a26b5a4dd1557883c1e\n",
      "Successfully built keras-layer-normalization\n",
      "Installing collected packages: keras-layer-normalization\n",
      "Successfully installed keras-layer-normalization-0.15.0\n"
     ]
    }
   ],
   "source": [
    "!pip install keras_layer_normalization"
   ]
  },
  {
   "cell_type": "code",
   "execution_count": 3,
   "metadata": {
    "colab": {
     "base_uri": "https://localhost:8080/"
    },
    "id": "vi6-gOdEo2CY",
    "outputId": "00f737fe-766c-4c06-858a-103f22b01309"
   },
   "outputs": [
    {
     "name": "stdout",
     "output_type": "stream",
     "text": [
      "Requirement already satisfied: h5py in /usr/local/lib/python3.7/dist-packages (3.1.0)\n",
      "Requirement already satisfied: cached-property in /usr/local/lib/python3.7/dist-packages (from h5py) (1.5.2)\n",
      "Requirement already satisfied: numpy>=1.14.5 in /usr/local/lib/python3.7/dist-packages (from h5py) (1.19.5)\n"
     ]
    }
   ],
   "source": [
    "!pip install h5py"
   ]
  },
  {
   "cell_type": "code",
   "execution_count": 1,
   "metadata": {
    "_cell_guid": "b1076dfc-b9ad-4769-8c92-a6c4dae69d19",
    "_uuid": "8f2839f25d086af736a60e9eeb907d3b93b6e0e5",
    "id": "yRl7FlxvEG8g"
   },
   "outputs": [],
   "source": [
    "# This Python 3 environment comes with many helpful analytics libraries installed\n",
    "# It is defined by the kaggle/python docker image: https://github.com/kaggle/docker-python\n",
    "# For example, here's several helpful packages to load in \n",
    "\n",
    "import numpy as np # linear algebra\n",
    "import pandas as pd # data processing, CSV file I/O (e.g. pd.read_csv)\n",
    "\n",
    "# Input data files are available in the \"../input/\" directory.\n",
    "# For example, running this (by clicking run or pressing Shift+Enter) will list the files in the input directory\n",
    "\n",
    "import os\n",
    "import string\n",
    "from string import digits\n",
    "import matplotlib.pyplot as plt\n",
    "\t\n",
    "%matplotlib inline\n",
    "import re\n",
    "from keras_layer_normalization import LayerNormalization\n",
    "\n",
    "\n",
    "import seaborn as sns\n",
    "from sklearn.utils import shuffle\n",
    "from sklearn.model_selection import train_test_split\n",
    "from keras_layer_normalization import LayerNormalization\n",
    "\n",
    "from keras.models import Model\n",
    "\n",
    "\n",
    "# Any results you write to the current directory are saved as output."
   ]
  },
  {
   "cell_type": "code",
   "execution_count": 2,
   "metadata": {
    "id": "ugHO_jFCJcGX"
   },
   "outputs": [],
   "source": [
    "from keras.layers import Input, LSTM, Embedding, Dense\n"
   ]
  },
  {
   "cell_type": "code",
   "execution_count": 3,
   "metadata": {
    "id": "oMQB_1dvvS9l"
   },
   "outputs": [],
   "source": [
    "from keras.callbacks import ModelCheckpoint, EarlyStopping\n"
   ]
  },
  {
   "cell_type": "code",
   "execution_count": 4,
   "metadata": {
    "_cell_guid": "79c7e3d0-c299-4dcb-8224-4455121ee9b0",
    "_uuid": "d629ff2d2480ee46fbb7e2d37f6b5fab8052498a",
    "id": "v0vrdiWyEG8i"
   },
   "outputs": [],
   "source": [
    "lines=pd.read_excel(\"TotalS.xlsx\")"
   ]
  },
  {
   "cell_type": "code",
   "execution_count": 5,
   "metadata": {
    "colab": {
     "base_uri": "https://localhost:8080/",
     "height": 555
    },
    "id": "NDdl0aWNEG8j",
    "outputId": "997b0220-d336-470f-8b4b-47d24369939c"
   },
   "outputs": [
    {
     "ename": "KeyError",
     "evalue": "'source'",
     "output_type": "error",
     "traceback": [
      "\u001b[1;31m---------------------------------------------------------------------------\u001b[0m",
      "\u001b[1;31mKeyError\u001b[0m                                  Traceback (most recent call last)",
      "\u001b[1;32m~\\Anaconda3\\lib\\site-packages\\pandas\\core\\indexes\\base.py\u001b[0m in \u001b[0;36mget_loc\u001b[1;34m(self, key, method, tolerance)\u001b[0m\n\u001b[0;32m   3062\u001b[0m             \u001b[1;32mtry\u001b[0m\u001b[1;33m:\u001b[0m\u001b[1;33m\u001b[0m\u001b[0m\n\u001b[1;32m-> 3063\u001b[1;33m                 \u001b[1;32mreturn\u001b[0m \u001b[0mself\u001b[0m\u001b[1;33m.\u001b[0m\u001b[0m_engine\u001b[0m\u001b[1;33m.\u001b[0m\u001b[0mget_loc\u001b[0m\u001b[1;33m(\u001b[0m\u001b[0mkey\u001b[0m\u001b[1;33m)\u001b[0m\u001b[1;33m\u001b[0m\u001b[0m\n\u001b[0m\u001b[0;32m   3064\u001b[0m             \u001b[1;32mexcept\u001b[0m \u001b[0mKeyError\u001b[0m\u001b[1;33m:\u001b[0m\u001b[1;33m\u001b[0m\u001b[0m\n",
      "\u001b[1;32mpandas\\_libs\\index.pyx\u001b[0m in \u001b[0;36mpandas._libs.index.IndexEngine.get_loc\u001b[1;34m()\u001b[0m\n",
      "\u001b[1;32mpandas\\_libs\\index.pyx\u001b[0m in \u001b[0;36mpandas._libs.index.IndexEngine.get_loc\u001b[1;34m()\u001b[0m\n",
      "\u001b[1;32mpandas\\_libs\\hashtable_class_helper.pxi\u001b[0m in \u001b[0;36mpandas._libs.hashtable.PyObjectHashTable.get_item\u001b[1;34m()\u001b[0m\n",
      "\u001b[1;32mpandas\\_libs\\hashtable_class_helper.pxi\u001b[0m in \u001b[0;36mpandas._libs.hashtable.PyObjectHashTable.get_item\u001b[1;34m()\u001b[0m\n",
      "\u001b[1;31mKeyError\u001b[0m: 'source'",
      "\nDuring handling of the above exception, another exception occurred:\n",
      "\u001b[1;31mKeyError\u001b[0m                                  Traceback (most recent call last)",
      "\u001b[1;32m<ipython-input-5-e193ae8631d3>\u001b[0m in \u001b[0;36m<module>\u001b[1;34m()\u001b[0m\n\u001b[1;32m----> 1\u001b[1;33m \u001b[0mlines\u001b[0m\u001b[1;33m[\u001b[0m\u001b[1;34m'source'\u001b[0m\u001b[1;33m]\u001b[0m\u001b[1;33m.\u001b[0m\u001b[0mvalue_counts\u001b[0m\u001b[1;33m(\u001b[0m\u001b[1;33m)\u001b[0m\u001b[1;33m\u001b[0m\u001b[0m\n\u001b[0m",
      "\u001b[1;32m~\\Anaconda3\\lib\\site-packages\\pandas\\core\\frame.py\u001b[0m in \u001b[0;36m__getitem__\u001b[1;34m(self, key)\u001b[0m\n\u001b[0;32m   2683\u001b[0m             \u001b[1;32mreturn\u001b[0m \u001b[0mself\u001b[0m\u001b[1;33m.\u001b[0m\u001b[0m_getitem_multilevel\u001b[0m\u001b[1;33m(\u001b[0m\u001b[0mkey\u001b[0m\u001b[1;33m)\u001b[0m\u001b[1;33m\u001b[0m\u001b[0m\n\u001b[0;32m   2684\u001b[0m         \u001b[1;32melse\u001b[0m\u001b[1;33m:\u001b[0m\u001b[1;33m\u001b[0m\u001b[0m\n\u001b[1;32m-> 2685\u001b[1;33m             \u001b[1;32mreturn\u001b[0m \u001b[0mself\u001b[0m\u001b[1;33m.\u001b[0m\u001b[0m_getitem_column\u001b[0m\u001b[1;33m(\u001b[0m\u001b[0mkey\u001b[0m\u001b[1;33m)\u001b[0m\u001b[1;33m\u001b[0m\u001b[0m\n\u001b[0m\u001b[0;32m   2686\u001b[0m \u001b[1;33m\u001b[0m\u001b[0m\n\u001b[0;32m   2687\u001b[0m     \u001b[1;32mdef\u001b[0m \u001b[0m_getitem_column\u001b[0m\u001b[1;33m(\u001b[0m\u001b[0mself\u001b[0m\u001b[1;33m,\u001b[0m \u001b[0mkey\u001b[0m\u001b[1;33m)\u001b[0m\u001b[1;33m:\u001b[0m\u001b[1;33m\u001b[0m\u001b[0m\n",
      "\u001b[1;32m~\\Anaconda3\\lib\\site-packages\\pandas\\core\\frame.py\u001b[0m in \u001b[0;36m_getitem_column\u001b[1;34m(self, key)\u001b[0m\n\u001b[0;32m   2690\u001b[0m         \u001b[1;31m# get column\u001b[0m\u001b[1;33m\u001b[0m\u001b[1;33m\u001b[0m\u001b[0m\n\u001b[0;32m   2691\u001b[0m         \u001b[1;32mif\u001b[0m \u001b[0mself\u001b[0m\u001b[1;33m.\u001b[0m\u001b[0mcolumns\u001b[0m\u001b[1;33m.\u001b[0m\u001b[0mis_unique\u001b[0m\u001b[1;33m:\u001b[0m\u001b[1;33m\u001b[0m\u001b[0m\n\u001b[1;32m-> 2692\u001b[1;33m             \u001b[1;32mreturn\u001b[0m \u001b[0mself\u001b[0m\u001b[1;33m.\u001b[0m\u001b[0m_get_item_cache\u001b[0m\u001b[1;33m(\u001b[0m\u001b[0mkey\u001b[0m\u001b[1;33m)\u001b[0m\u001b[1;33m\u001b[0m\u001b[0m\n\u001b[0m\u001b[0;32m   2693\u001b[0m \u001b[1;33m\u001b[0m\u001b[0m\n\u001b[0;32m   2694\u001b[0m         \u001b[1;31m# duplicate columns & possible reduce dimensionality\u001b[0m\u001b[1;33m\u001b[0m\u001b[1;33m\u001b[0m\u001b[0m\n",
      "\u001b[1;32m~\\Anaconda3\\lib\\site-packages\\pandas\\core\\generic.py\u001b[0m in \u001b[0;36m_get_item_cache\u001b[1;34m(self, item)\u001b[0m\n\u001b[0;32m   2484\u001b[0m         \u001b[0mres\u001b[0m \u001b[1;33m=\u001b[0m \u001b[0mcache\u001b[0m\u001b[1;33m.\u001b[0m\u001b[0mget\u001b[0m\u001b[1;33m(\u001b[0m\u001b[0mitem\u001b[0m\u001b[1;33m)\u001b[0m\u001b[1;33m\u001b[0m\u001b[0m\n\u001b[0;32m   2485\u001b[0m         \u001b[1;32mif\u001b[0m \u001b[0mres\u001b[0m \u001b[1;32mis\u001b[0m \u001b[1;32mNone\u001b[0m\u001b[1;33m:\u001b[0m\u001b[1;33m\u001b[0m\u001b[0m\n\u001b[1;32m-> 2486\u001b[1;33m             \u001b[0mvalues\u001b[0m \u001b[1;33m=\u001b[0m \u001b[0mself\u001b[0m\u001b[1;33m.\u001b[0m\u001b[0m_data\u001b[0m\u001b[1;33m.\u001b[0m\u001b[0mget\u001b[0m\u001b[1;33m(\u001b[0m\u001b[0mitem\u001b[0m\u001b[1;33m)\u001b[0m\u001b[1;33m\u001b[0m\u001b[0m\n\u001b[0m\u001b[0;32m   2487\u001b[0m             \u001b[0mres\u001b[0m \u001b[1;33m=\u001b[0m \u001b[0mself\u001b[0m\u001b[1;33m.\u001b[0m\u001b[0m_box_item_values\u001b[0m\u001b[1;33m(\u001b[0m\u001b[0mitem\u001b[0m\u001b[1;33m,\u001b[0m \u001b[0mvalues\u001b[0m\u001b[1;33m)\u001b[0m\u001b[1;33m\u001b[0m\u001b[0m\n\u001b[0;32m   2488\u001b[0m             \u001b[0mcache\u001b[0m\u001b[1;33m[\u001b[0m\u001b[0mitem\u001b[0m\u001b[1;33m]\u001b[0m \u001b[1;33m=\u001b[0m \u001b[0mres\u001b[0m\u001b[1;33m\u001b[0m\u001b[0m\n",
      "\u001b[1;32m~\\Anaconda3\\lib\\site-packages\\pandas\\core\\internals.py\u001b[0m in \u001b[0;36mget\u001b[1;34m(self, item, fastpath)\u001b[0m\n\u001b[0;32m   4113\u001b[0m \u001b[1;33m\u001b[0m\u001b[0m\n\u001b[0;32m   4114\u001b[0m             \u001b[1;32mif\u001b[0m \u001b[1;32mnot\u001b[0m \u001b[0misna\u001b[0m\u001b[1;33m(\u001b[0m\u001b[0mitem\u001b[0m\u001b[1;33m)\u001b[0m\u001b[1;33m:\u001b[0m\u001b[1;33m\u001b[0m\u001b[0m\n\u001b[1;32m-> 4115\u001b[1;33m                 \u001b[0mloc\u001b[0m \u001b[1;33m=\u001b[0m \u001b[0mself\u001b[0m\u001b[1;33m.\u001b[0m\u001b[0mitems\u001b[0m\u001b[1;33m.\u001b[0m\u001b[0mget_loc\u001b[0m\u001b[1;33m(\u001b[0m\u001b[0mitem\u001b[0m\u001b[1;33m)\u001b[0m\u001b[1;33m\u001b[0m\u001b[0m\n\u001b[0m\u001b[0;32m   4116\u001b[0m             \u001b[1;32melse\u001b[0m\u001b[1;33m:\u001b[0m\u001b[1;33m\u001b[0m\u001b[0m\n\u001b[0;32m   4117\u001b[0m                 \u001b[0mindexer\u001b[0m \u001b[1;33m=\u001b[0m \u001b[0mnp\u001b[0m\u001b[1;33m.\u001b[0m\u001b[0marange\u001b[0m\u001b[1;33m(\u001b[0m\u001b[0mlen\u001b[0m\u001b[1;33m(\u001b[0m\u001b[0mself\u001b[0m\u001b[1;33m.\u001b[0m\u001b[0mitems\u001b[0m\u001b[1;33m)\u001b[0m\u001b[1;33m)\u001b[0m\u001b[1;33m[\u001b[0m\u001b[0misna\u001b[0m\u001b[1;33m(\u001b[0m\u001b[0mself\u001b[0m\u001b[1;33m.\u001b[0m\u001b[0mitems\u001b[0m\u001b[1;33m)\u001b[0m\u001b[1;33m]\u001b[0m\u001b[1;33m\u001b[0m\u001b[0m\n",
      "\u001b[1;32m~\\Anaconda3\\lib\\site-packages\\pandas\\core\\indexes\\base.py\u001b[0m in \u001b[0;36mget_loc\u001b[1;34m(self, key, method, tolerance)\u001b[0m\n\u001b[0;32m   3063\u001b[0m                 \u001b[1;32mreturn\u001b[0m \u001b[0mself\u001b[0m\u001b[1;33m.\u001b[0m\u001b[0m_engine\u001b[0m\u001b[1;33m.\u001b[0m\u001b[0mget_loc\u001b[0m\u001b[1;33m(\u001b[0m\u001b[0mkey\u001b[0m\u001b[1;33m)\u001b[0m\u001b[1;33m\u001b[0m\u001b[0m\n\u001b[0;32m   3064\u001b[0m             \u001b[1;32mexcept\u001b[0m \u001b[0mKeyError\u001b[0m\u001b[1;33m:\u001b[0m\u001b[1;33m\u001b[0m\u001b[0m\n\u001b[1;32m-> 3065\u001b[1;33m                 \u001b[1;32mreturn\u001b[0m \u001b[0mself\u001b[0m\u001b[1;33m.\u001b[0m\u001b[0m_engine\u001b[0m\u001b[1;33m.\u001b[0m\u001b[0mget_loc\u001b[0m\u001b[1;33m(\u001b[0m\u001b[0mself\u001b[0m\u001b[1;33m.\u001b[0m\u001b[0m_maybe_cast_indexer\u001b[0m\u001b[1;33m(\u001b[0m\u001b[0mkey\u001b[0m\u001b[1;33m)\u001b[0m\u001b[1;33m)\u001b[0m\u001b[1;33m\u001b[0m\u001b[0m\n\u001b[0m\u001b[0;32m   3066\u001b[0m \u001b[1;33m\u001b[0m\u001b[0m\n\u001b[0;32m   3067\u001b[0m         \u001b[0mindexer\u001b[0m \u001b[1;33m=\u001b[0m \u001b[0mself\u001b[0m\u001b[1;33m.\u001b[0m\u001b[0mget_indexer\u001b[0m\u001b[1;33m(\u001b[0m\u001b[1;33m[\u001b[0m\u001b[0mkey\u001b[0m\u001b[1;33m]\u001b[0m\u001b[1;33m,\u001b[0m \u001b[0mmethod\u001b[0m\u001b[1;33m=\u001b[0m\u001b[0mmethod\u001b[0m\u001b[1;33m,\u001b[0m \u001b[0mtolerance\u001b[0m\u001b[1;33m=\u001b[0m\u001b[0mtolerance\u001b[0m\u001b[1;33m)\u001b[0m\u001b[1;33m\u001b[0m\u001b[0m\n",
      "\u001b[1;32mpandas\\_libs\\index.pyx\u001b[0m in \u001b[0;36mpandas._libs.index.IndexEngine.get_loc\u001b[1;34m()\u001b[0m\n",
      "\u001b[1;32mpandas\\_libs\\index.pyx\u001b[0m in \u001b[0;36mpandas._libs.index.IndexEngine.get_loc\u001b[1;34m()\u001b[0m\n",
      "\u001b[1;32mpandas\\_libs\\hashtable_class_helper.pxi\u001b[0m in \u001b[0;36mpandas._libs.hashtable.PyObjectHashTable.get_item\u001b[1;34m()\u001b[0m\n",
      "\u001b[1;32mpandas\\_libs\\hashtable_class_helper.pxi\u001b[0m in \u001b[0;36mpandas._libs.hashtable.PyObjectHashTable.get_item\u001b[1;34m()\u001b[0m\n",
      "\u001b[1;31mKeyError\u001b[0m: 'source'"
     ]
    }
   ],
   "source": [
    "lines['source'].value_counts()"
   ]
  },
  {
   "cell_type": "code",
   "execution_count": null,
   "metadata": {
    "id": "CbivS2L6EG8j"
   },
   "outputs": [],
   "source": [
    "lines=lines[lines['source']=='ted']"
   ]
  },
  {
   "cell_type": "code",
   "execution_count": 14,
   "metadata": {
    "colab": {
     "base_uri": "https://localhost:8080/",
     "height": 665
    },
    "id": "JfN7m9HJEG8l",
    "outputId": "2c4e8a7a-3ed5-4fc3-bb68-04292b1cc583"
   },
   "outputs": [
    {
     "data": {
      "text/html": [
       "<div>\n",
       "<style scoped>\n",
       "    .dataframe tbody tr th:only-of-type {\n",
       "        vertical-align: middle;\n",
       "    }\n",
       "\n",
       "    .dataframe tbody tr th {\n",
       "        vertical-align: top;\n",
       "    }\n",
       "\n",
       "    .dataframe thead th {\n",
       "        text-align: right;\n",
       "    }\n",
       "</style>\n",
       "<table border=\"1\" class=\"dataframe\">\n",
       "  <thead>\n",
       "    <tr style=\"text-align: right;\">\n",
       "      <th></th>\n",
       "      <th>Urdu</th>\n",
       "      <th>Sindhi</th>\n",
       "    </tr>\n",
       "  </thead>\n",
       "  <tbody>\n",
       "    <tr>\n",
       "      <th>0</th>\n",
       "      <td>منہ چھپائے ہوئے گزرا ہے جو احباب سے آجاولین م...</td>\n",
       "      <td>سوتر لڪيل آهي جيڪو مغروني سالن مان آهي جنهن کي...</td>\n",
       "    </tr>\n",
       "    <tr>\n",
       "      <th>1</th>\n",
       "      <td>ایک سا حال ہے جدھر جاؤآپکو پتہ ہے اکثر کالجز ...</td>\n",
       "      <td>اتي وقت جو معاملو آهي توهان know اڻو ٿا ته اڪث...</td>\n",
       "    </tr>\n",
       "    <tr>\n",
       "      <th>2</th>\n",
       "      <td>یہاں تو سورج آگ برسا رہا ہے یہ ایونٹ پاکستان ک...</td>\n",
       "      <td>هتي سج جلائڻ واري باهه آهي اهو واقعو پاڪستان ج...</td>\n",
       "    </tr>\n",
       "    <tr>\n",
       "      <th>3</th>\n",
       "      <td>ڈھائی فیصد پر میں یقین نہیں رکھتی او بھائی تیر...</td>\n",
       "      <td>اڌ سيڪڙو تي مون کي يقين نه آهي ڀاء توهان جو ڀا...</td>\n",
       "    </tr>\n",
       "    <tr>\n",
       "      <th>4</th>\n",
       "      <td>بہت بہت مبارک ہو اہل ہند کو موجودہ دور میں کچھ...</td>\n",
       "      <td>مبارڪون هجن ڪجھ ماڻھو موجوده دور ڪجھ ماڻھو ھڪڙ...</td>\n",
       "    </tr>\n",
       "    <tr>\n",
       "      <th>5</th>\n",
       "      <td>اینکہ کنوں مے گذ رد در شمار نشیبوں میں ہر سمت ...</td>\n",
       "      <td>بيان ڪندڙن اعلان ڪندو آهي ڪجهه وقت کان اڳ شامل...</td>\n",
       "    </tr>\n",
       "    <tr>\n",
       "      <th>6</th>\n",
       "      <td>ابتر نہیں کوئی ناتواں سے بڑھ کرورنہ ان شوخیوں ...</td>\n",
       "      <td>ڪو به ڪنهن به قومن کان وڌيڪ قومن جي جوابن جو ج...</td>\n",
       "    </tr>\n",
       "    <tr>\n",
       "      <th>7</th>\n",
       "      <td>چوری کے گڑ سے حلوہ بنایا جائے تو اور بھی مزید</td>\n",
       "      <td>جيڪڏهن توهان چوري جي چوري وڌيڪ چوري ڪئي وئي آهي</td>\n",
       "    </tr>\n",
       "    <tr>\n",
       "      <th>8</th>\n",
       "      <td>آپ بھی تو اپنے متعلق کچھ بتائیں اس صورتحال میں...</td>\n",
       "      <td>توهان هن صورتحال عمر سادق توهان جي باري ڪجهه ب...</td>\n",
       "    </tr>\n",
       "    <tr>\n",
       "      <th>9</th>\n",
       "      <td>تاکہ کچھ ٹائم ادھر بھی ضائع ہو جائے</td>\n",
       "      <td>انهي ڪري ته ڪجهه وقت به ضايع ڪري ٿو</td>\n",
       "    </tr>\n",
       "    <tr>\n",
       "      <th>10</th>\n",
       "      <td>وائےیہ سن کر وہ شخص چل پڑا سیکولر ایجنڈا تو ک...</td>\n",
       "      <td>گودام ٻڌڻ جيڪو شخص هو سيڪيولر ايجنڊا هو</td>\n",
       "    </tr>\n",
       "    <tr>\n",
       "      <th>11</th>\n",
       "      <td>مسلم لیگ تو</td>\n",
       "      <td>مسلمان ليگ</td>\n",
       "    </tr>\n",
       "    <tr>\n",
       "      <th>12</th>\n",
       "      <td>ایرانی اپوزیشن کے مطابقکے صدارتی انتخاب</td>\n",
       "      <td>صدارتي اليڪشن جي مخالفت جي مطابق</td>\n",
       "    </tr>\n",
       "    <tr>\n",
       "      <th>13</th>\n",
       "      <td>حق بات تو یہ ہے کہ یہ بہت عمدہ کھیل ہے ہم نے ...</td>\n",
       "      <td>سچ اهو آهي ته اها هڪ عظيم راند آهي اسان ٻيهر ک...</td>\n",
       "    </tr>\n",
       "    <tr>\n",
       "      <th>14</th>\n",
       "      <td>دونوں ممالک کے درمیان کرکٹ تعلقات کی خرابی کو</td>\n",
       "      <td>ٻن ملڪن جي وچ ڪرڪيٽ رشتي جي غلطي</td>\n",
       "    </tr>\n",
       "    <tr>\n",
       "      <th>15</th>\n",
       "      <td>نہ ہونٹوں میں جنبش کا یارا عندلیب سے بہتر اور...</td>\n",
       "      <td>نه ئي لبش جي يارن کان بهتر ٿي سگهي ٿو جيڪي شيو...</td>\n",
       "    </tr>\n",
       "    <tr>\n",
       "      <th>16</th>\n",
       "      <td>میری بہناب میں آپ سے آپ ہی کےلہجے میں مخاطب</td>\n",
       "      <td>مان تنهنجي ڀيڻ منهنجي وهڪري آهيان</td>\n",
       "    </tr>\n",
       "    <tr>\n",
       "      <th>17</th>\n",
       "      <td>الو ہواسی آسانی میں ہم غیبت اور بہتان جیسے گنا...</td>\n",
       "      <td>مان آسانيء سان گناهن جي احساس ڪيترن ئي گناهن آ...</td>\n",
       "    </tr>\n",
       "    <tr>\n",
       "      <th>18</th>\n",
       "      <td>پھر تو یہ زیادہ اچھی سروس ہے دائی کی لڑکی خور...</td>\n",
       "      <td>پوء پوء اها سٺي خدمت آهي ڇوڪري جي ڇوڪري کي چشم...</td>\n",
       "    </tr>\n",
       "    <tr>\n",
       "      <th>19</th>\n",
       "      <td>فرمایا بیشک ا لوگوں پر بڑی شفقت فرمانے وا</td>\n",
       "      <td>هن چيو ته بيشڪ بيشڪ به ڳاله ماڻهو آهي</td>\n",
       "    </tr>\n",
       "  </tbody>\n",
       "</table>\n",
       "</div>"
      ],
      "text/plain": [
       "                                                 Urdu  \\\n",
       "0    منہ چھپائے ہوئے گزرا ہے جو احباب سے آجاولین م...   \n",
       "1    ایک سا حال ہے جدھر جاؤآپکو پتہ ہے اکثر کالجز ...   \n",
       "2   یہاں تو سورج آگ برسا رہا ہے یہ ایونٹ پاکستان ک...   \n",
       "3   ڈھائی فیصد پر میں یقین نہیں رکھتی او بھائی تیر...   \n",
       "4   بہت بہت مبارک ہو اہل ہند کو موجودہ دور میں کچھ...   \n",
       "5   اینکہ کنوں مے گذ رد در شمار نشیبوں میں ہر سمت ...   \n",
       "6   ابتر نہیں کوئی ناتواں سے بڑھ کرورنہ ان شوخیوں ...   \n",
       "7       چوری کے گڑ سے حلوہ بنایا جائے تو اور بھی مزید   \n",
       "8   آپ بھی تو اپنے متعلق کچھ بتائیں اس صورتحال میں...   \n",
       "9                تاکہ کچھ ٹائم ادھر بھی ضائع ہو جائے    \n",
       "10   وائےیہ سن کر وہ شخص چل پڑا سیکولر ایجنڈا تو ک...   \n",
       "11                                       مسلم لیگ تو    \n",
       "12           ایرانی اپوزیشن کے مطابقکے صدارتی انتخاب    \n",
       "13   حق بات تو یہ ہے کہ یہ بہت عمدہ کھیل ہے ہم نے ...   \n",
       "14     دونوں ممالک کے درمیان کرکٹ تعلقات کی خرابی کو    \n",
       "15   نہ ہونٹوں میں جنبش کا یارا عندلیب سے بہتر اور...   \n",
       "16        میری بہناب میں آپ سے آپ ہی کےلہجے میں مخاطب   \n",
       "17  الو ہواسی آسانی میں ہم غیبت اور بہتان جیسے گنا...   \n",
       "18   پھر تو یہ زیادہ اچھی سروس ہے دائی کی لڑکی خور...   \n",
       "19          فرمایا بیشک ا لوگوں پر بڑی شفقت فرمانے وا   \n",
       "\n",
       "                                               Sindhi  \n",
       "0   سوتر لڪيل آهي جيڪو مغروني سالن مان آهي جنهن کي...  \n",
       "1   اتي وقت جو معاملو آهي توهان know اڻو ٿا ته اڪث...  \n",
       "2   هتي سج جلائڻ واري باهه آهي اهو واقعو پاڪستان ج...  \n",
       "3   اڌ سيڪڙو تي مون کي يقين نه آهي ڀاء توهان جو ڀا...  \n",
       "4   مبارڪون هجن ڪجھ ماڻھو موجوده دور ڪجھ ماڻھو ھڪڙ...  \n",
       "5   بيان ڪندڙن اعلان ڪندو آهي ڪجهه وقت کان اڳ شامل...  \n",
       "6   ڪو به ڪنهن به قومن کان وڌيڪ قومن جي جوابن جو ج...  \n",
       "7     جيڪڏهن توهان چوري جي چوري وڌيڪ چوري ڪئي وئي آهي  \n",
       "8   توهان هن صورتحال عمر سادق توهان جي باري ڪجهه ب...  \n",
       "9                 انهي ڪري ته ڪجهه وقت به ضايع ڪري ٿو  \n",
       "10            گودام ٻڌڻ جيڪو شخص هو سيڪيولر ايجنڊا هو  \n",
       "11                                         مسلمان ليگ  \n",
       "12                   صدارتي اليڪشن جي مخالفت جي مطابق  \n",
       "13  سچ اهو آهي ته اها هڪ عظيم راند آهي اسان ٻيهر ک...  \n",
       "14                   ٻن ملڪن جي وچ ڪرڪيٽ رشتي جي غلطي  \n",
       "15  نه ئي لبش جي يارن کان بهتر ٿي سگهي ٿو جيڪي شيو...  \n",
       "16                  مان تنهنجي ڀيڻ منهنجي وهڪري آهيان  \n",
       "17  مان آسانيء سان گناهن جي احساس ڪيترن ئي گناهن آ...  \n",
       "18  پوء پوء اها سٺي خدمت آهي ڇوڪري جي ڇوڪري کي چشم...  \n",
       "19              هن چيو ته بيشڪ بيشڪ به ڳاله ماڻهو آهي  "
      ]
     },
     "execution_count": 14,
     "metadata": {},
     "output_type": "execute_result"
    }
   ],
   "source": [
    "lines.head(20)"
   ]
  },
  {
   "cell_type": "code",
   "execution_count": 5,
   "metadata": {
    "colab": {
     "base_uri": "https://localhost:8080/"
    },
    "id": "9tRAaxRXEG8o",
    "outputId": "e60d816a-d6f7-4f94-93cb-0fc5146b2e66"
   },
   "outputs": [
    {
     "data": {
      "text/plain": [
       "Urdu      1\n",
       "Sindhi    5\n",
       "dtype: int64"
      ]
     },
     "execution_count": 5,
     "metadata": {},
     "output_type": "execute_result"
    }
   ],
   "source": [
    "pd.isnull(lines).sum()"
   ]
  },
  {
   "cell_type": "code",
   "execution_count": 6,
   "metadata": {
    "id": "wfdpaiemEG8q"
   },
   "outputs": [],
   "source": [
    "lines.dropna(inplace=True)"
   ]
  },
  {
   "cell_type": "code",
   "execution_count": 7,
   "metadata": {
    "colab": {
     "base_uri": "https://localhost:8080/",
     "height": 417
    },
    "id": "CjquG_pREG8r",
    "outputId": "82ad7482-4dee-48a7-afbd-4936292417fd"
   },
   "outputs": [
    {
     "data": {
      "text/html": [
       "<div>\n",
       "<style scoped>\n",
       "    .dataframe tbody tr th:only-of-type {\n",
       "        vertical-align: middle;\n",
       "    }\n",
       "\n",
       "    .dataframe tbody tr th {\n",
       "        vertical-align: top;\n",
       "    }\n",
       "\n",
       "    .dataframe thead th {\n",
       "        text-align: right;\n",
       "    }\n",
       "</style>\n",
       "<table border=\"1\" class=\"dataframe\">\n",
       "  <thead>\n",
       "    <tr style=\"text-align: right;\">\n",
       "      <th></th>\n",
       "      <th>Urdu</th>\n",
       "      <th>Sindhi</th>\n",
       "    </tr>\n",
       "  </thead>\n",
       "  <tbody>\n",
       "    <tr>\n",
       "      <th>0</th>\n",
       "      <td>منہ چھپائے ہوئے گزرا ہے جو احباب سے آجاولین م...</td>\n",
       "      <td>سوتر لڪيل آهي جيڪو مغروني سالن مان آهي جنهن کي...</td>\n",
       "    </tr>\n",
       "    <tr>\n",
       "      <th>1</th>\n",
       "      <td>ایک سا حال ہے جدھر جاؤآپکو پتہ ہے اکثر کالجز ...</td>\n",
       "      <td>اتي وقت جو معاملو آهي توهان know اڻو ٿا ته اڪث...</td>\n",
       "    </tr>\n",
       "    <tr>\n",
       "      <th>2</th>\n",
       "      <td>یہاں تو سورج آگ برسا رہا ہے یہ ایونٹ پاکستان ک...</td>\n",
       "      <td>هتي سج جلائڻ واري باهه آهي اهو واقعو پاڪستان ج...</td>\n",
       "    </tr>\n",
       "    <tr>\n",
       "      <th>3</th>\n",
       "      <td>ڈھائی فیصد پر میں یقین نہیں رکھتی او بھائی تیر...</td>\n",
       "      <td>اڌ سيڪڙو تي مون کي يقين نه آهي ڀاء توهان جو ڀا...</td>\n",
       "    </tr>\n",
       "    <tr>\n",
       "      <th>4</th>\n",
       "      <td>بہت بہت مبارک ہو اہل ہند کو موجودہ دور میں کچھ...</td>\n",
       "      <td>مبارڪون هجن ڪجھ ماڻھو موجوده دور ڪجھ ماڻھو ھڪڙ...</td>\n",
       "    </tr>\n",
       "    <tr>\n",
       "      <th>5</th>\n",
       "      <td>اینکہ کنوں مے گذ رد در شمار نشیبوں میں ہر سمت ...</td>\n",
       "      <td>بيان ڪندڙن اعلان ڪندو آهي ڪجهه وقت کان اڳ شامل...</td>\n",
       "    </tr>\n",
       "    <tr>\n",
       "      <th>6</th>\n",
       "      <td>ابتر نہیں کوئی ناتواں سے بڑھ کرورنہ ان شوخیوں ...</td>\n",
       "      <td>ڪو به ڪنهن به قومن کان وڌيڪ قومن جي جوابن جو ج...</td>\n",
       "    </tr>\n",
       "    <tr>\n",
       "      <th>7</th>\n",
       "      <td>چوری کے گڑ سے حلوہ بنایا جائے تو اور بھی مزید</td>\n",
       "      <td>جيڪڏهن توهان چوري جي چوري وڌيڪ چوري ڪئي وئي آهي</td>\n",
       "    </tr>\n",
       "    <tr>\n",
       "      <th>8</th>\n",
       "      <td>آپ بھی تو اپنے متعلق کچھ بتائیں اس صورتحال میں...</td>\n",
       "      <td>توهان هن صورتحال عمر سادق توهان جي باري ڪجهه ب...</td>\n",
       "    </tr>\n",
       "    <tr>\n",
       "      <th>9</th>\n",
       "      <td>تاکہ کچھ ٹائم ادھر بھی ضائع ہو جائے</td>\n",
       "      <td>انهي ڪري ته ڪجهه وقت به ضايع ڪري ٿو</td>\n",
       "    </tr>\n",
       "    <tr>\n",
       "      <th>10</th>\n",
       "      <td>وائےیہ سن کر وہ شخص چل پڑا سیکولر ایجنڈا تو ک...</td>\n",
       "      <td>گودام ٻڌڻ جيڪو شخص هو سيڪيولر ايجنڊا هو</td>\n",
       "    </tr>\n",
       "    <tr>\n",
       "      <th>11</th>\n",
       "      <td>مسلم لیگ تو</td>\n",
       "      <td>مسلمان ليگ</td>\n",
       "    </tr>\n",
       "    <tr>\n",
       "      <th>12</th>\n",
       "      <td>ایرانی اپوزیشن کے مطابقکے صدارتی انتخاب</td>\n",
       "      <td>صدارتي اليڪشن جي مخالفت جي مطابق</td>\n",
       "    </tr>\n",
       "    <tr>\n",
       "      <th>13</th>\n",
       "      <td>حق بات تو یہ ہے کہ یہ بہت عمدہ کھیل ہے ہم نے ...</td>\n",
       "      <td>سچ اهو آهي ته اها هڪ عظيم راند آهي اسان ٻيهر ک...</td>\n",
       "    </tr>\n",
       "    <tr>\n",
       "      <th>14</th>\n",
       "      <td>دونوں ممالک کے درمیان کرکٹ تعلقات کی خرابی کو</td>\n",
       "      <td>ٻن ملڪن جي وچ ڪرڪيٽ رشتي جي غلطي</td>\n",
       "    </tr>\n",
       "    <tr>\n",
       "      <th>15</th>\n",
       "      <td>نہ ہونٹوں میں جنبش کا یارا عندلیب سے بہتر اور...</td>\n",
       "      <td>نه ئي لبش جي يارن کان بهتر ٿي سگهي ٿو جيڪي شيو...</td>\n",
       "    </tr>\n",
       "    <tr>\n",
       "      <th>16</th>\n",
       "      <td>میری بہناب میں آپ سے آپ ہی کےلہجے میں مخاطب</td>\n",
       "      <td>مان تنهنجي ڀيڻ منهنجي وهڪري آهيان</td>\n",
       "    </tr>\n",
       "    <tr>\n",
       "      <th>17</th>\n",
       "      <td>الو ہواسی آسانی میں ہم غیبت اور بہتان جیسے گنا...</td>\n",
       "      <td>مان آسانيء سان گناهن جي احساس ڪيترن ئي گناهن آ...</td>\n",
       "    </tr>\n",
       "    <tr>\n",
       "      <th>18</th>\n",
       "      <td>پھر تو یہ زیادہ اچھی سروس ہے دائی کی لڑکی خور...</td>\n",
       "      <td>پوء پوء اها سٺي خدمت آهي ڇوڪري جي ڇوڪري کي چشم...</td>\n",
       "    </tr>\n",
       "    <tr>\n",
       "      <th>19</th>\n",
       "      <td>فرمایا بیشک ا لوگوں پر بڑی شفقت فرمانے وا</td>\n",
       "      <td>هن چيو ته بيشڪ بيشڪ به ڳاله ماڻهو آهي</td>\n",
       "    </tr>\n",
       "    <tr>\n",
       "      <th>20</th>\n",
       "      <td>بے غیرت حکمرانوں کے کفار کے تلوے چاٹنے نےیہ</td>\n",
       "      <td>ڪفا جو ناقابل اعتبار حڪمرانن جي جماع</td>\n",
       "    </tr>\n",
       "    <tr>\n",
       "      <th>21</th>\n",
       "      <td>یہاں ایسا نہیں ہوتا فیس بک پر ایک خصوصی اولمپک...</td>\n",
       "      <td>هتي اهو ناهي فيسبوڪ تي هڪ خاص اولمپڪ پورٽل لان...</td>\n",
       "    </tr>\n",
       "    <tr>\n",
       "      <th>22</th>\n",
       "      <td>یاں لٹ گئے آباد ہم آئے تھے وطن سےجب تک مہ جبین...</td>\n",
       "      <td>توهان آيا اسان ملڪ آيا جيستائين نئون لفظ عارضي...</td>\n",
       "    </tr>\n",
       "    <tr>\n",
       "      <th>23</th>\n",
       "      <td>عمرو بن قرظہ روز عاشور دشمنوں کے تیروں کے سامن</td>\n",
       "      <td>امري بن جي تيرن جو سامن سامن</td>\n",
       "    </tr>\n",
       "    <tr>\n",
       "      <th>24</th>\n",
       "      <td>تحریراخوندزادہ جلال نورزئیاعلی معیار ماخظمیری ...</td>\n",
       "      <td>ردوادڊا جايل نوزائيفيافيت ڪيفيتم ماهيميري جو م...</td>\n",
       "    </tr>\n",
       "    <tr>\n",
       "      <th>25</th>\n",
       "      <td>یہ اردو محفل فورم فورم میں سرقہ سے ٹیگ کردہ تم</td>\n",
       "      <td>هي مهرباني فورم اينال فورم سائن ٽريو</td>\n",
       "    </tr>\n",
       "    <tr>\n",
       "      <th>26</th>\n",
       "      <td>سال عمر ہے شادی شدہ آدمی ہوںایک پیاری</td>\n",
       "      <td>سال جي عمر شادي شده ماڻهو آهي</td>\n",
       "    </tr>\n",
       "    <tr>\n",
       "      <th>27</th>\n",
       "      <td>دستور بہرام جی جاماسپ جی بہرامآج دن کا اکثر وق...</td>\n",
       "      <td>مسودو جامشپپا ججيجيجي اڪثر ڏينهن جي اونهاري گه...</td>\n",
       "    </tr>\n",
       "    <tr>\n",
       "      <th>28</th>\n",
       "      <td>نازلی نے دبی زبان سے کہافرمائیےمیں بھی بس ایو...</td>\n",
       "      <td>نازلي زبان تائين زبان تائين پڻ زبان کان به ٿي ...</td>\n",
       "    </tr>\n",
       "    <tr>\n",
       "      <th>29</th>\n",
       "      <td>اکثر سڑک پر اپ سے اگلی گاڑی والی بلا کسی وجہ</td>\n",
       "      <td>اڪثر ايندڙ گاڏي روڊ تي روڊ تي</td>\n",
       "    </tr>\n",
       "    <tr>\n",
       "      <th>...</th>\n",
       "      <td>...</td>\n",
       "      <td>...</td>\n",
       "    </tr>\n",
       "    <tr>\n",
       "      <th>121952</th>\n",
       "      <td>ایک تو یہ مولوی مزہب کے ٹھیکیدار بنے پھرتے ہی...</td>\n",
       "      <td>مولا جي ٺيڪيدارن مان هڪ ٺيڪيدار آهي اسان اسان ...</td>\n",
       "    </tr>\n",
       "    <tr>\n",
       "      <th>121953</th>\n",
       "      <td>نا میرے پائیکہ اپنا ہوتا ہے کوئی مگر نہیں ہوت...</td>\n",
       "      <td>نه ئي منهنجو پائڪ ڪو آهي پر مون کي دستياب لوگو...</td>\n",
       "    </tr>\n",
       "    <tr>\n",
       "      <th>121954</th>\n",
       "      <td>اب اس جگہ کوئی کنواری نہ بیچی جائے گیان کے پڑو...</td>\n",
       "      <td>هاڻي هن جڳهه تي ڪو به ڪنواري نه ٿيو پاڙيسري جا...</td>\n",
       "    </tr>\n",
       "    <tr>\n",
       "      <th>121955</th>\n",
       "      <td>جی ہاں اسی سے آگے لکھنے ہیںوازی سے کام لے رھی ...</td>\n",
       "      <td>ها اهو انهن جي لاء ڪم ڪرڻ ڪم ڪرڻ آهي جنهن عام ...</td>\n",
       "    </tr>\n",
       "    <tr>\n",
       "      <th>121956</th>\n",
       "      <td>ارے کیا کھاتی ہو ناشتے میں جو ہر وقت لڑنے پر ت</td>\n",
       "      <td>اي توهان هر وقت ناشتي ڇا کائيندا آهيو</td>\n",
       "    </tr>\n",
       "    <tr>\n",
       "      <th>121957</th>\n",
       "      <td>غضب ہو گیا یہ مخاطب کرکے سلام کیا جا رہا ہے جش...</td>\n",
       "      <td>غضب پاڪستان جي جشن جي جشن کي خطاب ڪرڻ سان نارا...</td>\n",
       "    </tr>\n",
       "    <tr>\n",
       "      <th>121958</th>\n",
       "      <td>بہن بھی کہہ رہے ہیں شاید ایسے ہی ہوشہری علاقوں...</td>\n",
       "      <td>ڀينرون پڻ چئي رهيا آهن شايد اهي نوجوان جيڪي نو...</td>\n",
       "    </tr>\n",
       "    <tr>\n",
       "      <th>121959</th>\n",
       "      <td>قانون نافذ کرنے والے ادارے اگر بے ایمان ہیں تو</td>\n",
       "      <td>جيڪڏهن قانون لاڳو ڪندڙ ادارا ناقابل يقين هوندا...</td>\n",
       "    </tr>\n",
       "    <tr>\n",
       "      <th>121960</th>\n",
       "      <td>نبیل یہ کام ہمارے روڈمیپ میں ہے سنچورین ٹیسٹجن...</td>\n",
       "      <td>نبيل اهو ڪم اسان جي روڊنپريئرين ٽيسٽ ڪئي آفريڪ...</td>\n",
       "    </tr>\n",
       "    <tr>\n",
       "      <th>121961</th>\n",
       "      <td>رانا ثنا اللہ نے یہ بھی کہا تھا کہ بچے کے اغوا</td>\n",
       "      <td>رينا سان الله جو پڻ چيو ته ٻار جي اغوا</td>\n",
       "    </tr>\n",
       "    <tr>\n",
       "      <th>121962</th>\n",
       "      <td>تھوڑے دن کی تکلیف اور ہمیشہ کا آرامایک دن وہ ل...</td>\n",
       "      <td>ڪجهه ڏينهن جي آرام تي باقي ڏينهن اهي ڪجهه ماڻه...</td>\n",
       "    </tr>\n",
       "    <tr>\n",
       "      <th>121963</th>\n",
       "      <td>وہاں عبدالرؤف ہر معاملے میں درست یا غلط کا تعی</td>\n",
       "      <td>عبدالامف هر صورت صحيح يا غلط آهي</td>\n",
       "    </tr>\n",
       "    <tr>\n",
       "      <th>121964</th>\n",
       "      <td>ویسے بھی جب پاکستانی کپتان بیٹسمین ہو تو وہ می</td>\n",
       "      <td>بهرحال جڏهن پاڪستاني ڪيپٽن بيٽسمين آهي پوء هو</td>\n",
       "    </tr>\n",
       "    <tr>\n",
       "      <th>121965</th>\n",
       "      <td>جمعہ کو شام میں مختلف شہروں میں ہزاروں افراد ن</td>\n",
       "      <td>جمعه مختلف شهرن هزارين ماڻهو</td>\n",
       "    </tr>\n",
       "    <tr>\n",
       "      <th>121966</th>\n",
       "      <td>ہوں چراغان ہوسجوں کاغذ آتش زدہجیت سکتے ہیں بھی...</td>\n",
       "      <td>مونکي انهن لمپن جي لمپن تي فخر آهي ته مون هاڻي...</td>\n",
       "    </tr>\n",
       "    <tr>\n",
       "      <th>121967</th>\n",
       "      <td>پریشان نہ ہو گڑیاشمشاد بھائی کی تو ہو نہیں</td>\n",
       "      <td>پريشان نه ٿيو ڊمانڊ ڀاء نه آهي</td>\n",
       "    </tr>\n",
       "    <tr>\n",
       "      <th>121968</th>\n",
       "      <td>ایمان سراسر علم ہے اور عمل سراسر اطاعت ہے اسی ...</td>\n",
       "      <td>ايمان ايماندار اڻ able اڻ and اڻ رکندڙ علم اطا...</td>\n",
       "    </tr>\n",
       "    <tr>\n",
       "      <th>121969</th>\n",
       "      <td>مجھ سے سنا ہے میں نے یہ ہنر تو نہ چاہتے ہوئے ب...</td>\n",
       "      <td>مون کان ٻڌو مون هن هرر کي نه چاهيو توهان پڻ تو...</td>\n",
       "    </tr>\n",
       "    <tr>\n",
       "      <th>121970</th>\n",
       "      <td>سابقہ والااتنا ارزاں تو نہ تھا مسلماں کا لہوک...</td>\n",
       "      <td>اڳوڻي اهو وقت جي ڳالهه نه هئي ڇاڪاڻ ته جيڪڏهن ...</td>\n",
       "    </tr>\n",
       "    <tr>\n",
       "      <th>121971</th>\n",
       "      <td>گھر آنے کے بعد کا احوال وہی جو لکھااگر بان کی ...</td>\n",
       "      <td>گهر اچڻ کان پوء لکيل لکيل لکيو ويو آهي ته ڪوئي...</td>\n",
       "    </tr>\n",
       "    <tr>\n",
       "      <th>121972</th>\n",
       "      <td>معطلی کس چیز انیس بھائی آفت میں ہوںمشکل میں ہو...</td>\n",
       "      <td>آفت اڻويهين ڀائرن معطل ڇا آهي</td>\n",
       "    </tr>\n",
       "    <tr>\n",
       "      <th>121973</th>\n",
       "      <td>عزت ان میں سےایک توپ کی بارود کو دیا سلائی دیکھات</td>\n",
       "      <td>معزز کي بارود ورهايو ويو آهي</td>\n",
       "    </tr>\n",
       "    <tr>\n",
       "      <th>121974</th>\n",
       "      <td>ہوئے فرہان عاشق جانبازاللہ آپکی والدہ محترمہ ...</td>\n",
       "      <td>مليل اسناڪا توهان جي ماء جي ماء محترمه جي معاف...</td>\n",
       "    </tr>\n",
       "    <tr>\n",
       "      <th>121975</th>\n",
       "      <td>کا وہ یہی مطلب سمجھتے ہیں پرتو مہر ہی ذوق رم و...</td>\n",
       "      <td>اهي سمجهندا آهن مطلب جو مطلب سيل شعور آهي پارٽ...</td>\n",
       "    </tr>\n",
       "    <tr>\n",
       "      <th>121976</th>\n",
       "      <td>ا تعالی کے سوا کوئی نہیں جانتا کہ کسے اس مرت</td>\n",
       "      <td>ڪو به الله تعالي کان سواء knows اڻي ٿو ته ڪير ...</td>\n",
       "    </tr>\n",
       "    <tr>\n",
       "      <th>121977</th>\n",
       "      <td>تا کہ یہ نظام اپنی پوری ہیبت و شکوہ کے ساتھ جل</td>\n",
       "      <td>انهي ڪري اهو نظام ان جي مڪمل نقصانن سان جلندو آهي</td>\n",
       "    </tr>\n",
       "    <tr>\n",
       "      <th>121978</th>\n",
       "      <td>اس پر مجھے ایک فرضی واقعہ یاد آ گیا اللہ تعالی...</td>\n",
       "      <td>اهو الهاه الهه الله تعالي تي هڪ دلچسپ واقعو يا...</td>\n",
       "    </tr>\n",
       "    <tr>\n",
       "      <th>121979</th>\n",
       "      <td>اور اندر کا موسم تو رہتا ہی خوشگوار ہے شدید گ...</td>\n",
       "      <td>اندر موسم خوشگوار آهي ڪنهن به وقت شهر رات کي گ...</td>\n",
       "    </tr>\n",
       "    <tr>\n",
       "      <th>121980</th>\n",
       "      <td>کھل کے گل کچھ تو بہار جانفزا دکھلا گئےمیں</td>\n",
       "      <td>خليج کوليو ڪجهه شارڊ اسپرنگ جان</td>\n",
       "    </tr>\n",
       "    <tr>\n",
       "      <th>121981</th>\n",
       "      <td>آہستہ آہستہ موسم گرمی کی طرف بڑھ رہا ہےڈیرہ ڈی...</td>\n",
       "      <td>گرمي سان آهستي دھستان پاڪستان کان سامونڊي ڪنار...</td>\n",
       "    </tr>\n",
       "  </tbody>\n",
       "</table>\n",
       "<p>121976 rows × 2 columns</p>\n",
       "</div>"
      ],
      "text/plain": [
       "                                                     Urdu  \\\n",
       "0        منہ چھپائے ہوئے گزرا ہے جو احباب سے آجاولین م...   \n",
       "1        ایک سا حال ہے جدھر جاؤآپکو پتہ ہے اکثر کالجز ...   \n",
       "2       یہاں تو سورج آگ برسا رہا ہے یہ ایونٹ پاکستان ک...   \n",
       "3       ڈھائی فیصد پر میں یقین نہیں رکھتی او بھائی تیر...   \n",
       "4       بہت بہت مبارک ہو اہل ہند کو موجودہ دور میں کچھ...   \n",
       "5       اینکہ کنوں مے گذ رد در شمار نشیبوں میں ہر سمت ...   \n",
       "6       ابتر نہیں کوئی ناتواں سے بڑھ کرورنہ ان شوخیوں ...   \n",
       "7           چوری کے گڑ سے حلوہ بنایا جائے تو اور بھی مزید   \n",
       "8       آپ بھی تو اپنے متعلق کچھ بتائیں اس صورتحال میں...   \n",
       "9                    تاکہ کچھ ٹائم ادھر بھی ضائع ہو جائے    \n",
       "10       وائےیہ سن کر وہ شخص چل پڑا سیکولر ایجنڈا تو ک...   \n",
       "11                                           مسلم لیگ تو    \n",
       "12               ایرانی اپوزیشن کے مطابقکے صدارتی انتخاب    \n",
       "13       حق بات تو یہ ہے کہ یہ بہت عمدہ کھیل ہے ہم نے ...   \n",
       "14         دونوں ممالک کے درمیان کرکٹ تعلقات کی خرابی کو    \n",
       "15       نہ ہونٹوں میں جنبش کا یارا عندلیب سے بہتر اور...   \n",
       "16            میری بہناب میں آپ سے آپ ہی کےلہجے میں مخاطب   \n",
       "17      الو ہواسی آسانی میں ہم غیبت اور بہتان جیسے گنا...   \n",
       "18       پھر تو یہ زیادہ اچھی سروس ہے دائی کی لڑکی خور...   \n",
       "19              فرمایا بیشک ا لوگوں پر بڑی شفقت فرمانے وا   \n",
       "20            بے غیرت حکمرانوں کے کفار کے تلوے چاٹنے نےیہ   \n",
       "21      یہاں ایسا نہیں ہوتا فیس بک پر ایک خصوصی اولمپک...   \n",
       "22      یاں لٹ گئے آباد ہم آئے تھے وطن سےجب تک مہ جبین...   \n",
       "23         عمرو بن قرظہ روز عاشور دشمنوں کے تیروں کے سامن   \n",
       "24      تحریراخوندزادہ جلال نورزئیاعلی معیار ماخظمیری ...   \n",
       "25         یہ اردو محفل فورم فورم میں سرقہ سے ٹیگ کردہ تم   \n",
       "26                 سال عمر ہے شادی شدہ آدمی ہوںایک پیاری    \n",
       "27      دستور بہرام جی جاماسپ جی بہرامآج دن کا اکثر وق...   \n",
       "28       نازلی نے دبی زبان سے کہافرمائیےمیں بھی بس ایو...   \n",
       "29          اکثر سڑک پر اپ سے اگلی گاڑی والی بلا کسی وجہ    \n",
       "...                                                   ...   \n",
       "121952   ایک تو یہ مولوی مزہب کے ٹھیکیدار بنے پھرتے ہی...   \n",
       "121953   نا میرے پائیکہ اپنا ہوتا ہے کوئی مگر نہیں ہوت...   \n",
       "121954  اب اس جگہ کوئی کنواری نہ بیچی جائے گیان کے پڑو...   \n",
       "121955  جی ہاں اسی سے آگے لکھنے ہیںوازی سے کام لے رھی ...   \n",
       "121956     ارے کیا کھاتی ہو ناشتے میں جو ہر وقت لڑنے پر ت   \n",
       "121957  غضب ہو گیا یہ مخاطب کرکے سلام کیا جا رہا ہے جش...   \n",
       "121958  بہن بھی کہہ رہے ہیں شاید ایسے ہی ہوشہری علاقوں...   \n",
       "121959     قانون نافذ کرنے والے ادارے اگر بے ایمان ہیں تو   \n",
       "121960  نبیل یہ کام ہمارے روڈمیپ میں ہے سنچورین ٹیسٹجن...   \n",
       "121961     رانا ثنا اللہ نے یہ بھی کہا تھا کہ بچے کے اغوا   \n",
       "121962  تھوڑے دن کی تکلیف اور ہمیشہ کا آرامایک دن وہ ل...   \n",
       "121963     وہاں عبدالرؤف ہر معاملے میں درست یا غلط کا تعی   \n",
       "121964     ویسے بھی جب پاکستانی کپتان بیٹسمین ہو تو وہ می   \n",
       "121965     جمعہ کو شام میں مختلف شہروں میں ہزاروں افراد ن   \n",
       "121966  ہوں چراغان ہوسجوں کاغذ آتش زدہجیت سکتے ہیں بھی...   \n",
       "121967        پریشان نہ ہو گڑیاشمشاد بھائی کی تو ہو نہیں    \n",
       "121968  ایمان سراسر علم ہے اور عمل سراسر اطاعت ہے اسی ...   \n",
       "121969  مجھ سے سنا ہے میں نے یہ ہنر تو نہ چاہتے ہوئے ب...   \n",
       "121970   سابقہ والااتنا ارزاں تو نہ تھا مسلماں کا لہوک...   \n",
       "121971  گھر آنے کے بعد کا احوال وہی جو لکھااگر بان کی ...   \n",
       "121972  معطلی کس چیز انیس بھائی آفت میں ہوںمشکل میں ہو...   \n",
       "121973  عزت ان میں سےایک توپ کی بارود کو دیا سلائی دیکھات   \n",
       "121974   ہوئے فرہان عاشق جانبازاللہ آپکی والدہ محترمہ ...   \n",
       "121975  کا وہ یہی مطلب سمجھتے ہیں پرتو مہر ہی ذوق رم و...   \n",
       "121976       ا تعالی کے سوا کوئی نہیں جانتا کہ کسے اس مرت   \n",
       "121977     تا کہ یہ نظام اپنی پوری ہیبت و شکوہ کے ساتھ جل   \n",
       "121978  اس پر مجھے ایک فرضی واقعہ یاد آ گیا اللہ تعالی...   \n",
       "121979   اور اندر کا موسم تو رہتا ہی خوشگوار ہے شدید گ...   \n",
       "121980          کھل کے گل کچھ تو بہار جانفزا دکھلا گئےمیں   \n",
       "121981  آہستہ آہستہ موسم گرمی کی طرف بڑھ رہا ہےڈیرہ ڈی...   \n",
       "\n",
       "                                                   Sindhi  \n",
       "0       سوتر لڪيل آهي جيڪو مغروني سالن مان آهي جنهن کي...  \n",
       "1       اتي وقت جو معاملو آهي توهان know اڻو ٿا ته اڪث...  \n",
       "2       هتي سج جلائڻ واري باهه آهي اهو واقعو پاڪستان ج...  \n",
       "3       اڌ سيڪڙو تي مون کي يقين نه آهي ڀاء توهان جو ڀا...  \n",
       "4       مبارڪون هجن ڪجھ ماڻھو موجوده دور ڪجھ ماڻھو ھڪڙ...  \n",
       "5       بيان ڪندڙن اعلان ڪندو آهي ڪجهه وقت کان اڳ شامل...  \n",
       "6       ڪو به ڪنهن به قومن کان وڌيڪ قومن جي جوابن جو ج...  \n",
       "7         جيڪڏهن توهان چوري جي چوري وڌيڪ چوري ڪئي وئي آهي  \n",
       "8       توهان هن صورتحال عمر سادق توهان جي باري ڪجهه ب...  \n",
       "9                     انهي ڪري ته ڪجهه وقت به ضايع ڪري ٿو  \n",
       "10                گودام ٻڌڻ جيڪو شخص هو سيڪيولر ايجنڊا هو  \n",
       "11                                             مسلمان ليگ  \n",
       "12                       صدارتي اليڪشن جي مخالفت جي مطابق  \n",
       "13      سچ اهو آهي ته اها هڪ عظيم راند آهي اسان ٻيهر ک...  \n",
       "14                       ٻن ملڪن جي وچ ڪرڪيٽ رشتي جي غلطي  \n",
       "15      نه ئي لبش جي يارن کان بهتر ٿي سگهي ٿو جيڪي شيو...  \n",
       "16                      مان تنهنجي ڀيڻ منهنجي وهڪري آهيان  \n",
       "17      مان آسانيء سان گناهن جي احساس ڪيترن ئي گناهن آ...  \n",
       "18      پوء پوء اها سٺي خدمت آهي ڇوڪري جي ڇوڪري کي چشم...  \n",
       "19                  هن چيو ته بيشڪ بيشڪ به ڳاله ماڻهو آهي  \n",
       "20                   ڪفا جو ناقابل اعتبار حڪمرانن جي جماع  \n",
       "21      هتي اهو ناهي فيسبوڪ تي هڪ خاص اولمپڪ پورٽل لان...  \n",
       "22      توهان آيا اسان ملڪ آيا جيستائين نئون لفظ عارضي...  \n",
       "23                           امري بن جي تيرن جو سامن سامن  \n",
       "24      ردوادڊا جايل نوزائيفيافيت ڪيفيتم ماهيميري جو م...  \n",
       "25                   هي مهرباني فورم اينال فورم سائن ٽريو  \n",
       "26                          سال جي عمر شادي شده ماڻهو آهي  \n",
       "27      مسودو جامشپپا ججيجيجي اڪثر ڏينهن جي اونهاري گه...  \n",
       "28      نازلي زبان تائين زبان تائين پڻ زبان کان به ٿي ...  \n",
       "29                          اڪثر ايندڙ گاڏي روڊ تي روڊ تي  \n",
       "...                                                   ...  \n",
       "121952  مولا جي ٺيڪيدارن مان هڪ ٺيڪيدار آهي اسان اسان ...  \n",
       "121953  نه ئي منهنجو پائڪ ڪو آهي پر مون کي دستياب لوگو...  \n",
       "121954  هاڻي هن جڳهه تي ڪو به ڪنواري نه ٿيو پاڙيسري جا...  \n",
       "121955  ها اهو انهن جي لاء ڪم ڪرڻ ڪم ڪرڻ آهي جنهن عام ...  \n",
       "121956              اي توهان هر وقت ناشتي ڇا کائيندا آهيو  \n",
       "121957  غضب پاڪستان جي جشن جي جشن کي خطاب ڪرڻ سان نارا...  \n",
       "121958  ڀينرون پڻ چئي رهيا آهن شايد اهي نوجوان جيڪي نو...  \n",
       "121959  جيڪڏهن قانون لاڳو ڪندڙ ادارا ناقابل يقين هوندا...  \n",
       "121960  نبيل اهو ڪم اسان جي روڊنپريئرين ٽيسٽ ڪئي آفريڪ...  \n",
       "121961             رينا سان الله جو پڻ چيو ته ٻار جي اغوا  \n",
       "121962  ڪجهه ڏينهن جي آرام تي باقي ڏينهن اهي ڪجهه ماڻه...  \n",
       "121963                   عبدالامف هر صورت صحيح يا غلط آهي  \n",
       "121964      بهرحال جڏهن پاڪستاني ڪيپٽن بيٽسمين آهي پوء هو  \n",
       "121965                       جمعه مختلف شهرن هزارين ماڻهو  \n",
       "121966  مونکي انهن لمپن جي لمپن تي فخر آهي ته مون هاڻي...  \n",
       "121967                     پريشان نه ٿيو ڊمانڊ ڀاء نه آهي  \n",
       "121968  ايمان ايماندار اڻ able اڻ and اڻ رکندڙ علم اطا...  \n",
       "121969  مون کان ٻڌو مون هن هرر کي نه چاهيو توهان پڻ تو...  \n",
       "121970  اڳوڻي اهو وقت جي ڳالهه نه هئي ڇاڪاڻ ته جيڪڏهن ...  \n",
       "121971  گهر اچڻ کان پوء لکيل لکيل لکيو ويو آهي ته ڪوئي...  \n",
       "121972                      آفت اڻويهين ڀائرن معطل ڇا آهي  \n",
       "121973                       معزز کي بارود ورهايو ويو آهي  \n",
       "121974  مليل اسناڪا توهان جي ماء جي ماء محترمه جي معاف...  \n",
       "121975  اهي سمجهندا آهن مطلب جو مطلب سيل شعور آهي پارٽ...  \n",
       "121976  ڪو به الله تعالي کان سواء knows اڻي ٿو ته ڪير ...  \n",
       "121977  انهي ڪري اهو نظام ان جي مڪمل نقصانن سان جلندو آهي  \n",
       "121978  اهو الهاه الهه الله تعالي تي هڪ دلچسپ واقعو يا...  \n",
       "121979  اندر موسم خوشگوار آهي ڪنهن به وقت شهر رات کي گ...  \n",
       "121980                    خليج کوليو ڪجهه شارڊ اسپرنگ جان  \n",
       "121981  گرمي سان آهستي دھستان پاڪستان کان سامونڊي ڪنار...  \n",
       "\n",
       "[121976 rows x 2 columns]"
      ]
     },
     "execution_count": 7,
     "metadata": {},
     "output_type": "execute_result"
    }
   ],
   "source": [
    "lines"
   ]
  },
  {
   "cell_type": "markdown",
   "metadata": {
    "id": "BAWtyo-8EG8s"
   },
   "source": [
    "* ### Let us pick any 25000 rows from the dataset."
   ]
  },
  {
   "cell_type": "code",
   "execution_count": 18,
   "metadata": {
    "colab": {
     "base_uri": "https://localhost:8080/",
     "height": 330
    },
    "id": "KwwjBeogEG8s",
    "outputId": "0593aa80-6ef9-4fff-a2fe-3fb3e365892e"
   },
   "outputs": [
    {
     "data": {
      "text/plain": [
       "(50179, 2)"
      ]
     },
     "execution_count": 18,
     "metadata": {},
     "output_type": "execute_result"
    }
   ],
   "source": [
    "lines.shape"
   ]
  },
  {
   "cell_type": "code",
   "execution_count": null,
   "metadata": {
    "colab": {
     "base_uri": "https://localhost:8080/",
     "height": 162
    },
    "id": "nTPt9CJCEG8t",
    "outputId": "42e729cd-7b67-4027-e436-822296339b3b"
   },
   "outputs": [
    {
     "ename": "NameError",
     "evalue": "name 'Tokenizer' is not defined",
     "output_type": "error",
     "traceback": [
      "\u001b[1;31m---------------------------------------------------------------------------\u001b[0m",
      "\u001b[1;31mNameError\u001b[0m                                 Traceback (most recent call last)",
      "\u001b[1;32m<ipython-input-9-5966e800ef01>\u001b[0m in \u001b[0;36m<module>\u001b[1;34m()\u001b[0m\n\u001b[1;32m----> 1\u001b[1;33m \u001b[0mtokenizer\u001b[0m \u001b[1;33m=\u001b[0m \u001b[0mTokenizer\u001b[0m\u001b[1;33m(\u001b[0m\u001b[0mnum_words\u001b[0m\u001b[1;33m=\u001b[0m\u001b[1;36m50000\u001b[0m\u001b[1;33m)\u001b[0m\u001b[1;33m\u001b[0m\u001b[0m\n\u001b[0m",
      "\u001b[1;31mNameError\u001b[0m: name 'Tokenizer' is not defined"
     ]
    }
   ],
   "source": [
    "tokenizer = Tokenizer(num_words=50000)"
   ]
  },
  {
   "cell_type": "code",
   "execution_count": null,
   "metadata": {
    "id": "R3gjLOHpEG8t"
   },
   "outputs": [],
   "source": []
  },
  {
   "cell_type": "code",
   "execution_count": null,
   "metadata": {
    "id": "9W9PsGzCEG8u"
   },
   "outputs": [],
   "source": []
  },
  {
   "cell_type": "code",
   "execution_count": null,
   "metadata": {
    "id": "fEMa9ZtzEG8u"
   },
   "outputs": [],
   "source": [
    "\n"
   ]
  },
  {
   "cell_type": "code",
   "execution_count": 8,
   "metadata": {
    "id": "ApIGlq_KEG8v"
   },
   "outputs": [],
   "source": [
    "# Add start and end tokens to target sequences\n",
    "lines['Sindhi'] = lines['Sindhi'].apply(lambda x : 'START_ '+ x + ' _END')"
   ]
  },
  {
   "cell_type": "code",
   "execution_count": 9,
   "metadata": {
    "colab": {
     "base_uri": "https://localhost:8080/",
     "height": 203
    },
    "id": "ZY-wEuSAEG8v",
    "outputId": "c210094d-4676-4952-d246-edbefb3bb916"
   },
   "outputs": [
    {
     "data": {
      "text/html": [
       "<div>\n",
       "<style scoped>\n",
       "    .dataframe tbody tr th:only-of-type {\n",
       "        vertical-align: middle;\n",
       "    }\n",
       "\n",
       "    .dataframe tbody tr th {\n",
       "        vertical-align: top;\n",
       "    }\n",
       "\n",
       "    .dataframe thead th {\n",
       "        text-align: right;\n",
       "    }\n",
       "</style>\n",
       "<table border=\"1\" class=\"dataframe\">\n",
       "  <thead>\n",
       "    <tr style=\"text-align: right;\">\n",
       "      <th></th>\n",
       "      <th>Urdu</th>\n",
       "      <th>Sindhi</th>\n",
       "    </tr>\n",
       "  </thead>\n",
       "  <tbody>\n",
       "    <tr>\n",
       "      <th>0</th>\n",
       "      <td>منہ چھپائے ہوئے گزرا ہے جو احباب سے آجاولین م...</td>\n",
       "      <td>START_ سوتر لڪيل آهي جيڪو مغروني سالن مان آهي ...</td>\n",
       "    </tr>\n",
       "    <tr>\n",
       "      <th>1</th>\n",
       "      <td>ایک سا حال ہے جدھر جاؤآپکو پتہ ہے اکثر کالجز ...</td>\n",
       "      <td>START_ اتي وقت جو معاملو آهي توهان know اڻو ٿا...</td>\n",
       "    </tr>\n",
       "    <tr>\n",
       "      <th>2</th>\n",
       "      <td>یہاں تو سورج آگ برسا رہا ہے یہ ایونٹ پاکستان ک...</td>\n",
       "      <td>START_ هتي سج جلائڻ واري باهه آهي اهو واقعو پا...</td>\n",
       "    </tr>\n",
       "    <tr>\n",
       "      <th>3</th>\n",
       "      <td>ڈھائی فیصد پر میں یقین نہیں رکھتی او بھائی تیر...</td>\n",
       "      <td>START_ اڌ سيڪڙو تي مون کي يقين نه آهي ڀاء توها...</td>\n",
       "    </tr>\n",
       "    <tr>\n",
       "      <th>4</th>\n",
       "      <td>بہت بہت مبارک ہو اہل ہند کو موجودہ دور میں کچھ...</td>\n",
       "      <td>START_ مبارڪون هجن ڪجھ ماڻھو موجوده دور ڪجھ ما...</td>\n",
       "    </tr>\n",
       "  </tbody>\n",
       "</table>\n",
       "</div>"
      ],
      "text/plain": [
       "                                                Urdu  \\\n",
       "0   منہ چھپائے ہوئے گزرا ہے جو احباب سے آجاولین م...   \n",
       "1   ایک سا حال ہے جدھر جاؤآپکو پتہ ہے اکثر کالجز ...   \n",
       "2  یہاں تو سورج آگ برسا رہا ہے یہ ایونٹ پاکستان ک...   \n",
       "3  ڈھائی فیصد پر میں یقین نہیں رکھتی او بھائی تیر...   \n",
       "4  بہت بہت مبارک ہو اہل ہند کو موجودہ دور میں کچھ...   \n",
       "\n",
       "                                              Sindhi  \n",
       "0  START_ سوتر لڪيل آهي جيڪو مغروني سالن مان آهي ...  \n",
       "1  START_ اتي وقت جو معاملو آهي توهان know اڻو ٿا...  \n",
       "2  START_ هتي سج جلائڻ واري باهه آهي اهو واقعو پا...  \n",
       "3  START_ اڌ سيڪڙو تي مون کي يقين نه آهي ڀاء توها...  \n",
       "4  START_ مبارڪون هجن ڪجھ ماڻھو موجوده دور ڪجھ ما...  "
      ]
     },
     "execution_count": 9,
     "metadata": {},
     "output_type": "execute_result"
    }
   ],
   "source": [
    "lines.head()"
   ]
  },
  {
   "cell_type": "code",
   "execution_count": 10,
   "metadata": {
    "id": "YQOQ2Dg-EG8w"
   },
   "outputs": [],
   "source": [
    "### Get English and Hindi Vocabulary\n",
    "all_urdu_words=set()\n",
    "for urdu in lines['Urdu']:\n",
    "    for word in urdu.split():\n",
    "        if word not in all_urdu_words:\n",
    "            all_urdu_words.add(word)\n",
    "\n",
    "all_sindhi_words=set()\n",
    "for ps in lines['Sindhi']:\n",
    "    for word in ps.split():\n",
    "        if word not in all_sindhi_words:\n",
    "            all_sindhi_words.add(word)"
   ]
  },
  {
   "cell_type": "code",
   "execution_count": 11,
   "metadata": {
    "colab": {
     "base_uri": "https://localhost:8080/"
    },
    "id": "wO1LwqPPEG8w",
    "outputId": "85a2e4be-2f03-4b7e-a036-69862020e48f"
   },
   "outputs": [
    {
     "data": {
      "text/plain": [
       "135679"
      ]
     },
     "execution_count": 11,
     "metadata": {},
     "output_type": "execute_result"
    }
   ],
   "source": [
    "len(all_urdu_words)"
   ]
  },
  {
   "cell_type": "code",
   "execution_count": 12,
   "metadata": {
    "colab": {
     "base_uri": "https://localhost:8080/"
    },
    "id": "4grt5XDlEG8w",
    "outputId": "80512e80-6fd7-40e8-a637-8532c9779cbb"
   },
   "outputs": [
    {
     "data": {
      "text/plain": [
       "66982"
      ]
     },
     "execution_count": 12,
     "metadata": {},
     "output_type": "execute_result"
    }
   ],
   "source": [
    "len(all_sindhi_words)"
   ]
  },
  {
   "cell_type": "code",
   "execution_count": 13,
   "metadata": {
    "id": "TKft5DO3EG8x"
   },
   "outputs": [],
   "source": [
    "lines['length_urdu_sentence']=lines['Urdu'].apply(lambda x:len(x.split(\" \")))\n",
    "lines['length_sindhi_sentence']=lines['Sindhi'].apply(lambda x:len(x.split(\" \")))"
   ]
  },
  {
   "cell_type": "code",
   "execution_count": 14,
   "metadata": {
    "colab": {
     "base_uri": "https://localhost:8080/",
     "height": 203
    },
    "id": "5zDPpmyqEG8x",
    "outputId": "f39343f3-2d00-44b2-d392-c13d2a5c1feb"
   },
   "outputs": [
    {
     "data": {
      "text/html": [
       "<div>\n",
       "<style scoped>\n",
       "    .dataframe tbody tr th:only-of-type {\n",
       "        vertical-align: middle;\n",
       "    }\n",
       "\n",
       "    .dataframe tbody tr th {\n",
       "        vertical-align: top;\n",
       "    }\n",
       "\n",
       "    .dataframe thead th {\n",
       "        text-align: right;\n",
       "    }\n",
       "</style>\n",
       "<table border=\"1\" class=\"dataframe\">\n",
       "  <thead>\n",
       "    <tr style=\"text-align: right;\">\n",
       "      <th></th>\n",
       "      <th>Urdu</th>\n",
       "      <th>Sindhi</th>\n",
       "      <th>length_urdu_sentence</th>\n",
       "      <th>length_sindhi_sentence</th>\n",
       "    </tr>\n",
       "  </thead>\n",
       "  <tbody>\n",
       "    <tr>\n",
       "      <th>0</th>\n",
       "      <td>منہ چھپائے ہوئے گزرا ہے جو احباب سے آجاولین م...</td>\n",
       "      <td>START_ سوتر لڪيل آهي جيڪو مغروني سالن مان آهي ...</td>\n",
       "      <td>20</td>\n",
       "      <td>24</td>\n",
       "    </tr>\n",
       "    <tr>\n",
       "      <th>1</th>\n",
       "      <td>ایک سا حال ہے جدھر جاؤآپکو پتہ ہے اکثر کالجز ...</td>\n",
       "      <td>START_ اتي وقت جو معاملو آهي توهان know اڻو ٿا...</td>\n",
       "      <td>17</td>\n",
       "      <td>17</td>\n",
       "    </tr>\n",
       "    <tr>\n",
       "      <th>2</th>\n",
       "      <td>یہاں تو سورج آگ برسا رہا ہے یہ ایونٹ پاکستان ک...</td>\n",
       "      <td>START_ هتي سج جلائڻ واري باهه آهي اهو واقعو پا...</td>\n",
       "      <td>16</td>\n",
       "      <td>18</td>\n",
       "    </tr>\n",
       "    <tr>\n",
       "      <th>3</th>\n",
       "      <td>ڈھائی فیصد پر میں یقین نہیں رکھتی او بھائی تیر...</td>\n",
       "      <td>START_ اڌ سيڪڙو تي مون کي يقين نه آهي ڀاء توها...</td>\n",
       "      <td>19</td>\n",
       "      <td>20</td>\n",
       "    </tr>\n",
       "    <tr>\n",
       "      <th>4</th>\n",
       "      <td>بہت بہت مبارک ہو اہل ہند کو موجودہ دور میں کچھ...</td>\n",
       "      <td>START_ مبارڪون هجن ڪجھ ماڻھو موجوده دور ڪجھ ما...</td>\n",
       "      <td>18</td>\n",
       "      <td>14</td>\n",
       "    </tr>\n",
       "  </tbody>\n",
       "</table>\n",
       "</div>"
      ],
      "text/plain": [
       "                                                Urdu  \\\n",
       "0   منہ چھپائے ہوئے گزرا ہے جو احباب سے آجاولین م...   \n",
       "1   ایک سا حال ہے جدھر جاؤآپکو پتہ ہے اکثر کالجز ...   \n",
       "2  یہاں تو سورج آگ برسا رہا ہے یہ ایونٹ پاکستان ک...   \n",
       "3  ڈھائی فیصد پر میں یقین نہیں رکھتی او بھائی تیر...   \n",
       "4  بہت بہت مبارک ہو اہل ہند کو موجودہ دور میں کچھ...   \n",
       "\n",
       "                                              Sindhi  length_urdu_sentence  \\\n",
       "0  START_ سوتر لڪيل آهي جيڪو مغروني سالن مان آهي ...                    20   \n",
       "1  START_ اتي وقت جو معاملو آهي توهان know اڻو ٿا...                    17   \n",
       "2  START_ هتي سج جلائڻ واري باهه آهي اهو واقعو پا...                    16   \n",
       "3  START_ اڌ سيڪڙو تي مون کي يقين نه آهي ڀاء توها...                    19   \n",
       "4  START_ مبارڪون هجن ڪجھ ماڻھو موجوده دور ڪجھ ما...                    18   \n",
       "\n",
       "   length_sindhi_sentence  \n",
       "0                      24  \n",
       "1                      17  \n",
       "2                      18  \n",
       "3                      20  \n",
       "4                      14  "
      ]
     },
     "execution_count": 14,
     "metadata": {},
     "output_type": "execute_result"
    }
   ],
   "source": [
    "lines.head()"
   ]
  },
  {
   "cell_type": "code",
   "execution_count": 15,
   "metadata": {
    "colab": {
     "base_uri": "https://localhost:8080/"
    },
    "id": "qwEjOjlIEG8y",
    "outputId": "6b8eea4e-1dd2-4525-c7e0-2aa5a7a7ef92"
   },
   "outputs": [
    {
     "data": {
      "text/plain": [
       "(9958, 4)"
      ]
     },
     "execution_count": 15,
     "metadata": {},
     "output_type": "execute_result"
    }
   ],
   "source": [
    "lines[lines['length_urdu_sentence']>30].shape"
   ]
  },
  {
   "cell_type": "code",
   "execution_count": 16,
   "metadata": {
    "id": "NNe75MrOEG8y"
   },
   "outputs": [],
   "source": [
    "lines=lines[lines['length_urdu_sentence']<=30]\n",
    "lines=lines[lines['length_sindhi_sentence']<=30]"
   ]
  },
  {
   "cell_type": "code",
   "execution_count": 17,
   "metadata": {
    "colab": {
     "base_uri": "https://localhost:8080/"
    },
    "id": "f4VmLbtHEG8z",
    "outputId": "59454884-e511-438a-d14b-7d2dfb874f9a"
   },
   "outputs": [
    {
     "data": {
      "text/plain": [
       "(111404, 4)"
      ]
     },
     "execution_count": 17,
     "metadata": {},
     "output_type": "execute_result"
    }
   ],
   "source": [
    "lines.shape"
   ]
  },
  {
   "cell_type": "code",
   "execution_count": 18,
   "metadata": {
    "colab": {
     "base_uri": "https://localhost:8080/",
     "height": 417
    },
    "id": "dP0xrQjxwxd1",
    "outputId": "e2eb4414-9a2e-4075-9d56-21873fda7043"
   },
   "outputs": [
    {
     "data": {
      "text/html": [
       "<div>\n",
       "<style scoped>\n",
       "    .dataframe tbody tr th:only-of-type {\n",
       "        vertical-align: middle;\n",
       "    }\n",
       "\n",
       "    .dataframe tbody tr th {\n",
       "        vertical-align: top;\n",
       "    }\n",
       "\n",
       "    .dataframe thead th {\n",
       "        text-align: right;\n",
       "    }\n",
       "</style>\n",
       "<table border=\"1\" class=\"dataframe\">\n",
       "  <thead>\n",
       "    <tr style=\"text-align: right;\">\n",
       "      <th></th>\n",
       "      <th>Urdu</th>\n",
       "      <th>Sindhi</th>\n",
       "      <th>length_urdu_sentence</th>\n",
       "      <th>length_sindhi_sentence</th>\n",
       "    </tr>\n",
       "  </thead>\n",
       "  <tbody>\n",
       "    <tr>\n",
       "      <th>0</th>\n",
       "      <td>منہ چھپائے ہوئے گزرا ہے جو احباب سے آجاولین م...</td>\n",
       "      <td>START_ سوتر لڪيل آهي جيڪو مغروني سالن مان آهي ...</td>\n",
       "      <td>20</td>\n",
       "      <td>24</td>\n",
       "    </tr>\n",
       "    <tr>\n",
       "      <th>1</th>\n",
       "      <td>ایک سا حال ہے جدھر جاؤآپکو پتہ ہے اکثر کالجز ...</td>\n",
       "      <td>START_ اتي وقت جو معاملو آهي توهان know اڻو ٿا...</td>\n",
       "      <td>17</td>\n",
       "      <td>17</td>\n",
       "    </tr>\n",
       "    <tr>\n",
       "      <th>2</th>\n",
       "      <td>یہاں تو سورج آگ برسا رہا ہے یہ ایونٹ پاکستان ک...</td>\n",
       "      <td>START_ هتي سج جلائڻ واري باهه آهي اهو واقعو پا...</td>\n",
       "      <td>16</td>\n",
       "      <td>18</td>\n",
       "    </tr>\n",
       "    <tr>\n",
       "      <th>3</th>\n",
       "      <td>ڈھائی فیصد پر میں یقین نہیں رکھتی او بھائی تیر...</td>\n",
       "      <td>START_ اڌ سيڪڙو تي مون کي يقين نه آهي ڀاء توها...</td>\n",
       "      <td>19</td>\n",
       "      <td>20</td>\n",
       "    </tr>\n",
       "    <tr>\n",
       "      <th>4</th>\n",
       "      <td>بہت بہت مبارک ہو اہل ہند کو موجودہ دور میں کچھ...</td>\n",
       "      <td>START_ مبارڪون هجن ڪجھ ماڻھو موجوده دور ڪجھ ما...</td>\n",
       "      <td>18</td>\n",
       "      <td>14</td>\n",
       "    </tr>\n",
       "    <tr>\n",
       "      <th>5</th>\n",
       "      <td>اینکہ کنوں مے گذ رد در شمار نشیبوں میں ہر سمت ...</td>\n",
       "      <td>START_ بيان ڪندڙن اعلان ڪندو آهي ڪجهه وقت کان ...</td>\n",
       "      <td>26</td>\n",
       "      <td>19</td>\n",
       "    </tr>\n",
       "    <tr>\n",
       "      <th>6</th>\n",
       "      <td>ابتر نہیں کوئی ناتواں سے بڑھ کرورنہ ان شوخیوں ...</td>\n",
       "      <td>START_ ڪو به ڪنهن به قومن کان وڌيڪ قومن جي جوا...</td>\n",
       "      <td>17</td>\n",
       "      <td>17</td>\n",
       "    </tr>\n",
       "    <tr>\n",
       "      <th>7</th>\n",
       "      <td>چوری کے گڑ سے حلوہ بنایا جائے تو اور بھی مزید</td>\n",
       "      <td>START_ جيڪڏهن توهان چوري جي چوري وڌيڪ چوري ڪئي...</td>\n",
       "      <td>11</td>\n",
       "      <td>12</td>\n",
       "    </tr>\n",
       "    <tr>\n",
       "      <th>8</th>\n",
       "      <td>آپ بھی تو اپنے متعلق کچھ بتائیں اس صورتحال میں...</td>\n",
       "      <td>START_ توهان هن صورتحال عمر سادق توهان جي باري...</td>\n",
       "      <td>18</td>\n",
       "      <td>16</td>\n",
       "    </tr>\n",
       "    <tr>\n",
       "      <th>9</th>\n",
       "      <td>تاکہ کچھ ٹائم ادھر بھی ضائع ہو جائے</td>\n",
       "      <td>START_ انهي ڪري ته ڪجهه وقت به ضايع ڪري ٿو _END</td>\n",
       "      <td>9</td>\n",
       "      <td>11</td>\n",
       "    </tr>\n",
       "    <tr>\n",
       "      <th>10</th>\n",
       "      <td>وائےیہ سن کر وہ شخص چل پڑا سیکولر ایجنڈا تو ک...</td>\n",
       "      <td>START_ گودام ٻڌڻ جيڪو شخص هو سيڪيولر ايجنڊا هو...</td>\n",
       "      <td>15</td>\n",
       "      <td>10</td>\n",
       "    </tr>\n",
       "    <tr>\n",
       "      <th>11</th>\n",
       "      <td>مسلم لیگ تو</td>\n",
       "      <td>START_ مسلمان ليگ _END</td>\n",
       "      <td>5</td>\n",
       "      <td>4</td>\n",
       "    </tr>\n",
       "    <tr>\n",
       "      <th>12</th>\n",
       "      <td>ایرانی اپوزیشن کے مطابقکے صدارتی انتخاب</td>\n",
       "      <td>START_ صدارتي اليڪشن جي مخالفت جي مطابق _END</td>\n",
       "      <td>7</td>\n",
       "      <td>8</td>\n",
       "    </tr>\n",
       "    <tr>\n",
       "      <th>13</th>\n",
       "      <td>حق بات تو یہ ہے کہ یہ بہت عمدہ کھیل ہے ہم نے ...</td>\n",
       "      <td>START_ سچ اهو آهي ته اها هڪ عظيم راند آهي اسان...</td>\n",
       "      <td>23</td>\n",
       "      <td>19</td>\n",
       "    </tr>\n",
       "    <tr>\n",
       "      <th>14</th>\n",
       "      <td>دونوں ممالک کے درمیان کرکٹ تعلقات کی خرابی کو</td>\n",
       "      <td>START_ ٻن ملڪن جي وچ ڪرڪيٽ رشتي جي غلطي _END</td>\n",
       "      <td>10</td>\n",
       "      <td>10</td>\n",
       "    </tr>\n",
       "    <tr>\n",
       "      <th>15</th>\n",
       "      <td>نہ ہونٹوں میں جنبش کا یارا عندلیب سے بہتر اور...</td>\n",
       "      <td>START_ نه ئي لبش جي يارن کان بهتر ٿي سگهي ٿو ج...</td>\n",
       "      <td>27</td>\n",
       "      <td>21</td>\n",
       "    </tr>\n",
       "    <tr>\n",
       "      <th>16</th>\n",
       "      <td>میری بہناب میں آپ سے آپ ہی کےلہجے میں مخاطب</td>\n",
       "      <td>START_ مان تنهنجي ڀيڻ منهنجي وهڪري آهيان _END</td>\n",
       "      <td>10</td>\n",
       "      <td>8</td>\n",
       "    </tr>\n",
       "    <tr>\n",
       "      <th>17</th>\n",
       "      <td>الو ہواسی آسانی میں ہم غیبت اور بہتان جیسے گنا...</td>\n",
       "      <td>START_ مان آسانيء سان گناهن جي احساس ڪيترن ئي ...</td>\n",
       "      <td>11</td>\n",
       "      <td>12</td>\n",
       "    </tr>\n",
       "    <tr>\n",
       "      <th>18</th>\n",
       "      <td>پھر تو یہ زیادہ اچھی سروس ہے دائی کی لڑکی خور...</td>\n",
       "      <td>START_ پوء پوء اها سٺي خدمت آهي ڇوڪري جي ڇوڪري...</td>\n",
       "      <td>19</td>\n",
       "      <td>17</td>\n",
       "    </tr>\n",
       "    <tr>\n",
       "      <th>19</th>\n",
       "      <td>فرمایا بیشک ا لوگوں پر بڑی شفقت فرمانے وا</td>\n",
       "      <td>START_ هن چيو ته بيشڪ بيشڪ به ڳاله ماڻهو آهي _END</td>\n",
       "      <td>9</td>\n",
       "      <td>11</td>\n",
       "    </tr>\n",
       "    <tr>\n",
       "      <th>20</th>\n",
       "      <td>بے غیرت حکمرانوں کے کفار کے تلوے چاٹنے نےیہ</td>\n",
       "      <td>START_ ڪفا جو ناقابل اعتبار حڪمرانن جي جماع _END</td>\n",
       "      <td>9</td>\n",
       "      <td>9</td>\n",
       "    </tr>\n",
       "    <tr>\n",
       "      <th>21</th>\n",
       "      <td>یہاں ایسا نہیں ہوتا فیس بک پر ایک خصوصی اولمپک...</td>\n",
       "      <td>START_ هتي اهو ناهي فيسبوڪ تي هڪ خاص اولمپڪ پو...</td>\n",
       "      <td>15</td>\n",
       "      <td>14</td>\n",
       "    </tr>\n",
       "    <tr>\n",
       "      <th>22</th>\n",
       "      <td>یاں لٹ گئے آباد ہم آئے تھے وطن سےجب تک مہ جبین...</td>\n",
       "      <td>START_ توهان آيا اسان ملڪ آيا جيستائين نئون لف...</td>\n",
       "      <td>19</td>\n",
       "      <td>13</td>\n",
       "    </tr>\n",
       "    <tr>\n",
       "      <th>23</th>\n",
       "      <td>عمرو بن قرظہ روز عاشور دشمنوں کے تیروں کے سامن</td>\n",
       "      <td>START_ امري بن جي تيرن جو سامن سامن _END</td>\n",
       "      <td>10</td>\n",
       "      <td>9</td>\n",
       "    </tr>\n",
       "    <tr>\n",
       "      <th>24</th>\n",
       "      <td>تحریراخوندزادہ جلال نورزئیاعلی معیار ماخظمیری ...</td>\n",
       "      <td>START_ ردوادڊا جايل نوزائيفيافيت ڪيفيتم ماهيمي...</td>\n",
       "      <td>20</td>\n",
       "      <td>11</td>\n",
       "    </tr>\n",
       "    <tr>\n",
       "      <th>25</th>\n",
       "      <td>یہ اردو محفل فورم فورم میں سرقہ سے ٹیگ کردہ تم</td>\n",
       "      <td>START_ هي مهرباني فورم اينال فورم سائن ٽريو _END</td>\n",
       "      <td>11</td>\n",
       "      <td>9</td>\n",
       "    </tr>\n",
       "    <tr>\n",
       "      <th>26</th>\n",
       "      <td>سال عمر ہے شادی شدہ آدمی ہوںایک پیاری</td>\n",
       "      <td>START_ سال جي عمر شادي شده ماڻهو آهي _END</td>\n",
       "      <td>9</td>\n",
       "      <td>9</td>\n",
       "    </tr>\n",
       "    <tr>\n",
       "      <th>27</th>\n",
       "      <td>دستور بہرام جی جاماسپ جی بہرامآج دن کا اکثر وق...</td>\n",
       "      <td>START_ مسودو جامشپپا ججيجيجي اڪثر ڏينهن جي اون...</td>\n",
       "      <td>27</td>\n",
       "      <td>19</td>\n",
       "    </tr>\n",
       "    <tr>\n",
       "      <th>29</th>\n",
       "      <td>اکثر سڑک پر اپ سے اگلی گاڑی والی بلا کسی وجہ</td>\n",
       "      <td>START_ اڪثر ايندڙ گاڏي روڊ تي روڊ تي _END</td>\n",
       "      <td>12</td>\n",
       "      <td>9</td>\n",
       "    </tr>\n",
       "    <tr>\n",
       "      <th>30</th>\n",
       "      <td>ابھی فاتح بھائی کا دیوان غیر مطبوعہ ہے اس لئے</td>\n",
       "      <td>START_ فاتح جي کنر اڃا تائين غير ڇپيل آهي _END</td>\n",
       "      <td>11</td>\n",
       "      <td>10</td>\n",
       "    </tr>\n",
       "    <tr>\n",
       "      <th>...</th>\n",
       "      <td>...</td>\n",
       "      <td>...</td>\n",
       "      <td>...</td>\n",
       "      <td>...</td>\n",
       "    </tr>\n",
       "    <tr>\n",
       "      <th>121948</th>\n",
       "      <td>پولیس نے کئ مقامی صحافیوں کے خلاف مقدمہ بھی د</td>\n",
       "      <td>START_ پوليس مقامي صحافين جي خلاف پڻ ڪوشش ڪئي ...</td>\n",
       "      <td>10</td>\n",
       "      <td>10</td>\n",
       "    </tr>\n",
       "    <tr>\n",
       "      <th>121949</th>\n",
       "      <td>ظل الرحمن صاحب کا ہی بیان ہے کہ یہ ذخیرہ ہند و</td>\n",
       "      <td>START_ Zalra urhman جو بيان اهو آهي ته اهو ذخي...</td>\n",
       "      <td>12</td>\n",
       "      <td>13</td>\n",
       "    </tr>\n",
       "    <tr>\n",
       "      <th>121950</th>\n",
       "      <td>میں اس وقت مصروفیت کا شکار ہوں اس لئے رات کے پ</td>\n",
       "      <td>START_ مان هن وقت مصروفيت جي لمحه تي آهيان _END</td>\n",
       "      <td>12</td>\n",
       "      <td>10</td>\n",
       "    </tr>\n",
       "    <tr>\n",
       "      <th>121951</th>\n",
       "      <td>ورنہ کوئی کیا نہیں ذرا بتاؤ تو میں کون سا لفظ</td>\n",
       "      <td>START_ ٻي صورت ڪو به مون کي نه ٻڌايو ته ڪهڙو ل...</td>\n",
       "      <td>12</td>\n",
       "      <td>14</td>\n",
       "    </tr>\n",
       "    <tr>\n",
       "      <th>121953</th>\n",
       "      <td>نا میرے پائیکہ اپنا ہوتا ہے کوئی مگر نہیں ہوت...</td>\n",
       "      <td>START_ نه ئي منهنجو پائڪ ڪو آهي پر مون کي دستي...</td>\n",
       "      <td>21</td>\n",
       "      <td>19</td>\n",
       "    </tr>\n",
       "    <tr>\n",
       "      <th>121954</th>\n",
       "      <td>اب اس جگہ کوئی کنواری نہ بیچی جائے گیان کے پڑو...</td>\n",
       "      <td>START_ هاڻي هن جڳهه تي ڪو به ڪنواري نه ٿيو پاڙ...</td>\n",
       "      <td>18</td>\n",
       "      <td>19</td>\n",
       "    </tr>\n",
       "    <tr>\n",
       "      <th>121956</th>\n",
       "      <td>ارے کیا کھاتی ہو ناشتے میں جو ہر وقت لڑنے پر ت</td>\n",
       "      <td>START_ اي توهان هر وقت ناشتي ڇا کائيندا آهيو _END</td>\n",
       "      <td>12</td>\n",
       "      <td>10</td>\n",
       "    </tr>\n",
       "    <tr>\n",
       "      <th>121957</th>\n",
       "      <td>غضب ہو گیا یہ مخاطب کرکے سلام کیا جا رہا ہے جش...</td>\n",
       "      <td>START_ غضب پاڪستان جي جشن جي جشن کي خطاب ڪرڻ س...</td>\n",
       "      <td>21</td>\n",
       "      <td>15</td>\n",
       "    </tr>\n",
       "    <tr>\n",
       "      <th>121958</th>\n",
       "      <td>بہن بھی کہہ رہے ہیں شاید ایسے ہی ہوشہری علاقوں...</td>\n",
       "      <td>START_ ڀينرون پڻ چئي رهيا آهن شايد اهي نوجوان ...</td>\n",
       "      <td>18</td>\n",
       "      <td>15</td>\n",
       "    </tr>\n",
       "    <tr>\n",
       "      <th>121959</th>\n",
       "      <td>قانون نافذ کرنے والے ادارے اگر بے ایمان ہیں تو</td>\n",
       "      <td>START_ جيڪڏهن قانون لاڳو ڪندڙ ادارا ناقابل يقي...</td>\n",
       "      <td>10</td>\n",
       "      <td>11</td>\n",
       "    </tr>\n",
       "    <tr>\n",
       "      <th>121960</th>\n",
       "      <td>نبیل یہ کام ہمارے روڈمیپ میں ہے سنچورین ٹیسٹجن...</td>\n",
       "      <td>START_ نبيل اهو ڪم اسان جي روڊنپريئرين ٽيسٽ ڪئ...</td>\n",
       "      <td>14</td>\n",
       "      <td>13</td>\n",
       "    </tr>\n",
       "    <tr>\n",
       "      <th>121961</th>\n",
       "      <td>رانا ثنا اللہ نے یہ بھی کہا تھا کہ بچے کے اغوا</td>\n",
       "      <td>START_ رينا سان الله جو پڻ چيو ته ٻار جي اغوا ...</td>\n",
       "      <td>12</td>\n",
       "      <td>12</td>\n",
       "    </tr>\n",
       "    <tr>\n",
       "      <th>121963</th>\n",
       "      <td>وہاں عبدالرؤف ہر معاملے میں درست یا غلط کا تعی</td>\n",
       "      <td>START_ عبدالامف هر صورت صحيح يا غلط آهي _END</td>\n",
       "      <td>10</td>\n",
       "      <td>9</td>\n",
       "    </tr>\n",
       "    <tr>\n",
       "      <th>121964</th>\n",
       "      <td>ویسے بھی جب پاکستانی کپتان بیٹسمین ہو تو وہ می</td>\n",
       "      <td>START_ بهرحال جڏهن پاڪستاني ڪيپٽن بيٽسمين آهي ...</td>\n",
       "      <td>10</td>\n",
       "      <td>10</td>\n",
       "    </tr>\n",
       "    <tr>\n",
       "      <th>121965</th>\n",
       "      <td>جمعہ کو شام میں مختلف شہروں میں ہزاروں افراد ن</td>\n",
       "      <td>START_ جمعه مختلف شهرن هزارين ماڻهو _END</td>\n",
       "      <td>10</td>\n",
       "      <td>7</td>\n",
       "    </tr>\n",
       "    <tr>\n",
       "      <th>121967</th>\n",
       "      <td>پریشان نہ ہو گڑیاشمشاد بھائی کی تو ہو نہیں</td>\n",
       "      <td>START_ پريشان نه ٿيو ڊمانڊ ڀاء نه آهي _END</td>\n",
       "      <td>10</td>\n",
       "      <td>9</td>\n",
       "    </tr>\n",
       "    <tr>\n",
       "      <th>121968</th>\n",
       "      <td>ایمان سراسر علم ہے اور عمل سراسر اطاعت ہے اسی ...</td>\n",
       "      <td>START_ ايمان ايماندار اڻ able اڻ and اڻ رکندڙ ...</td>\n",
       "      <td>26</td>\n",
       "      <td>21</td>\n",
       "    </tr>\n",
       "    <tr>\n",
       "      <th>121969</th>\n",
       "      <td>مجھ سے سنا ہے میں نے یہ ہنر تو نہ چاہتے ہوئے ب...</td>\n",
       "      <td>START_ مون کان ٻڌو مون هن هرر کي نه چاهيو توها...</td>\n",
       "      <td>16</td>\n",
       "      <td>16</td>\n",
       "    </tr>\n",
       "    <tr>\n",
       "      <th>121970</th>\n",
       "      <td>سابقہ والااتنا ارزاں تو نہ تھا مسلماں کا لہوک...</td>\n",
       "      <td>START_ اڳوڻي اهو وقت جي ڳالهه نه هئي ڇاڪاڻ ته ...</td>\n",
       "      <td>20</td>\n",
       "      <td>20</td>\n",
       "    </tr>\n",
       "    <tr>\n",
       "      <th>121971</th>\n",
       "      <td>گھر آنے کے بعد کا احوال وہی جو لکھااگر بان کی ...</td>\n",
       "      <td>START_ گهر اچڻ کان پوء لکيل لکيل لکيو ويو آهي ...</td>\n",
       "      <td>19</td>\n",
       "      <td>21</td>\n",
       "    </tr>\n",
       "    <tr>\n",
       "      <th>121972</th>\n",
       "      <td>معطلی کس چیز انیس بھائی آفت میں ہوںمشکل میں ہو...</td>\n",
       "      <td>START_ آفت اڻويهين ڀائرن معطل ڇا آهي _END</td>\n",
       "      <td>14</td>\n",
       "      <td>8</td>\n",
       "    </tr>\n",
       "    <tr>\n",
       "      <th>121973</th>\n",
       "      <td>عزت ان میں سےایک توپ کی بارود کو دیا سلائی دیکھات</td>\n",
       "      <td>START_ معزز کي بارود ورهايو ويو آهي _END</td>\n",
       "      <td>11</td>\n",
       "      <td>8</td>\n",
       "    </tr>\n",
       "    <tr>\n",
       "      <th>121974</th>\n",
       "      <td>ہوئے فرہان عاشق جانبازاللہ آپکی والدہ محترمہ ...</td>\n",
       "      <td>START_ مليل اسناڪا توهان جي ماء جي ماء محترمه ...</td>\n",
       "      <td>13</td>\n",
       "      <td>13</td>\n",
       "    </tr>\n",
       "    <tr>\n",
       "      <th>121975</th>\n",
       "      <td>کا وہ یہی مطلب سمجھتے ہیں پرتو مہر ہی ذوق رم و...</td>\n",
       "      <td>START_ اهي سمجهندا آهن مطلب جو مطلب سيل شعور آ...</td>\n",
       "      <td>24</td>\n",
       "      <td>17</td>\n",
       "    </tr>\n",
       "    <tr>\n",
       "      <th>121976</th>\n",
       "      <td>ا تعالی کے سوا کوئی نہیں جانتا کہ کسے اس مرت</td>\n",
       "      <td>START_ ڪو به الله تعالي کان سواء knows اڻي ٿو ...</td>\n",
       "      <td>11</td>\n",
       "      <td>15</td>\n",
       "    </tr>\n",
       "    <tr>\n",
       "      <th>121977</th>\n",
       "      <td>تا کہ یہ نظام اپنی پوری ہیبت و شکوہ کے ساتھ جل</td>\n",
       "      <td>START_ انهي ڪري اهو نظام ان جي مڪمل نقصانن سان...</td>\n",
       "      <td>12</td>\n",
       "      <td>13</td>\n",
       "    </tr>\n",
       "    <tr>\n",
       "      <th>121978</th>\n",
       "      <td>اس پر مجھے ایک فرضی واقعہ یاد آ گیا اللہ تعالی...</td>\n",
       "      <td>START_ اهو الهاه الهه الله تعالي تي هڪ دلچسپ و...</td>\n",
       "      <td>20</td>\n",
       "      <td>13</td>\n",
       "    </tr>\n",
       "    <tr>\n",
       "      <th>121979</th>\n",
       "      <td>اور اندر کا موسم تو رہتا ہی خوشگوار ہے شدید گ...</td>\n",
       "      <td>START_ اندر موسم خوشگوار آهي ڪنهن به وقت شهر ر...</td>\n",
       "      <td>22</td>\n",
       "      <td>17</td>\n",
       "    </tr>\n",
       "    <tr>\n",
       "      <th>121980</th>\n",
       "      <td>کھل کے گل کچھ تو بہار جانفزا دکھلا گئےمیں</td>\n",
       "      <td>START_ خليج کوليو ڪجهه شارڊ اسپرنگ جان _END</td>\n",
       "      <td>10</td>\n",
       "      <td>8</td>\n",
       "    </tr>\n",
       "    <tr>\n",
       "      <th>121981</th>\n",
       "      <td>آہستہ آہستہ موسم گرمی کی طرف بڑھ رہا ہےڈیرہ ڈی...</td>\n",
       "      <td>START_ گرمي سان آهستي دھستان پاڪستان کان سامون...</td>\n",
       "      <td>27</td>\n",
       "      <td>27</td>\n",
       "    </tr>\n",
       "  </tbody>\n",
       "</table>\n",
       "<p>111404 rows × 4 columns</p>\n",
       "</div>"
      ],
      "text/plain": [
       "                                                     Urdu  \\\n",
       "0        منہ چھپائے ہوئے گزرا ہے جو احباب سے آجاولین م...   \n",
       "1        ایک سا حال ہے جدھر جاؤآپکو پتہ ہے اکثر کالجز ...   \n",
       "2       یہاں تو سورج آگ برسا رہا ہے یہ ایونٹ پاکستان ک...   \n",
       "3       ڈھائی فیصد پر میں یقین نہیں رکھتی او بھائی تیر...   \n",
       "4       بہت بہت مبارک ہو اہل ہند کو موجودہ دور میں کچھ...   \n",
       "5       اینکہ کنوں مے گذ رد در شمار نشیبوں میں ہر سمت ...   \n",
       "6       ابتر نہیں کوئی ناتواں سے بڑھ کرورنہ ان شوخیوں ...   \n",
       "7           چوری کے گڑ سے حلوہ بنایا جائے تو اور بھی مزید   \n",
       "8       آپ بھی تو اپنے متعلق کچھ بتائیں اس صورتحال میں...   \n",
       "9                    تاکہ کچھ ٹائم ادھر بھی ضائع ہو جائے    \n",
       "10       وائےیہ سن کر وہ شخص چل پڑا سیکولر ایجنڈا تو ک...   \n",
       "11                                           مسلم لیگ تو    \n",
       "12               ایرانی اپوزیشن کے مطابقکے صدارتی انتخاب    \n",
       "13       حق بات تو یہ ہے کہ یہ بہت عمدہ کھیل ہے ہم نے ...   \n",
       "14         دونوں ممالک کے درمیان کرکٹ تعلقات کی خرابی کو    \n",
       "15       نہ ہونٹوں میں جنبش کا یارا عندلیب سے بہتر اور...   \n",
       "16            میری بہناب میں آپ سے آپ ہی کےلہجے میں مخاطب   \n",
       "17      الو ہواسی آسانی میں ہم غیبت اور بہتان جیسے گنا...   \n",
       "18       پھر تو یہ زیادہ اچھی سروس ہے دائی کی لڑکی خور...   \n",
       "19              فرمایا بیشک ا لوگوں پر بڑی شفقت فرمانے وا   \n",
       "20            بے غیرت حکمرانوں کے کفار کے تلوے چاٹنے نےیہ   \n",
       "21      یہاں ایسا نہیں ہوتا فیس بک پر ایک خصوصی اولمپک...   \n",
       "22      یاں لٹ گئے آباد ہم آئے تھے وطن سےجب تک مہ جبین...   \n",
       "23         عمرو بن قرظہ روز عاشور دشمنوں کے تیروں کے سامن   \n",
       "24      تحریراخوندزادہ جلال نورزئیاعلی معیار ماخظمیری ...   \n",
       "25         یہ اردو محفل فورم فورم میں سرقہ سے ٹیگ کردہ تم   \n",
       "26                 سال عمر ہے شادی شدہ آدمی ہوںایک پیاری    \n",
       "27      دستور بہرام جی جاماسپ جی بہرامآج دن کا اکثر وق...   \n",
       "29          اکثر سڑک پر اپ سے اگلی گاڑی والی بلا کسی وجہ    \n",
       "30         ابھی فاتح بھائی کا دیوان غیر مطبوعہ ہے اس لئے    \n",
       "...                                                   ...   \n",
       "121948      پولیس نے کئ مقامی صحافیوں کے خلاف مقدمہ بھی د   \n",
       "121949     ظل الرحمن صاحب کا ہی بیان ہے کہ یہ ذخیرہ ہند و   \n",
       "121950     میں اس وقت مصروفیت کا شکار ہوں اس لئے رات کے پ   \n",
       "121951     ورنہ کوئی کیا نہیں ذرا بتاؤ تو میں کون سا لفظ    \n",
       "121953   نا میرے پائیکہ اپنا ہوتا ہے کوئی مگر نہیں ہوت...   \n",
       "121954  اب اس جگہ کوئی کنواری نہ بیچی جائے گیان کے پڑو...   \n",
       "121956     ارے کیا کھاتی ہو ناشتے میں جو ہر وقت لڑنے پر ت   \n",
       "121957  غضب ہو گیا یہ مخاطب کرکے سلام کیا جا رہا ہے جش...   \n",
       "121958  بہن بھی کہہ رہے ہیں شاید ایسے ہی ہوشہری علاقوں...   \n",
       "121959     قانون نافذ کرنے والے ادارے اگر بے ایمان ہیں تو   \n",
       "121960  نبیل یہ کام ہمارے روڈمیپ میں ہے سنچورین ٹیسٹجن...   \n",
       "121961     رانا ثنا اللہ نے یہ بھی کہا تھا کہ بچے کے اغوا   \n",
       "121963     وہاں عبدالرؤف ہر معاملے میں درست یا غلط کا تعی   \n",
       "121964     ویسے بھی جب پاکستانی کپتان بیٹسمین ہو تو وہ می   \n",
       "121965     جمعہ کو شام میں مختلف شہروں میں ہزاروں افراد ن   \n",
       "121967        پریشان نہ ہو گڑیاشمشاد بھائی کی تو ہو نہیں    \n",
       "121968  ایمان سراسر علم ہے اور عمل سراسر اطاعت ہے اسی ...   \n",
       "121969  مجھ سے سنا ہے میں نے یہ ہنر تو نہ چاہتے ہوئے ب...   \n",
       "121970   سابقہ والااتنا ارزاں تو نہ تھا مسلماں کا لہوک...   \n",
       "121971  گھر آنے کے بعد کا احوال وہی جو لکھااگر بان کی ...   \n",
       "121972  معطلی کس چیز انیس بھائی آفت میں ہوںمشکل میں ہو...   \n",
       "121973  عزت ان میں سےایک توپ کی بارود کو دیا سلائی دیکھات   \n",
       "121974   ہوئے فرہان عاشق جانبازاللہ آپکی والدہ محترمہ ...   \n",
       "121975  کا وہ یہی مطلب سمجھتے ہیں پرتو مہر ہی ذوق رم و...   \n",
       "121976       ا تعالی کے سوا کوئی نہیں جانتا کہ کسے اس مرت   \n",
       "121977     تا کہ یہ نظام اپنی پوری ہیبت و شکوہ کے ساتھ جل   \n",
       "121978  اس پر مجھے ایک فرضی واقعہ یاد آ گیا اللہ تعالی...   \n",
       "121979   اور اندر کا موسم تو رہتا ہی خوشگوار ہے شدید گ...   \n",
       "121980          کھل کے گل کچھ تو بہار جانفزا دکھلا گئےمیں   \n",
       "121981  آہستہ آہستہ موسم گرمی کی طرف بڑھ رہا ہےڈیرہ ڈی...   \n",
       "\n",
       "                                                   Sindhi  \\\n",
       "0       START_ سوتر لڪيل آهي جيڪو مغروني سالن مان آهي ...   \n",
       "1       START_ اتي وقت جو معاملو آهي توهان know اڻو ٿا...   \n",
       "2       START_ هتي سج جلائڻ واري باهه آهي اهو واقعو پا...   \n",
       "3       START_ اڌ سيڪڙو تي مون کي يقين نه آهي ڀاء توها...   \n",
       "4       START_ مبارڪون هجن ڪجھ ماڻھو موجوده دور ڪجھ ما...   \n",
       "5       START_ بيان ڪندڙن اعلان ڪندو آهي ڪجهه وقت کان ...   \n",
       "6       START_ ڪو به ڪنهن به قومن کان وڌيڪ قومن جي جوا...   \n",
       "7       START_ جيڪڏهن توهان چوري جي چوري وڌيڪ چوري ڪئي...   \n",
       "8       START_ توهان هن صورتحال عمر سادق توهان جي باري...   \n",
       "9         START_ انهي ڪري ته ڪجهه وقت به ضايع ڪري ٿو _END   \n",
       "10      START_ گودام ٻڌڻ جيڪو شخص هو سيڪيولر ايجنڊا هو...   \n",
       "11                                 START_ مسلمان ليگ _END   \n",
       "12           START_ صدارتي اليڪشن جي مخالفت جي مطابق _END   \n",
       "13      START_ سچ اهو آهي ته اها هڪ عظيم راند آهي اسان...   \n",
       "14           START_ ٻن ملڪن جي وچ ڪرڪيٽ رشتي جي غلطي _END   \n",
       "15      START_ نه ئي لبش جي يارن کان بهتر ٿي سگهي ٿو ج...   \n",
       "16          START_ مان تنهنجي ڀيڻ منهنجي وهڪري آهيان _END   \n",
       "17      START_ مان آسانيء سان گناهن جي احساس ڪيترن ئي ...   \n",
       "18      START_ پوء پوء اها سٺي خدمت آهي ڇوڪري جي ڇوڪري...   \n",
       "19      START_ هن چيو ته بيشڪ بيشڪ به ڳاله ماڻهو آهي _END   \n",
       "20       START_ ڪفا جو ناقابل اعتبار حڪمرانن جي جماع _END   \n",
       "21      START_ هتي اهو ناهي فيسبوڪ تي هڪ خاص اولمپڪ پو...   \n",
       "22      START_ توهان آيا اسان ملڪ آيا جيستائين نئون لف...   \n",
       "23               START_ امري بن جي تيرن جو سامن سامن _END   \n",
       "24      START_ ردوادڊا جايل نوزائيفيافيت ڪيفيتم ماهيمي...   \n",
       "25       START_ هي مهرباني فورم اينال فورم سائن ٽريو _END   \n",
       "26              START_ سال جي عمر شادي شده ماڻهو آهي _END   \n",
       "27      START_ مسودو جامشپپا ججيجيجي اڪثر ڏينهن جي اون...   \n",
       "29              START_ اڪثر ايندڙ گاڏي روڊ تي روڊ تي _END   \n",
       "30         START_ فاتح جي کنر اڃا تائين غير ڇپيل آهي _END   \n",
       "...                                                   ...   \n",
       "121948  START_ پوليس مقامي صحافين جي خلاف پڻ ڪوشش ڪئي ...   \n",
       "121949  START_ Zalra urhman جو بيان اهو آهي ته اهو ذخي...   \n",
       "121950    START_ مان هن وقت مصروفيت جي لمحه تي آهيان _END   \n",
       "121951  START_ ٻي صورت ڪو به مون کي نه ٻڌايو ته ڪهڙو ل...   \n",
       "121953  START_ نه ئي منهنجو پائڪ ڪو آهي پر مون کي دستي...   \n",
       "121954  START_ هاڻي هن جڳهه تي ڪو به ڪنواري نه ٿيو پاڙ...   \n",
       "121956  START_ اي توهان هر وقت ناشتي ڇا کائيندا آهيو _END   \n",
       "121957  START_ غضب پاڪستان جي جشن جي جشن کي خطاب ڪرڻ س...   \n",
       "121958  START_ ڀينرون پڻ چئي رهيا آهن شايد اهي نوجوان ...   \n",
       "121959  START_ جيڪڏهن قانون لاڳو ڪندڙ ادارا ناقابل يقي...   \n",
       "121960  START_ نبيل اهو ڪم اسان جي روڊنپريئرين ٽيسٽ ڪئ...   \n",
       "121961  START_ رينا سان الله جو پڻ چيو ته ٻار جي اغوا ...   \n",
       "121963       START_ عبدالامف هر صورت صحيح يا غلط آهي _END   \n",
       "121964  START_ بهرحال جڏهن پاڪستاني ڪيپٽن بيٽسمين آهي ...   \n",
       "121965           START_ جمعه مختلف شهرن هزارين ماڻهو _END   \n",
       "121967         START_ پريشان نه ٿيو ڊمانڊ ڀاء نه آهي _END   \n",
       "121968  START_ ايمان ايماندار اڻ able اڻ and اڻ رکندڙ ...   \n",
       "121969  START_ مون کان ٻڌو مون هن هرر کي نه چاهيو توها...   \n",
       "121970  START_ اڳوڻي اهو وقت جي ڳالهه نه هئي ڇاڪاڻ ته ...   \n",
       "121971  START_ گهر اچڻ کان پوء لکيل لکيل لکيو ويو آهي ...   \n",
       "121972          START_ آفت اڻويهين ڀائرن معطل ڇا آهي _END   \n",
       "121973           START_ معزز کي بارود ورهايو ويو آهي _END   \n",
       "121974  START_ مليل اسناڪا توهان جي ماء جي ماء محترمه ...   \n",
       "121975  START_ اهي سمجهندا آهن مطلب جو مطلب سيل شعور آ...   \n",
       "121976  START_ ڪو به الله تعالي کان سواء knows اڻي ٿو ...   \n",
       "121977  START_ انهي ڪري اهو نظام ان جي مڪمل نقصانن سان...   \n",
       "121978  START_ اهو الهاه الهه الله تعالي تي هڪ دلچسپ و...   \n",
       "121979  START_ اندر موسم خوشگوار آهي ڪنهن به وقت شهر ر...   \n",
       "121980        START_ خليج کوليو ڪجهه شارڊ اسپرنگ جان _END   \n",
       "121981  START_ گرمي سان آهستي دھستان پاڪستان کان سامون...   \n",
       "\n",
       "        length_urdu_sentence  length_sindhi_sentence  \n",
       "0                         20                      24  \n",
       "1                         17                      17  \n",
       "2                         16                      18  \n",
       "3                         19                      20  \n",
       "4                         18                      14  \n",
       "5                         26                      19  \n",
       "6                         17                      17  \n",
       "7                         11                      12  \n",
       "8                         18                      16  \n",
       "9                          9                      11  \n",
       "10                        15                      10  \n",
       "11                         5                       4  \n",
       "12                         7                       8  \n",
       "13                        23                      19  \n",
       "14                        10                      10  \n",
       "15                        27                      21  \n",
       "16                        10                       8  \n",
       "17                        11                      12  \n",
       "18                        19                      17  \n",
       "19                         9                      11  \n",
       "20                         9                       9  \n",
       "21                        15                      14  \n",
       "22                        19                      13  \n",
       "23                        10                       9  \n",
       "24                        20                      11  \n",
       "25                        11                       9  \n",
       "26                         9                       9  \n",
       "27                        27                      19  \n",
       "29                        12                       9  \n",
       "30                        11                      10  \n",
       "...                      ...                     ...  \n",
       "121948                    10                      10  \n",
       "121949                    12                      13  \n",
       "121950                    12                      10  \n",
       "121951                    12                      14  \n",
       "121953                    21                      19  \n",
       "121954                    18                      19  \n",
       "121956                    12                      10  \n",
       "121957                    21                      15  \n",
       "121958                    18                      15  \n",
       "121959                    10                      11  \n",
       "121960                    14                      13  \n",
       "121961                    12                      12  \n",
       "121963                    10                       9  \n",
       "121964                    10                      10  \n",
       "121965                    10                       7  \n",
       "121967                    10                       9  \n",
       "121968                    26                      21  \n",
       "121969                    16                      16  \n",
       "121970                    20                      20  \n",
       "121971                    19                      21  \n",
       "121972                    14                       8  \n",
       "121973                    11                       8  \n",
       "121974                    13                      13  \n",
       "121975                    24                      17  \n",
       "121976                    11                      15  \n",
       "121977                    12                      13  \n",
       "121978                    20                      13  \n",
       "121979                    22                      17  \n",
       "121980                    10                       8  \n",
       "121981                    27                      27  \n",
       "\n",
       "[111404 rows x 4 columns]"
      ]
     },
     "execution_count": 18,
     "metadata": {},
     "output_type": "execute_result"
    }
   ],
   "source": [
    "lines"
   ]
  },
  {
   "cell_type": "code",
   "execution_count": 19,
   "metadata": {
    "colab": {
     "base_uri": "https://localhost:8080/"
    },
    "id": "UQmki14WEG8z",
    "outputId": "e35f0949-2889-42eb-98ef-63798c13731c"
   },
   "outputs": [
    {
     "name": "stdout",
     "output_type": "stream",
     "text": [
      "maximum length of Sindhi Sentence  30\n",
      "maximum length of Urdu Sentence  30\n"
     ]
    }
   ],
   "source": [
    "print(\"maximum length of Sindhi Sentence \",max(lines['length_sindhi_sentence']))\n",
    "print(\"maximum length of Urdu Sentence \",max(lines['length_urdu_sentence']))"
   ]
  },
  {
   "cell_type": "code",
   "execution_count": 20,
   "metadata": {
    "id": "yzVkByAcEG8z"
   },
   "outputs": [],
   "source": [
    "max_length_src=max(lines['length_sindhi_sentence'])\n",
    "max_length_tar=max(lines['length_urdu_sentence'])"
   ]
  },
  {
   "cell_type": "code",
   "execution_count": 21,
   "metadata": {
    "colab": {
     "base_uri": "https://localhost:8080/"
    },
    "id": "zuIU6wG9EG8z",
    "outputId": "b7195e31-a643-403c-dbda-9c0eed83e2db"
   },
   "outputs": [
    {
     "data": {
      "text/plain": [
       "(135679, 66982)"
      ]
     },
     "execution_count": 21,
     "metadata": {},
     "output_type": "execute_result"
    }
   ],
   "source": [
    "input_words = sorted(list(all_urdu_words))\n",
    "target_words = sorted(list(all_sindhi_words))\n",
    "num_encoder_tokens = len(all_urdu_words)\n",
    "num_decoder_tokens = len(all_sindhi_words)\n",
    "num_encoder_tokens, num_decoder_tokens"
   ]
  },
  {
   "cell_type": "code",
   "execution_count": 22,
   "metadata": {
    "id": "2naD2bcjEG80"
   },
   "outputs": [],
   "source": [
    "num_decoder_tokens += 1 #for zero padding\n"
   ]
  },
  {
   "cell_type": "code",
   "execution_count": 23,
   "metadata": {
    "id": "ot5TZ0YMEG80"
   },
   "outputs": [],
   "source": [
    "input_token_index = dict([(word, i+1) for i, word in enumerate(input_words)])\n",
    "target_token_index = dict([(word, i+1) for i, word in enumerate(target_words)])"
   ]
  },
  {
   "cell_type": "code",
   "execution_count": 24,
   "metadata": {
    "id": "IbVxZ_bOEG80"
   },
   "outputs": [],
   "source": [
    "reverse_input_char_index = dict((i, word) for word, i in input_token_index.items())\n",
    "reverse_target_char_index = dict((i, word) for word, i in target_token_index.items())"
   ]
  },
  {
   "cell_type": "code",
   "execution_count": 25,
   "metadata": {
    "colab": {
     "base_uri": "https://localhost:8080/",
     "height": 357
    },
    "id": "BS0q8n_KEG81",
    "outputId": "503f1a99-bb1d-4ca1-c14f-3d38aa7e1507"
   },
   "outputs": [
    {
     "data": {
      "text/html": [
       "<div>\n",
       "<style scoped>\n",
       "    .dataframe tbody tr th:only-of-type {\n",
       "        vertical-align: middle;\n",
       "    }\n",
       "\n",
       "    .dataframe tbody tr th {\n",
       "        vertical-align: top;\n",
       "    }\n",
       "\n",
       "    .dataframe thead th {\n",
       "        text-align: right;\n",
       "    }\n",
       "</style>\n",
       "<table border=\"1\" class=\"dataframe\">\n",
       "  <thead>\n",
       "    <tr style=\"text-align: right;\">\n",
       "      <th></th>\n",
       "      <th>Urdu</th>\n",
       "      <th>Sindhi</th>\n",
       "      <th>length_urdu_sentence</th>\n",
       "      <th>length_sindhi_sentence</th>\n",
       "    </tr>\n",
       "  </thead>\n",
       "  <tbody>\n",
       "    <tr>\n",
       "      <th>60504</th>\n",
       "      <td>پھر اسکے بعد فرماتے ہیں کہ اگر جن امر اور نہی</td>\n",
       "      <td>START_ پوء اهي چوندا جيڪڏهن توهان نٿا know اڻي...</td>\n",
       "      <td>12</td>\n",
       "      <td>10</td>\n",
       "    </tr>\n",
       "    <tr>\n",
       "      <th>66930</th>\n",
       "      <td>مجھے تو بہت ھی تعجب ھوا کہ یہ اچانک میرے برابر</td>\n",
       "      <td>START_ مان حيران ٿي ويس ته اهو اوچتو مون کي بر...</td>\n",
       "      <td>11</td>\n",
       "      <td>13</td>\n",
       "    </tr>\n",
       "    <tr>\n",
       "      <th>86595</th>\n",
       "      <td>نبیل منتظم اعلیسے اوپر سب سے زیادہمیں نے خیر ...</td>\n",
       "      <td>START_ نبيل جا منتظم ا the ڪلهه کان مٿي ڏٺا آه...</td>\n",
       "      <td>19</td>\n",
       "      <td>16</td>\n",
       "    </tr>\n",
       "    <tr>\n",
       "      <th>107198</th>\n",
       "      <td>یونہی پہلو میں بیٹھو رہوایک بڑی تعداد سنگاپور...</td>\n",
       "      <td>START_ اٺين پهلو ويهو سنگاپور هڪ وڏي تعداد اهي...</td>\n",
       "      <td>15</td>\n",
       "      <td>10</td>\n",
       "    </tr>\n",
       "    <tr>\n",
       "      <th>113723</th>\n",
       "      <td>کانفرنس سے خطاب میں کہا کہ خطے میں اگر بدامنی</td>\n",
       "      <td>START_ ڪانفرنس کي خطاب ڪندي ته جيڪڏهن علائقي ب...</td>\n",
       "      <td>12</td>\n",
       "      <td>11</td>\n",
       "    </tr>\n",
       "    <tr>\n",
       "      <th>90990</th>\n",
       "      <td>اور باقی کی شاپنگ بھی پہنچ رہی ہے پرسوں تکمیں...</td>\n",
       "      <td>START_ باقي شاپنگ ڪورسز تي پڻ پهچي رهيو آهي پو...</td>\n",
       "      <td>24</td>\n",
       "      <td>22</td>\n",
       "    </tr>\n",
       "    <tr>\n",
       "      <th>39876</th>\n",
       "      <td>ھ حکومت محمد عادل شاہ سوری ویسے آپ نے بتایا نہ...</td>\n",
       "      <td>START_ حڪومت ڪئي گورنمينٽ ا today توهان نه چئو...</td>\n",
       "      <td>18</td>\n",
       "      <td>16</td>\n",
       "    </tr>\n",
       "    <tr>\n",
       "      <th>76432</th>\n",
       "      <td>ایک اردو لفظی عمل کار ایس سی یونی پیڈ وہاں سے</td>\n",
       "      <td>START_ هڪ اردو پروسيسر ايس سي کان اڻ ادا ڪيل آ...</td>\n",
       "      <td>12</td>\n",
       "      <td>12</td>\n",
       "    </tr>\n",
       "    <tr>\n",
       "      <th>65026</th>\n",
       "      <td>ذرا مسجد میں بھی اے دشمن ایمان و دیں آجالیتے ن...</td>\n",
       "      <td>START_ مسجد مان مسجد تي يقين نه ٿو ڪريان بازام...</td>\n",
       "      <td>25</td>\n",
       "      <td>22</td>\n",
       "    </tr>\n",
       "    <tr>\n",
       "      <th>98943</th>\n",
       "      <td>کہ فی الحال مہیلا جے وردھنے ک دھونی ب عرفانچلت...</td>\n",
       "      <td>START_ في الحال مهله J DHHINN BAY BIN توهان اف...</td>\n",
       "      <td>22</td>\n",
       "      <td>21</td>\n",
       "    </tr>\n",
       "  </tbody>\n",
       "</table>\n",
       "</div>"
      ],
      "text/plain": [
       "                                                     Urdu  \\\n",
       "60504      پھر اسکے بعد فرماتے ہیں کہ اگر جن امر اور نہی    \n",
       "66930      مجھے تو بہت ھی تعجب ھوا کہ یہ اچانک میرے برابر   \n",
       "86595    نبیل منتظم اعلیسے اوپر سب سے زیادہمیں نے خیر ...   \n",
       "107198   یونہی پہلو میں بیٹھو رہوایک بڑی تعداد سنگاپور...   \n",
       "113723     کانفرنس سے خطاب میں کہا کہ خطے میں اگر بدامنی    \n",
       "90990    اور باقی کی شاپنگ بھی پہنچ رہی ہے پرسوں تکمیں...   \n",
       "39876   ھ حکومت محمد عادل شاہ سوری ویسے آپ نے بتایا نہ...   \n",
       "76432      ایک اردو لفظی عمل کار ایس سی یونی پیڈ وہاں سے    \n",
       "65026   ذرا مسجد میں بھی اے دشمن ایمان و دیں آجالیتے ن...   \n",
       "98943   کہ فی الحال مہیلا جے وردھنے ک دھونی ب عرفانچلت...   \n",
       "\n",
       "                                                   Sindhi  \\\n",
       "60504   START_ پوء اهي چوندا جيڪڏهن توهان نٿا know اڻي...   \n",
       "66930   START_ مان حيران ٿي ويس ته اهو اوچتو مون کي بر...   \n",
       "86595   START_ نبيل جا منتظم ا the ڪلهه کان مٿي ڏٺا آه...   \n",
       "107198  START_ اٺين پهلو ويهو سنگاپور هڪ وڏي تعداد اهي...   \n",
       "113723  START_ ڪانفرنس کي خطاب ڪندي ته جيڪڏهن علائقي ب...   \n",
       "90990   START_ باقي شاپنگ ڪورسز تي پڻ پهچي رهيو آهي پو...   \n",
       "39876   START_ حڪومت ڪئي گورنمينٽ ا today توهان نه چئو...   \n",
       "76432   START_ هڪ اردو پروسيسر ايس سي کان اڻ ادا ڪيل آ...   \n",
       "65026   START_ مسجد مان مسجد تي يقين نه ٿو ڪريان بازام...   \n",
       "98943   START_ في الحال مهله J DHHINN BAY BIN توهان اف...   \n",
       "\n",
       "        length_urdu_sentence  length_sindhi_sentence  \n",
       "60504                     12                      10  \n",
       "66930                     11                      13  \n",
       "86595                     19                      16  \n",
       "107198                    15                      10  \n",
       "113723                    12                      11  \n",
       "90990                     24                      22  \n",
       "39876                     18                      16  \n",
       "76432                     12                      12  \n",
       "65026                     25                      22  \n",
       "98943                     22                      21  "
      ]
     },
     "execution_count": 25,
     "metadata": {},
     "output_type": "execute_result"
    }
   ],
   "source": [
    "lines = shuffle(lines)\n",
    "lines.head(10)"
   ]
  },
  {
   "cell_type": "markdown",
   "metadata": {
    "id": "N7EikcqjEG82"
   },
   "source": [
    "### Split the data into train and test"
   ]
  },
  {
   "cell_type": "code",
   "execution_count": 26,
   "metadata": {
    "colab": {
     "base_uri": "https://localhost:8080/"
    },
    "id": "gCS4BmbdEG82",
    "outputId": "09f31b39-3806-4ecb-ee4f-c6b79ac8ea0e"
   },
   "outputs": [
    {
     "data": {
      "text/plain": [
       "((89123,), (22281,))"
      ]
     },
     "execution_count": 26,
     "metadata": {},
     "output_type": "execute_result"
    }
   ],
   "source": [
    "X, y = lines['Urdu'], lines['Sindhi']\n",
    "X_train, X_test, y_train, y_test = train_test_split(X, y, test_size = 0.2,random_state=42)\n",
    "X_train.shape, X_test.shape"
   ]
  },
  {
   "cell_type": "markdown",
   "metadata": {
    "id": "1QUsuj2WEG82"
   },
   "source": [
    "### Let us save this data"
   ]
  },
  {
   "cell_type": "code",
   "execution_count": 27,
   "metadata": {
    "id": "tJPHDXlZEG83"
   },
   "outputs": [],
   "source": [
    "X_train.to_pickle('X_trainS.pkl')\n",
    "X_test.to_pickle('X_testS.pkl')\n"
   ]
  },
  {
   "cell_type": "code",
   "execution_count": 28,
   "metadata": {
    "id": "eBddPgvkEG83"
   },
   "outputs": [],
   "source": [
    "def generate_batch(X = X_train, y = y_train, batch_size = 128):\n",
    "    ''' Generate a batch of data '''\n",
    "    while True:\n",
    "        for j in range(0, len(X), batch_size):\n",
    "            encoder_input_data = np.zeros((batch_size, max_length_src),dtype='float32')\n",
    "            decoder_input_data = np.zeros((batch_size, max_length_tar),dtype='float32')\n",
    "            decoder_target_data = np.zeros((batch_size, max_length_tar, num_decoder_tokens),dtype='float32')\n",
    "            for i, (input_text, target_text) in enumerate(zip(X[j:j+batch_size], y[j:j+batch_size])):\n",
    "                for t, word in enumerate(input_text.split()):\n",
    "                    encoder_input_data[i, t] = input_token_index[word] # encoder input seq\n",
    "                for t, word in enumerate(target_text.split()):\n",
    "                    if t<len(target_text.split())-1:\n",
    "                        decoder_input_data[i, t] = target_token_index[word] # decoder input seq\n",
    "                    if t>0:\n",
    "                        # decoder target sequence (one hot encoded)\n",
    "                        # does not include the START_ token\n",
    "                        # Offset by one timestep\n",
    "                        decoder_target_data[i, t - 1, target_token_index[word]] = 1.\n",
    "            yield([encoder_input_data, decoder_input_data], decoder_target_data)"
   ]
  },
  {
   "cell_type": "markdown",
   "metadata": {
    "id": "QRV0JZTvEG83"
   },
   "source": [
    "### Encoder-Decoder Architecture"
   ]
  },
  {
   "cell_type": "code",
   "execution_count": 29,
   "metadata": {
    "id": "wDN30BiVEG84"
   },
   "outputs": [],
   "source": [
    "latent_dim=300"
   ]
  },
  {
   "cell_type": "code",
   "execution_count": 30,
   "metadata": {
    "id": "6Q0zu04pEG84"
   },
   "outputs": [],
   "source": [
    "# Encoder\n",
    "encoder_inputs = Input(shape=(None,))\n",
    "enc_emb =  Embedding(num_encoder_tokens+1, latent_dim, mask_zero = True)(encoder_inputs)\n",
    "encoder_lstm = LSTM(latent_dim, return_state=True)\n",
    "encoder_outputs, state_h, state_c = encoder_lstm(enc_emb)\n",
    "# We discard `encoder_outputs` and only keep the states.\n",
    "encoder_states = [state_h, state_c]"
   ]
  },
  {
   "cell_type": "code",
   "execution_count": null,
   "metadata": {
    "id": "S8oFGvEXyZ5n"
   },
   "outputs": [],
   "source": []
  },
  {
   "cell_type": "code",
   "execution_count": 31,
   "metadata": {
    "id": "9NHmKB4AEG84"
   },
   "outputs": [],
   "source": [
    "# Set up the decoder, using `encoder_states` as initial state.\n",
    "decoder_inputs = Input(shape=(None,))\n",
    "dec_emb_layer = Embedding(num_decoder_tokens, latent_dim, mask_zero = True)\n",
    "dec_emb = dec_emb_layer(decoder_inputs)\n",
    "# We set up our decoder to return full output sequences,\n",
    "# and to return internal states as well. We don't use the\n",
    "# return states in the training model, but we will use them in inference.\n",
    "decoder_lstm = LSTM(latent_dim, return_sequences=True, return_state=True)\n",
    "decoder_outputs, _, _ = decoder_lstm(dec_emb,\n",
    "                                     initial_state=encoder_states)\n",
    "decoder_dense = Dense(num_decoder_tokens, activation='softmax')\n",
    "decoder_outputs = decoder_dense(decoder_outputs)\n",
    "\n",
    "# Define the model that will turn\n",
    "# `encoder_input_data` & `decoder_input_data` into `decoder_target_data`\n",
    "model = Model([encoder_inputs, decoder_inputs], decoder_outputs)"
   ]
  },
  {
   "cell_type": "code",
   "execution_count": 32,
   "metadata": {
    "id": "eh3HWfFeEG85"
   },
   "outputs": [],
   "source": [
    "model.compile(optimizer='rmsprop', loss='categorical_crossentropy')"
   ]
  },
  {
   "cell_type": "code",
   "execution_count": 33,
   "metadata": {
    "colab": {
     "base_uri": "https://localhost:8080/"
    },
    "id": "Uron68K3EG85",
    "outputId": "485266ee-febd-4acd-bcfe-0fe0960bc8a5"
   },
   "outputs": [
    {
     "name": "stdout",
     "output_type": "stream",
     "text": [
      "Model: \"model\"\n",
      "__________________________________________________________________________________________________\n",
      "Layer (type)                    Output Shape         Param #     Connected to                     \n",
      "==================================================================================================\n",
      "input_1 (InputLayer)            [(None, None)]       0                                            \n",
      "__________________________________________________________________________________________________\n",
      "input_2 (InputLayer)            [(None, None)]       0                                            \n",
      "__________________________________________________________________________________________________\n",
      "embedding (Embedding)           (None, None, 300)    40704000    input_1[0][0]                    \n",
      "__________________________________________________________________________________________________\n",
      "embedding_1 (Embedding)         (None, None, 300)    20094900    input_2[0][0]                    \n",
      "__________________________________________________________________________________________________\n",
      "lstm (LSTM)                     [(None, 300), (None, 721200      embedding[0][0]                  \n",
      "__________________________________________________________________________________________________\n",
      "lstm_1 (LSTM)                   [(None, None, 300),  721200      embedding_1[0][0]                \n",
      "                                                                 lstm[0][1]                       \n",
      "                                                                 lstm[0][2]                       \n",
      "__________________________________________________________________________________________________\n",
      "dense (Dense)                   (None, None, 66983)  20161883    lstm_1[0][0]                     \n",
      "==================================================================================================\n",
      "Total params: 82,403,183\n",
      "Trainable params: 82,403,183\n",
      "Non-trainable params: 0\n",
      "__________________________________________________________________________________________________\n"
     ]
    }
   ],
   "source": [
    "model.summary()"
   ]
  },
  {
   "cell_type": "code",
   "execution_count": 34,
   "metadata": {
    "colab": {
     "base_uri": "https://localhost:8080/"
    },
    "id": "_ClqtNvxEG85",
    "outputId": "78516255-8458-454a-b24b-4c324ec609ca"
   },
   "outputs": [
    {
     "data": {
      "text/plain": [
       "89123"
      ]
     },
     "execution_count": 34,
     "metadata": {},
     "output_type": "execute_result"
    }
   ],
   "source": [
    "train_samples = len(X_train)\n",
    "val_samples = len(X_test)\n",
    "batch_size = 128\n",
    "epochs = 100\n",
    "len(X_train)"
   ]
  },
  {
   "cell_type": "code",
   "execution_count": 35,
   "metadata": {
    "colab": {
     "base_uri": "https://localhost:8080/"
    },
    "id": "o6-RiAzDEG85",
    "outputId": "5042c1cf-181f-49c2-8dae-4ad9d6c4f719"
   },
   "outputs": [
    {
     "name": "stderr",
     "output_type": "stream",
     "text": [
      "C:\\Users\\Rameel\\Anaconda3\\lib\\site-packages\\keras\\engine\\training.py:1972: UserWarning: `Model.fit_generator` is deprecated and will be removed in a future version. Please use `Model.fit`, which supports generators.\n",
      "  warnings.warn('`Model.fit_generator` is deprecated and '\n"
     ]
    },
    {
     "name": "stdout",
     "output_type": "stream",
     "text": [
      "Epoch 1/100\n",
      "696/696 [==============================] - 5746s 8s/step - loss: 2.4547 - val_loss: 2.2243\n",
      "Epoch 2/100\n",
      "696/696 [==============================] - 5733s 8s/step - loss: 2.1227 - val_loss: 2.0578\n",
      "Epoch 3/100\n",
      "696/696 [==============================] - 6067s 9s/step - loss: 1.9635 - val_loss: 1.9624\n",
      "Epoch 4/100\n",
      "696/696 [==============================] - 5615s 8s/step - loss: 1.8385 - val_loss: 1.8966\n",
      "Epoch 5/100\n",
      "696/696 [==============================] - 5385s 8s/step - loss: 1.7341 - val_loss: 1.8569\n",
      "Epoch 6/100\n",
      "696/696 [==============================] - 5397s 8s/step - loss: 1.6439 - val_loss: 1.8343\n",
      "Epoch 7/100\n",
      "696/696 [==============================] - 5404s 8s/step - loss: 1.5655 - val_loss: 1.8244\n",
      "Epoch 8/100\n",
      "696/696 [==============================] - 5399s 8s/step - loss: 1.4947 - val_loss: 1.8335\n",
      "Epoch 9/100\n",
      "696/696 [==============================] - 5393s 8s/step - loss: 1.4301 - val_loss: 1.8438\n",
      "Epoch 10/100\n",
      "696/696 [==============================] - 5412s 8s/step - loss: 1.3699 - val_loss: 1.8511\n",
      "Epoch 11/100\n",
      "696/696 [==============================] - 5557s 8s/step - loss: 1.3150 - val_loss: 1.8665\n",
      "Epoch 12/100\n",
      "696/696 [==============================] - 5656s 8s/step - loss: 1.2632 - val_loss: 1.8832\n",
      "Epoch 13/100\n",
      "696/696 [==============================] - 5661s 8s/step - loss: 1.2158 - val_loss: 1.9051\n",
      "Epoch 14/100\n",
      "696/696 [==============================] - 6258s 9s/step - loss: 1.1720 - val_loss: 1.9303\n",
      "Epoch 15/100\n",
      "696/696 [==============================] - 6296s 9s/step - loss: 1.1299 - val_loss: 1.9537\n",
      "Epoch 00015: early stopping\n"
     ]
    },
    {
     "data": {
      "text/plain": [
       "<keras.callbacks.History at 0x277a5461978>"
      ]
     },
     "execution_count": 35,
     "metadata": {},
     "output_type": "execute_result"
    }
   ],
   "source": [
    "es = EarlyStopping(monitor='val_loss', mode='min', verbose=1, patience=8)\n",
    "model.fit_generator(generator = generate_batch(X_train, y_train, batch_size = batch_size),\n",
    "                    steps_per_epoch = train_samples//batch_size,\n",
    "                    epochs=epochs,\n",
    "                    validation_data = generate_batch(X_test, y_test, batch_size = batch_size),\n",
    "                    validation_steps = val_samples//batch_size,\n",
    "                    callbacks=[es])\n",
    "\n"
   ]
  },
  {
   "cell_type": "code",
   "execution_count": 38,
   "metadata": {
    "id": "g0AaT0iDEG85"
   },
   "outputs": [],
   "source": [
    "model.save('best_model_S.h5')"
   ]
  },
  {
   "cell_type": "code",
   "execution_count": 39,
   "metadata": {
    "id": "zDQZgDIZEG86"
   },
   "outputs": [],
   "source": [
    "# Encode the input sequence to get the \"thought vectors\"\n",
    "encoder_model = Model(encoder_inputs, encoder_states)\n",
    "\n",
    "# Decoder setup\n",
    "# Below tensors will hold the states of the previous time step\n",
    "decoder_state_input_h = Input(shape=(latent_dim,))\n",
    "decoder_state_input_c = Input(shape=(latent_dim,))\n",
    "decoder_states_inputs = [decoder_state_input_h, decoder_state_input_c]\n",
    "\n",
    "dec_emb2= dec_emb_layer(decoder_inputs) # Get the embeddings of the decoder sequence\n",
    "\n",
    "# To predict the next word in the sequence, set the initial states to the states from the previous time step\n",
    "decoder_outputs2, state_h2, state_c2 = decoder_lstm(dec_emb2, initial_state=decoder_states_inputs)\n",
    "decoder_states2 = [state_h2, state_c2]\n",
    "decoder_outputs2 = decoder_dense(decoder_outputs2) # A dense softmax layer to generate prob dist. over the target vocabulary\n",
    "\n",
    "# Final decoder model\n",
    "decoder_model = Model(\n",
    "    [decoder_inputs] + decoder_states_inputs,\n",
    "    [decoder_outputs2] + decoder_states2)\n"
   ]
  },
  {
   "cell_type": "code",
   "execution_count": 40,
   "metadata": {
    "id": "A3NFqFPpEG86"
   },
   "outputs": [],
   "source": [
    "def decode_sequence(input_seq):\n",
    "    # Encode the input as state vectors.\n",
    "    states_value = encoder_model.predict(input_seq)\n",
    "    # Generate empty target sequence of length 1.\n",
    "    target_seq = np.zeros((1,1))\n",
    "    # Populate the first character of target sequence with the start character.\n",
    "    target_seq[0, 0] = target_token_index['START_']\n",
    "\n",
    "    # Sampling loop for a batch of sequences\n",
    "    # (to simplify, here we assume a batch of size 1).\n",
    "    stop_condition = False\n",
    "    decoded_sentence = ''\n",
    "    while not stop_condition:\n",
    "        output_tokens, h, c = decoder_model.predict([target_seq] + states_value)\n",
    "\n",
    "        # Sample a token\n",
    "        sampled_token_index = np.argmax(output_tokens[0, -1, :])\n",
    "        sampled_char = reverse_target_char_index[sampled_token_index]\n",
    "        decoded_sentence += ' '+sampled_char\n",
    "\n",
    "        # Exit condition: either hit max length\n",
    "        # or find stop character.\n",
    "        if (sampled_char == '_END' or\n",
    "           len(decoded_sentence) > 50):\n",
    "            stop_condition = True\n",
    "\n",
    "        # Update the target sequence (of length 1).\n",
    "        target_seq = np.zeros((1,1))\n",
    "        target_seq[0, 0] = sampled_token_index\n",
    "\n",
    "        # Update states\n",
    "        states_value = [h, c]\n",
    "\n",
    "    return decoded_sentence"
   ]
  },
  {
   "cell_type": "code",
   "execution_count": 41,
   "metadata": {
    "id": "6qezt-7AEG86"
   },
   "outputs": [],
   "source": [
    "train_gen = generate_batch(X_train, y_train, batch_size = 1)\n",
    "k=-1"
   ]
  },
  {
   "cell_type": "code",
   "execution_count": 42,
   "metadata": {
    "id": "57Fpw1kQwxd9",
    "outputId": "e4b8b1e5-55ec-4c36-a699-c908f0ad4ebf"
   },
   "outputs": [
    {
     "ename": "NameError",
     "evalue": "name 'train' is not defined",
     "output_type": "error",
     "traceback": [
      "\u001b[1;31m---------------------------------------------------------------------------\u001b[0m",
      "\u001b[1;31mNameError\u001b[0m                                 Traceback (most recent call last)",
      "\u001b[1;32m<ipython-input-42-46059e60c12d>\u001b[0m in \u001b[0;36m<module>\u001b[1;34m()\u001b[0m\n\u001b[1;32m----> 1\u001b[1;33m \u001b[0mX\u001b[0m\u001b[1;33m-\u001b[0m\u001b[0mtrain\u001b[0m\u001b[1;33m\u001b[0m\u001b[0m\n\u001b[0m",
      "\u001b[1;31mNameError\u001b[0m: name 'train' is not defined"
     ]
    }
   ],
   "source": [
    "X-train"
   ]
  },
  {
   "cell_type": "code",
   "execution_count": 43,
   "metadata": {
    "id": "Tp0WjXrCEG86",
    "outputId": "abad88e9-515d-4df7-ac71-d607cf0a59ea"
   },
   "outputs": [
    {
     "name": "stdout",
     "output_type": "stream",
     "text": [
      "Input English sentence: عالمی سطح پر ان لاکھوں کروڑوں مہاجروں کی تعداد\n",
      "Actual Hindi Translation:  عالمي سطح تي لکين لکين مهاجرن جو تعداد \n",
      "Predicted Hindi Translation:  ورلڊ ڪپ تي اهي لکين لکين لکين \n"
     ]
    }
   ],
   "source": [
    "k+=1\n",
    "(input_seq, actual_output), _ = next(train_gen)\n",
    "decoded_sentence = decode_sequence(input_seq)\n",
    "print('Input English sentence:', X_train[k:k+1].values[0])\n",
    "print('Actual Hindi Translation:', y_train[k:k+1].values[0][6:-4])\n",
    "print('Predicted Hindi Translation:', decoded_sentence[:-4])"
   ]
  },
  {
   "cell_type": "code",
   "execution_count": 44,
   "metadata": {
    "id": "UNuWxaICEG87",
    "outputId": "f27be9f3-6cdc-4b26-9602-ecb9affdc1ec"
   },
   "outputs": [
    {
     "name": "stdout",
     "output_type": "stream",
     "text": [
      "Input English sentence: صفحات کے لیے اسکین متن آپ کو ذیل میں دیے گئے ر\n",
      "Actual Hindi Translation:  صفحن لاء توهان هيٺ ڏنل آهيو \n",
      "Predicted Hindi Translation:  اسڪين توهان لاء متن متن کان پوء \n"
     ]
    }
   ],
   "source": [
    "k+=1\n",
    "(input_seq, actual_output), _ = next(train_gen)\n",
    "decoded_sentence = decode_sequence(input_seq)\n",
    "print('Input English sentence:', X_train[k:k+1].values[0])\n",
    "print('Actual Hindi Translation:', y_train[k:k+1].values[0][6:-4])\n",
    "print('Predicted Hindi Translation:', decoded_sentence[:-4])"
   ]
  },
  {
   "cell_type": "code",
   "execution_count": 45,
   "metadata": {
    "id": "IQR8FjBoEG87"
   },
   "outputs": [
    {
     "name": "stdout",
     "output_type": "stream",
     "text": [
      "Input English sentence:  حق پر فیصلہ کرنے والا قاضی غبار کارواں جیسا سفر ہےسودرباکی تعبیراتتحریرچوہدری طا\n",
      "Actual Hindi Translation:  جج جيڪو حق تي فيصلو ڪري ٿو جيڪو قافلي وانگر آهي جهڙوڪ تعبير جي تشريح \n",
      "Predicted Hindi Translation:  جيڪو فيصلو ڪري ٿو جيڪو سچ تي آهي ته محبت جو رستو \n"
     ]
    }
   ],
   "source": [
    "k+=1\n",
    "(input_seq, actual_output), _ = next(train_gen)\n",
    "decoded_sentence = decode_sequence(input_seq)\n",
    "print('Input English sentence:', X_train[k:k+1].values[0])\n",
    "print('Actual Hindi Translation:', y_train[k:k+1].values[0][6:-4])\n",
    "print('Predicted Hindi Translation:', decoded_sentence[:-4])"
   ]
  },
  {
   "cell_type": "code",
   "execution_count": 46,
   "metadata": {
    "id": "kxs6TzsZEG87"
   },
   "outputs": [
    {
     "name": "stdout",
     "output_type": "stream",
     "text": [
      "Input English sentence: السلام علیکم نیٹ کچھ سست چل رہا ہے کیا باقی ار\n",
      "Actual Hindi Translation:  سڀ کان وڌيڪ اليام نيٽ ڇا آهي سست ڇا آهي \n",
      "Predicted Hindi Translation:  نيٽ نيٽ کي ڇا ڪري رهيو آهي \n"
     ]
    }
   ],
   "source": [
    "k+=1\n",
    "(input_seq, actual_output), _ = next(train_gen)\n",
    "decoded_sentence = decode_sequence(input_seq)\n",
    "print('Input English sentence:', X_train[k:k+1].values[0])\n",
    "print('Actual Hindi Translation:', y_train[k:k+1].values[0][6:-4])\n",
    "print('Predicted Hindi Translation:', decoded_sentence[:-4])"
   ]
  },
  {
   "cell_type": "code",
   "execution_count": 47,
   "metadata": {
    "id": "IrpTaMOjEG88"
   },
   "outputs": [
    {
     "name": "stdout",
     "output_type": "stream",
     "text": [
      "Input English sentence: پلی کری آئیااس سے آپ یہ نہ سمجھ بیٹھیے گا ک\n",
      "Actual Hindi Translation:  توهان هن کي ان جي پيلي II کان نه سمجهندا \n",
      "Predicted Hindi Translation:  توهان هن کي هن جي مرضي کي نه ڏيو \n"
     ]
    }
   ],
   "source": [
    "k+=1\n",
    "(input_seq, actual_output), _ = next(train_gen)\n",
    "decoded_sentence = decode_sequence(input_seq)\n",
    "print('Input English sentence:', X_train[k:k+1].values[0])\n",
    "print('Actual Hindi Translation:', y_train[k:k+1].values[0][6:-4])\n",
    "print('Predicted Hindi Translation:', decoded_sentence[:-4])"
   ]
  },
  {
   "cell_type": "code",
   "execution_count": null,
   "metadata": {
    "id": "Gsys1uJkMh7q"
   },
   "outputs": [],
   "source": []
  }
 ],
 "metadata": {
  "colab": {
   "collapsed_sections": [],
   "name": "english_to_hindi_neural_machine_translation Final.ipynb",
   "provenance": [],
   "toc_visible": true
  },
  "kernelspec": {
   "display_name": "Python 3",
   "language": "python",
   "name": "python3"
  },
  "language_info": {
   "codemirror_mode": {
    "name": "ipython",
    "version": 3
   },
   "file_extension": ".py",
   "mimetype": "text/x-python",
   "name": "python",
   "nbconvert_exporter": "python",
   "pygments_lexer": "ipython3",
   "version": "3.6.5"
  }
 },
 "nbformat": 4,
 "nbformat_minor": 1
}
