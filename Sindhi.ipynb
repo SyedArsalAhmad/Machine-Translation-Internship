{
 "cells": [
  {
   "cell_type": "code",
   "execution_count": 4,
   "metadata": {},
   "outputs": [],
   "source": [
    "import pandas as pd\n",
    "import os.path\n",
    "import os\n",
    "import re"
   ]
  },
  {
   "cell_type": "code",
   "execution_count": 5,
   "metadata": {},
   "outputs": [],
   "source": [
    "stopwords = {'translated','src','ur','dest','sd','text','confiden','', 'pronunciation','none', 'extra_data'}\n",
    "for name in os.listdir(r\"C:\\Users\\Rameel\\Desktop\\Internship\\Urdu_Translator\\Sindhi\"):\n",
    "    os.chdir(r\"C:\\Users\\Rameel\\Desktop\\Internship\\Urdu_Translator\\Sindhi\")\n",
    "    df = pd.read_excel(name)\n",
    "    Sindhi=[]\n",
    "    Sindhi=df['Sindhi']\n",
    "    for x in range(0,len(Sindhi)):\n",
    "        query = Sindhi[x]\n",
    "        resultwords  = [word for word in re.split(\"\\W+\",query) if word.lower() not in stopwords]\n",
    "        result=' '.join(resultwords)\n",
    "        Sindhi[x]=result\n",
    "    df['Sindhi']=Sindhi\n",
    "    \n",
    "    os.chdir(r\"C:\\Users\\Rameel\\Desktop\\Internship\\Urdu_Translator\\SindhiR\")\n",
    "    writer = pd.ExcelWriter(name, engine='xlsxwriter')\n",
    "    df.to_excel(writer, sheet_name='Sheet1', encoding=\"utf-8-sig\")\n",
    "    writer.save()"
   ]
  },
  {
   "cell_type": "code",
   "execution_count": null,
   "metadata": {},
   "outputs": [],
   "source": []
  }
 ],
 "metadata": {
  "kernelspec": {
   "display_name": "Python 3",
   "language": "python",
   "name": "python3"
  },
  "language_info": {
   "codemirror_mode": {
    "name": "ipython",
    "version": 3
   },
   "file_extension": ".py",
   "mimetype": "text/x-python",
   "name": "python",
   "nbconvert_exporter": "python",
   "pygments_lexer": "ipython3",
   "version": "3.6.5"
  }
 },
 "nbformat": 4,
 "nbformat_minor": 2
}
