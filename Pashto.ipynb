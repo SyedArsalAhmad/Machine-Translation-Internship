{
 "cells": [
  {
   "cell_type": "code",
   "execution_count": 1,
   "metadata": {},
   "outputs": [],
   "source": [
    "import pandas as pd\n",
    "import os.path\n",
    "import os\n",
    "import re"
   ]
  },
  {
   "cell_type": "code",
   "execution_count": 2,
   "metadata": {},
   "outputs": [],
   "source": [
    "stopwords = {'translated','src','ur','dest','ps','text','confiden','', 'pronunciation','none', 'extra_data'}\n",
    "for name in os.listdir(r\"C:\\Users\\Rameel\\Desktop\\Internship\\Urdu_Translator\\Pashto\"):\n",
    "    os.chdir(r\"C:\\Users\\Rameel\\Desktop\\Internship\\Urdu_Translator\\Pashto\")\n",
    "    df = pd.read_excel(name)\n",
    "    Pashto=[]\n",
    "    Pashto=df['Pashto']\n",
    "    for x in range(0,len(Pashto)):\n",
    "        query = Pashto[x]\n",
    "        resultwords  = [word for word in re.split(\"\\W+\",query) if word.lower() not in stopwords]\n",
    "        result=' '.join(resultwords)\n",
    "        Pashto[x]=result\n",
    "    df['Pashto']=Pashto\n",
    "    \n",
    "    os.chdir(r\"C:\\Users\\Rameel\\Desktop\\Internship\\Urdu_Translator\\PashtoR\")\n",
    "    writer = pd.ExcelWriter(name, engine='xlsxwriter')\n",
    "    df.to_excel(writer, sheet_name='Sheet1', encoding=\"utf-8-sig\")\n",
    "    writer.save()"
   ]
  },
  {
   "cell_type": "code",
   "execution_count": null,
   "metadata": {},
   "outputs": [],
   "source": []
  }
 ],
 "metadata": {
  "kernelspec": {
   "display_name": "Python 3",
   "language": "python",
   "name": "python3"
  },
  "language_info": {
   "codemirror_mode": {
    "name": "ipython",
    "version": 3
   },
   "file_extension": ".py",
   "mimetype": "text/x-python",
   "name": "python",
   "nbconvert_exporter": "python",
   "pygments_lexer": "ipython3",
   "version": "3.6.5"
  }
 },
 "nbformat": 4,
 "nbformat_minor": 2
}
