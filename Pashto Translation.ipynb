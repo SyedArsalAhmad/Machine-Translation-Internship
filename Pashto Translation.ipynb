{
 "cells": [
  {
   "cell_type": "code",
   "execution_count": 1,
   "metadata": {
    "colab": {
     "base_uri": "https://localhost:8080/"
    },
    "id": "Et6-c2zoEG8a",
    "outputId": "63c50662-6a98-477a-f234-4852fb6d63d2"
   },
   "outputs": [
    {
     "name": "stdout",
     "output_type": "stream",
     "text": [
      "Collecting tensorflow==2.1.0\n",
      "  Using cached tensorflow-2.1.0-cp37-cp37m-manylinux2010_x86_64.whl (421.8 MB)\n",
      "Requirement already satisfied: keras-preprocessing>=1.1.0 in /usr/local/lib/python3.7/dist-packages (from tensorflow==2.1.0) (1.1.2)\n",
      "Requirement already satisfied: wheel>=0.26 in /usr/local/lib/python3.7/dist-packages (from tensorflow==2.1.0) (0.36.2)\n",
      "Requirement already satisfied: google-pasta>=0.1.6 in /usr/local/lib/python3.7/dist-packages (from tensorflow==2.1.0) (0.2.0)\n",
      "Collecting gast==0.2.2\n",
      "  Using cached gast-0.2.2-py3-none-any.whl\n",
      "Requirement already satisfied: numpy<2.0,>=1.16.0 in /usr/local/lib/python3.7/dist-packages (from tensorflow==2.1.0) (1.19.5)\n",
      "Requirement already satisfied: protobuf>=3.8.0 in /usr/local/lib/python3.7/dist-packages (from tensorflow==2.1.0) (3.17.3)\n",
      "Collecting tensorboard<2.2.0,>=2.1.0\n",
      "  Using cached tensorboard-2.1.1-py3-none-any.whl (3.8 MB)\n",
      "Requirement already satisfied: termcolor>=1.1.0 in /usr/local/lib/python3.7/dist-packages (from tensorflow==2.1.0) (1.1.0)\n",
      "Requirement already satisfied: grpcio>=1.8.6 in /usr/local/lib/python3.7/dist-packages (from tensorflow==2.1.0) (1.34.1)\n",
      "Requirement already satisfied: opt-einsum>=2.3.2 in /usr/local/lib/python3.7/dist-packages (from tensorflow==2.1.0) (3.3.0)\n",
      "Requirement already satisfied: scipy==1.4.1 in /usr/local/lib/python3.7/dist-packages (from tensorflow==2.1.0) (1.4.1)\n",
      "Requirement already satisfied: keras-applications>=1.0.8 in /usr/local/lib/python3.7/dist-packages (from tensorflow==2.1.0) (1.0.8)\n",
      "Collecting tensorflow-estimator<2.2.0,>=2.1.0rc0\n",
      "  Using cached tensorflow_estimator-2.1.0-py2.py3-none-any.whl (448 kB)\n",
      "Requirement already satisfied: six>=1.12.0 in /usr/local/lib/python3.7/dist-packages (from tensorflow==2.1.0) (1.15.0)\n",
      "Requirement already satisfied: absl-py>=0.7.0 in /usr/local/lib/python3.7/dist-packages (from tensorflow==2.1.0) (0.12.0)\n",
      "Requirement already satisfied: wrapt>=1.11.1 in /usr/local/lib/python3.7/dist-packages (from tensorflow==2.1.0) (1.12.1)\n",
      "Requirement already satisfied: astor>=0.6.0 in /usr/local/lib/python3.7/dist-packages (from tensorflow==2.1.0) (0.8.1)\n",
      "Requirement already satisfied: h5py in /usr/local/lib/python3.7/dist-packages (from keras-applications>=1.0.8->tensorflow==2.1.0) (3.1.0)\n",
      "Requirement already satisfied: markdown>=2.6.8 in /usr/local/lib/python3.7/dist-packages (from tensorboard<2.2.0,>=2.1.0->tensorflow==2.1.0) (3.3.4)\n",
      "Requirement already satisfied: setuptools>=41.0.0 in /usr/local/lib/python3.7/dist-packages (from tensorboard<2.2.0,>=2.1.0->tensorflow==2.1.0) (57.2.0)\n",
      "Requirement already satisfied: werkzeug>=0.11.15 in /usr/local/lib/python3.7/dist-packages (from tensorboard<2.2.0,>=2.1.0->tensorflow==2.1.0) (1.0.1)\n",
      "Requirement already satisfied: google-auth<2,>=1.6.3 in /usr/local/lib/python3.7/dist-packages (from tensorboard<2.2.0,>=2.1.0->tensorflow==2.1.0) (1.32.1)\n",
      "Requirement already satisfied: requests<3,>=2.21.0 in /usr/local/lib/python3.7/dist-packages (from tensorboard<2.2.0,>=2.1.0->tensorflow==2.1.0) (2.23.0)\n",
      "Requirement already satisfied: google-auth-oauthlib<0.5,>=0.4.1 in /usr/local/lib/python3.7/dist-packages (from tensorboard<2.2.0,>=2.1.0->tensorflow==2.1.0) (0.4.4)\n",
      "Requirement already satisfied: cachetools<5.0,>=2.0.0 in /usr/local/lib/python3.7/dist-packages (from google-auth<2,>=1.6.3->tensorboard<2.2.0,>=2.1.0->tensorflow==2.1.0) (4.2.2)\n",
      "Requirement already satisfied: pyasn1-modules>=0.2.1 in /usr/local/lib/python3.7/dist-packages (from google-auth<2,>=1.6.3->tensorboard<2.2.0,>=2.1.0->tensorflow==2.1.0) (0.2.8)\n",
      "Requirement already satisfied: rsa<5,>=3.1.4 in /usr/local/lib/python3.7/dist-packages (from google-auth<2,>=1.6.3->tensorboard<2.2.0,>=2.1.0->tensorflow==2.1.0) (4.7.2)\n",
      "Requirement already satisfied: requests-oauthlib>=0.7.0 in /usr/local/lib/python3.7/dist-packages (from google-auth-oauthlib<0.5,>=0.4.1->tensorboard<2.2.0,>=2.1.0->tensorflow==2.1.0) (1.3.0)\n",
      "Requirement already satisfied: importlib-metadata in /usr/local/lib/python3.7/dist-packages (from markdown>=2.6.8->tensorboard<2.2.0,>=2.1.0->tensorflow==2.1.0) (4.6.1)\n",
      "Requirement already satisfied: pyasn1<0.5.0,>=0.4.6 in /usr/local/lib/python3.7/dist-packages (from pyasn1-modules>=0.2.1->google-auth<2,>=1.6.3->tensorboard<2.2.0,>=2.1.0->tensorflow==2.1.0) (0.4.8)\n",
      "Requirement already satisfied: certifi>=2017.4.17 in /usr/local/lib/python3.7/dist-packages (from requests<3,>=2.21.0->tensorboard<2.2.0,>=2.1.0->tensorflow==2.1.0) (2021.5.30)\n",
      "Requirement already satisfied: chardet<4,>=3.0.2 in /usr/local/lib/python3.7/dist-packages (from requests<3,>=2.21.0->tensorboard<2.2.0,>=2.1.0->tensorflow==2.1.0) (3.0.4)\n",
      "Requirement already satisfied: idna<3,>=2.5 in /usr/local/lib/python3.7/dist-packages (from requests<3,>=2.21.0->tensorboard<2.2.0,>=2.1.0->tensorflow==2.1.0) (2.10)\n",
      "Requirement already satisfied: urllib3!=1.25.0,!=1.25.1,<1.26,>=1.21.1 in /usr/local/lib/python3.7/dist-packages (from requests<3,>=2.21.0->tensorboard<2.2.0,>=2.1.0->tensorflow==2.1.0) (1.24.3)\n",
      "Requirement already satisfied: oauthlib>=3.0.0 in /usr/local/lib/python3.7/dist-packages (from requests-oauthlib>=0.7.0->google-auth-oauthlib<0.5,>=0.4.1->tensorboard<2.2.0,>=2.1.0->tensorflow==2.1.0) (3.1.1)\n",
      "Requirement already satisfied: cached-property in /usr/local/lib/python3.7/dist-packages (from h5py->keras-applications>=1.0.8->tensorflow==2.1.0) (1.5.2)\n",
      "Requirement already satisfied: zipp>=0.5 in /usr/local/lib/python3.7/dist-packages (from importlib-metadata->markdown>=2.6.8->tensorboard<2.2.0,>=2.1.0->tensorflow==2.1.0) (3.5.0)\n",
      "Requirement already satisfied: typing-extensions>=3.6.4 in /usr/local/lib/python3.7/dist-packages (from importlib-metadata->markdown>=2.6.8->tensorboard<2.2.0,>=2.1.0->tensorflow==2.1.0) (3.7.4.3)\n",
      "Installing collected packages: tensorflow-estimator, tensorboard, gast, tensorflow\n",
      "  Attempting uninstall: tensorflow-estimator\n",
      "    Found existing installation: tensorflow-estimator 2.5.0\n",
      "    Uninstalling tensorflow-estimator-2.5.0:\n",
      "      Successfully uninstalled tensorflow-estimator-2.5.0\n",
      "  Attempting uninstall: tensorboard\n",
      "    Found existing installation: tensorboard 2.6.0\n",
      "    Uninstalling tensorboard-2.6.0:\n",
      "      Successfully uninstalled tensorboard-2.6.0\n",
      "  Attempting uninstall: gast\n",
      "    Found existing installation: gast 0.4.0\n",
      "    Uninstalling gast-0.4.0:\n",
      "      Successfully uninstalled gast-0.4.0\n",
      "  Attempting uninstall: tensorflow\n",
      "    Found existing installation: tensorflow 2.5.1\n",
      "    Uninstalling tensorflow-2.5.1:\n",
      "      Successfully uninstalled tensorflow-2.5.1\n",
      "\u001b[31mERROR: pip's dependency resolver does not currently take into account all the packages that are installed. This behaviour is the source of the following dependency conflicts.\n",
      "tensorflow-probability 0.13.0 requires gast>=0.3.2, but you have gast 0.2.2 which is incompatible.\u001b[0m\n",
      "Successfully installed gast-0.2.2 tensorboard-2.1.1 tensorflow-2.1.0 tensorflow-estimator-2.1.0\n"
     ]
    }
   ],
   "source": [
    "!pip install tensorflow==2.1.0"
   ]
  },
  {
   "cell_type": "code",
   "execution_count": 1,
   "metadata": {
    "colab": {
     "base_uri": "https://localhost:8080/"
    },
    "id": "y5fP-suuqEbP",
    "outputId": "d0f55e0b-e8d4-4161-90d3-b709338da3de"
   },
   "outputs": [
    {
     "name": "stdout",
     "output_type": "stream",
     "text": [
      "Requirement already satisfied: tensorflow in /usr/local/lib/python3.7/dist-packages (2.5.1)\n",
      "Requirement already satisfied: tensorflow-estimator<2.6.0,>=2.5.0 in /usr/local/lib/python3.7/dist-packages (from tensorflow) (2.5.0)\n",
      "Requirement already satisfied: typing-extensions~=3.7.4 in /usr/local/lib/python3.7/dist-packages (from tensorflow) (3.7.4.3)\n",
      "Requirement already satisfied: keras-nightly~=2.5.0.dev in /usr/local/lib/python3.7/dist-packages (from tensorflow) (2.5.0.dev2021032900)\n",
      "Requirement already satisfied: protobuf>=3.9.2 in /usr/local/lib/python3.7/dist-packages (from tensorflow) (3.17.3)\n",
      "Requirement already satisfied: google-pasta~=0.2 in /usr/local/lib/python3.7/dist-packages (from tensorflow) (0.2.0)\n",
      "Requirement already satisfied: numpy~=1.19.2 in /usr/local/lib/python3.7/dist-packages (from tensorflow) (1.19.5)\n",
      "Requirement already satisfied: six~=1.15.0 in /usr/local/lib/python3.7/dist-packages (from tensorflow) (1.15.0)\n",
      "Requirement already satisfied: wheel~=0.35 in /usr/local/lib/python3.7/dist-packages (from tensorflow) (0.36.2)\n",
      "Requirement already satisfied: flatbuffers~=1.12.0 in /usr/local/lib/python3.7/dist-packages (from tensorflow) (1.12)\n",
      "Requirement already satisfied: absl-py~=0.10 in /usr/local/lib/python3.7/dist-packages (from tensorflow) (0.12.0)\n",
      "Requirement already satisfied: grpcio~=1.34.0 in /usr/local/lib/python3.7/dist-packages (from tensorflow) (1.34.1)\n",
      "Requirement already satisfied: keras-preprocessing~=1.1.2 in /usr/local/lib/python3.7/dist-packages (from tensorflow) (1.1.2)\n",
      "Requirement already satisfied: tensorboard~=2.5 in /usr/local/lib/python3.7/dist-packages (from tensorflow) (2.6.0)\n",
      "Requirement already satisfied: termcolor~=1.1.0 in /usr/local/lib/python3.7/dist-packages (from tensorflow) (1.1.0)\n",
      "Requirement already satisfied: opt-einsum~=3.3.0 in /usr/local/lib/python3.7/dist-packages (from tensorflow) (3.3.0)\n",
      "Requirement already satisfied: gast==0.4.0 in /usr/local/lib/python3.7/dist-packages (from tensorflow) (0.4.0)\n",
      "Requirement already satisfied: astunparse~=1.6.3 in /usr/local/lib/python3.7/dist-packages (from tensorflow) (1.6.3)\n",
      "Requirement already satisfied: wrapt~=1.12.1 in /usr/local/lib/python3.7/dist-packages (from tensorflow) (1.12.1)\n",
      "Requirement already satisfied: h5py~=3.1.0 in /usr/local/lib/python3.7/dist-packages (from tensorflow) (3.1.0)\n",
      "Requirement already satisfied: cached-property in /usr/local/lib/python3.7/dist-packages (from h5py~=3.1.0->tensorflow) (1.5.2)\n",
      "Requirement already satisfied: tensorboard-plugin-wit>=1.6.0 in /usr/local/lib/python3.7/dist-packages (from tensorboard~=2.5->tensorflow) (1.8.0)\n",
      "Requirement already satisfied: setuptools>=41.0.0 in /usr/local/lib/python3.7/dist-packages (from tensorboard~=2.5->tensorflow) (57.2.0)\n",
      "Requirement already satisfied: google-auth-oauthlib<0.5,>=0.4.1 in /usr/local/lib/python3.7/dist-packages (from tensorboard~=2.5->tensorflow) (0.4.4)\n",
      "Requirement already satisfied: tensorboard-data-server<0.7.0,>=0.6.0 in /usr/local/lib/python3.7/dist-packages (from tensorboard~=2.5->tensorflow) (0.6.1)\n",
      "Requirement already satisfied: requests<3,>=2.21.0 in /usr/local/lib/python3.7/dist-packages (from tensorboard~=2.5->tensorflow) (2.23.0)\n",
      "Requirement already satisfied: werkzeug>=0.11.15 in /usr/local/lib/python3.7/dist-packages (from tensorboard~=2.5->tensorflow) (1.0.1)\n",
      "Requirement already satisfied: google-auth<2,>=1.6.3 in /usr/local/lib/python3.7/dist-packages (from tensorboard~=2.5->tensorflow) (1.32.1)\n",
      "Requirement already satisfied: markdown>=2.6.8 in /usr/local/lib/python3.7/dist-packages (from tensorboard~=2.5->tensorflow) (3.3.4)\n",
      "Requirement already satisfied: rsa<5,>=3.1.4 in /usr/local/lib/python3.7/dist-packages (from google-auth<2,>=1.6.3->tensorboard~=2.5->tensorflow) (4.7.2)\n",
      "Requirement already satisfied: pyasn1-modules>=0.2.1 in /usr/local/lib/python3.7/dist-packages (from google-auth<2,>=1.6.3->tensorboard~=2.5->tensorflow) (0.2.8)\n",
      "Requirement already satisfied: cachetools<5.0,>=2.0.0 in /usr/local/lib/python3.7/dist-packages (from google-auth<2,>=1.6.3->tensorboard~=2.5->tensorflow) (4.2.2)\n",
      "Requirement already satisfied: requests-oauthlib>=0.7.0 in /usr/local/lib/python3.7/dist-packages (from google-auth-oauthlib<0.5,>=0.4.1->tensorboard~=2.5->tensorflow) (1.3.0)\n",
      "Requirement already satisfied: importlib-metadata in /usr/local/lib/python3.7/dist-packages (from markdown>=2.6.8->tensorboard~=2.5->tensorflow) (4.6.1)\n",
      "Requirement already satisfied: pyasn1<0.5.0,>=0.4.6 in /usr/local/lib/python3.7/dist-packages (from pyasn1-modules>=0.2.1->google-auth<2,>=1.6.3->tensorboard~=2.5->tensorflow) (0.4.8)\n",
      "Requirement already satisfied: chardet<4,>=3.0.2 in /usr/local/lib/python3.7/dist-packages (from requests<3,>=2.21.0->tensorboard~=2.5->tensorflow) (3.0.4)\n",
      "Requirement already satisfied: idna<3,>=2.5 in /usr/local/lib/python3.7/dist-packages (from requests<3,>=2.21.0->tensorboard~=2.5->tensorflow) (2.10)\n",
      "Requirement already satisfied: urllib3!=1.25.0,!=1.25.1,<1.26,>=1.21.1 in /usr/local/lib/python3.7/dist-packages (from requests<3,>=2.21.0->tensorboard~=2.5->tensorflow) (1.24.3)\n",
      "Requirement already satisfied: certifi>=2017.4.17 in /usr/local/lib/python3.7/dist-packages (from requests<3,>=2.21.0->tensorboard~=2.5->tensorflow) (2021.5.30)\n",
      "Requirement already satisfied: oauthlib>=3.0.0 in /usr/local/lib/python3.7/dist-packages (from requests-oauthlib>=0.7.0->google-auth-oauthlib<0.5,>=0.4.1->tensorboard~=2.5->tensorflow) (3.1.1)\n",
      "Requirement already satisfied: zipp>=0.5 in /usr/local/lib/python3.7/dist-packages (from importlib-metadata->markdown>=2.6.8->tensorboard~=2.5->tensorflow) (3.5.0)\n"
     ]
    }
   ],
   "source": [
    "!pip install --upgrade tensorflow"
   ]
  },
  {
   "cell_type": "code",
   "execution_count": 2,
   "metadata": {
    "colab": {
     "base_uri": "https://localhost:8080/"
    },
    "id": "viuPsL33qJhM",
    "outputId": "03aad9ec-4583-4c6d-d84d-7b0d3f39aca2"
   },
   "outputs": [
    {
     "name": "stdout",
     "output_type": "stream",
     "text": [
      "Requirement already satisfied: tensorflow-gpu in /usr/local/lib/python3.7/dist-packages (2.5.1)\n",
      "Requirement already satisfied: opt-einsum~=3.3.0 in /usr/local/lib/python3.7/dist-packages (from tensorflow-gpu) (3.3.0)\n",
      "Requirement already satisfied: termcolor~=1.1.0 in /usr/local/lib/python3.7/dist-packages (from tensorflow-gpu) (1.1.0)\n",
      "Requirement already satisfied: grpcio~=1.34.0 in /usr/local/lib/python3.7/dist-packages (from tensorflow-gpu) (1.34.1)\n",
      "Requirement already satisfied: gast==0.4.0 in /usr/local/lib/python3.7/dist-packages (from tensorflow-gpu) (0.4.0)\n",
      "Requirement already satisfied: astunparse~=1.6.3 in /usr/local/lib/python3.7/dist-packages (from tensorflow-gpu) (1.6.3)\n",
      "Requirement already satisfied: flatbuffers~=1.12.0 in /usr/local/lib/python3.7/dist-packages (from tensorflow-gpu) (1.12)\n",
      "Requirement already satisfied: keras-nightly~=2.5.0.dev in /usr/local/lib/python3.7/dist-packages (from tensorflow-gpu) (2.5.0.dev2021032900)\n",
      "Requirement already satisfied: protobuf>=3.9.2 in /usr/local/lib/python3.7/dist-packages (from tensorflow-gpu) (3.17.3)\n",
      "Requirement already satisfied: tensorboard~=2.5 in /usr/local/lib/python3.7/dist-packages (from tensorflow-gpu) (2.6.0)\n",
      "Requirement already satisfied: numpy~=1.19.2 in /usr/local/lib/python3.7/dist-packages (from tensorflow-gpu) (1.19.5)\n",
      "Requirement already satisfied: h5py~=3.1.0 in /usr/local/lib/python3.7/dist-packages (from tensorflow-gpu) (3.1.0)\n",
      "Requirement already satisfied: typing-extensions~=3.7.4 in /usr/local/lib/python3.7/dist-packages (from tensorflow-gpu) (3.7.4.3)\n",
      "Requirement already satisfied: keras-preprocessing~=1.1.2 in /usr/local/lib/python3.7/dist-packages (from tensorflow-gpu) (1.1.2)\n",
      "Requirement already satisfied: wheel~=0.35 in /usr/local/lib/python3.7/dist-packages (from tensorflow-gpu) (0.36.2)\n",
      "Requirement already satisfied: six~=1.15.0 in /usr/local/lib/python3.7/dist-packages (from tensorflow-gpu) (1.15.0)\n",
      "Requirement already satisfied: absl-py~=0.10 in /usr/local/lib/python3.7/dist-packages (from tensorflow-gpu) (0.12.0)\n",
      "Requirement already satisfied: wrapt~=1.12.1 in /usr/local/lib/python3.7/dist-packages (from tensorflow-gpu) (1.12.1)\n",
      "Requirement already satisfied: google-pasta~=0.2 in /usr/local/lib/python3.7/dist-packages (from tensorflow-gpu) (0.2.0)\n",
      "Requirement already satisfied: tensorflow-estimator<2.6.0,>=2.5.0 in /usr/local/lib/python3.7/dist-packages (from tensorflow-gpu) (2.5.0)\n",
      "Requirement already satisfied: cached-property in /usr/local/lib/python3.7/dist-packages (from h5py~=3.1.0->tensorflow-gpu) (1.5.2)\n",
      "Requirement already satisfied: google-auth<2,>=1.6.3 in /usr/local/lib/python3.7/dist-packages (from tensorboard~=2.5->tensorflow-gpu) (1.32.1)\n",
      "Requirement already satisfied: tensorboard-data-server<0.7.0,>=0.6.0 in /usr/local/lib/python3.7/dist-packages (from tensorboard~=2.5->tensorflow-gpu) (0.6.1)\n",
      "Requirement already satisfied: markdown>=2.6.8 in /usr/local/lib/python3.7/dist-packages (from tensorboard~=2.5->tensorflow-gpu) (3.3.4)\n",
      "Requirement already satisfied: tensorboard-plugin-wit>=1.6.0 in /usr/local/lib/python3.7/dist-packages (from tensorboard~=2.5->tensorflow-gpu) (1.8.0)\n",
      "Requirement already satisfied: requests<3,>=2.21.0 in /usr/local/lib/python3.7/dist-packages (from tensorboard~=2.5->tensorflow-gpu) (2.23.0)\n",
      "Requirement already satisfied: werkzeug>=0.11.15 in /usr/local/lib/python3.7/dist-packages (from tensorboard~=2.5->tensorflow-gpu) (1.0.1)\n",
      "Requirement already satisfied: setuptools>=41.0.0 in /usr/local/lib/python3.7/dist-packages (from tensorboard~=2.5->tensorflow-gpu) (57.2.0)\n",
      "Requirement already satisfied: google-auth-oauthlib<0.5,>=0.4.1 in /usr/local/lib/python3.7/dist-packages (from tensorboard~=2.5->tensorflow-gpu) (0.4.4)\n",
      "Requirement already satisfied: pyasn1-modules>=0.2.1 in /usr/local/lib/python3.7/dist-packages (from google-auth<2,>=1.6.3->tensorboard~=2.5->tensorflow-gpu) (0.2.8)\n",
      "Requirement already satisfied: rsa<5,>=3.1.4 in /usr/local/lib/python3.7/dist-packages (from google-auth<2,>=1.6.3->tensorboard~=2.5->tensorflow-gpu) (4.7.2)\n",
      "Requirement already satisfied: cachetools<5.0,>=2.0.0 in /usr/local/lib/python3.7/dist-packages (from google-auth<2,>=1.6.3->tensorboard~=2.5->tensorflow-gpu) (4.2.2)\n",
      "Requirement already satisfied: requests-oauthlib>=0.7.0 in /usr/local/lib/python3.7/dist-packages (from google-auth-oauthlib<0.5,>=0.4.1->tensorboard~=2.5->tensorflow-gpu) (1.3.0)\n",
      "Requirement already satisfied: importlib-metadata in /usr/local/lib/python3.7/dist-packages (from markdown>=2.6.8->tensorboard~=2.5->tensorflow-gpu) (4.6.1)\n",
      "Requirement already satisfied: pyasn1<0.5.0,>=0.4.6 in /usr/local/lib/python3.7/dist-packages (from pyasn1-modules>=0.2.1->google-auth<2,>=1.6.3->tensorboard~=2.5->tensorflow-gpu) (0.4.8)\n",
      "Requirement already satisfied: urllib3!=1.25.0,!=1.25.1,<1.26,>=1.21.1 in /usr/local/lib/python3.7/dist-packages (from requests<3,>=2.21.0->tensorboard~=2.5->tensorflow-gpu) (1.24.3)\n",
      "Requirement already satisfied: certifi>=2017.4.17 in /usr/local/lib/python3.7/dist-packages (from requests<3,>=2.21.0->tensorboard~=2.5->tensorflow-gpu) (2021.5.30)\n",
      "Requirement already satisfied: chardet<4,>=3.0.2 in /usr/local/lib/python3.7/dist-packages (from requests<3,>=2.21.0->tensorboard~=2.5->tensorflow-gpu) (3.0.4)\n",
      "Requirement already satisfied: idna<3,>=2.5 in /usr/local/lib/python3.7/dist-packages (from requests<3,>=2.21.0->tensorboard~=2.5->tensorflow-gpu) (2.10)\n",
      "Requirement already satisfied: oauthlib>=3.0.0 in /usr/local/lib/python3.7/dist-packages (from requests-oauthlib>=0.7.0->google-auth-oauthlib<0.5,>=0.4.1->tensorboard~=2.5->tensorflow-gpu) (3.1.1)\n",
      "Requirement already satisfied: zipp>=0.5 in /usr/local/lib/python3.7/dist-packages (from importlib-metadata->markdown>=2.6.8->tensorboard~=2.5->tensorflow-gpu) (3.5.0)\n"
     ]
    }
   ],
   "source": [
    "!pip install --upgrade tensorflow-gpu"
   ]
  },
  {
   "cell_type": "code",
   "execution_count": 2,
   "metadata": {
    "colab": {
     "base_uri": "https://localhost:8080/"
    },
    "id": "hso4irG2EG8e",
    "outputId": "5a296554-d0e6-477d-88eb-8d0cffd13c90"
   },
   "outputs": [
    {
     "name": "stdout",
     "output_type": "stream",
     "text": [
      "Requirement already satisfied: keras_layer_normalization in /usr/local/lib/python3.7/dist-packages (0.15.0)\n",
      "Requirement already satisfied: numpy in /usr/local/lib/python3.7/dist-packages (from keras_layer_normalization) (1.19.5)\n",
      "Requirement already satisfied: Keras in /usr/local/lib/python3.7/dist-packages (from keras_layer_normalization) (2.4.3)\n",
      "Requirement already satisfied: scipy>=0.14 in /usr/local/lib/python3.7/dist-packages (from Keras->keras_layer_normalization) (1.4.1)\n",
      "Requirement already satisfied: h5py in /usr/local/lib/python3.7/dist-packages (from Keras->keras_layer_normalization) (3.1.0)\n",
      "Requirement already satisfied: pyyaml in /usr/local/lib/python3.7/dist-packages (from Keras->keras_layer_normalization) (3.13)\n",
      "Requirement already satisfied: cached-property in /usr/local/lib/python3.7/dist-packages (from h5py->Keras->keras_layer_normalization) (1.5.2)\n"
     ]
    }
   ],
   "source": [
    "!pip install keras_layer_normalization"
   ]
  },
  {
   "cell_type": "code",
   "execution_count": 3,
   "metadata": {
    "colab": {
     "base_uri": "https://localhost:8080/"
    },
    "id": "vi6-gOdEo2CY",
    "outputId": "1f5c6684-4baf-4ed9-8c42-7b3a08f795eb"
   },
   "outputs": [
    {
     "name": "stdout",
     "output_type": "stream",
     "text": [
      "Requirement already satisfied: h5py in /usr/local/lib/python3.7/dist-packages (3.1.0)\n",
      "Requirement already satisfied: cached-property in /usr/local/lib/python3.7/dist-packages (from h5py) (1.5.2)\n",
      "Requirement already satisfied: numpy>=1.14.5 in /usr/local/lib/python3.7/dist-packages (from h5py) (1.19.5)\n"
     ]
    }
   ],
   "source": [
    "!pip install h5py"
   ]
  },
  {
   "cell_type": "code",
   "execution_count": 1,
   "metadata": {
    "_cell_guid": "b1076dfc-b9ad-4769-8c92-a6c4dae69d19",
    "_uuid": "8f2839f25d086af736a60e9eeb907d3b93b6e0e5",
    "id": "yRl7FlxvEG8g"
   },
   "outputs": [],
   "source": [
    "# This Python 3 environment comes with many helpful analytics libraries installed\n",
    "# It is defined by the kaggle/python docker image: https://github.com/kaggle/docker-python\n",
    "# For example, here's several helpful packages to load in \n",
    "\n",
    "import numpy as np # linear algebra\n",
    "import pandas as pd # data processing, CSV file I/O (e.g. pd.read_csv)\n",
    "\n",
    "# Input data files are available in the \"../input/\" directory.\n",
    "# For example, running this (by clicking run or pressing Shift+Enter) will list the files in the input directory\n",
    "\n",
    "import os\n",
    "import string\n",
    "from string import digits\n",
    "import matplotlib.pyplot as plt\n",
    "\t\n",
    "%matplotlib inline\n",
    "import re\n",
    "from keras_layer_normalization import LayerNormalization\n",
    "\n",
    "\n",
    "import seaborn as sns\n",
    "from sklearn.utils import shuffle\n",
    "from sklearn.model_selection import train_test_split\n",
    "from keras_layer_normalization import LayerNormalization\n",
    "\n",
    "from keras.models import Model\n",
    "\n",
    "\n",
    "# Any results you write to the current directory are saved as output."
   ]
  },
  {
   "cell_type": "code",
   "execution_count": 2,
   "metadata": {
    "id": "ugHO_jFCJcGX"
   },
   "outputs": [],
   "source": [
    "from keras.layers import Input, LSTM, Embedding, Dense\n"
   ]
  },
  {
   "cell_type": "code",
   "execution_count": 3,
   "metadata": {
    "id": "oMQB_1dvvS9l"
   },
   "outputs": [],
   "source": [
    "from keras.callbacks import ModelCheckpoint, EarlyStopping\n"
   ]
  },
  {
   "cell_type": "code",
   "execution_count": 25,
   "metadata": {
    "_cell_guid": "79c7e3d0-c299-4dcb-8224-4455121ee9b0",
    "_uuid": "d629ff2d2480ee46fbb7e2d37f6b5fab8052498a",
    "id": "v0vrdiWyEG8i"
   },
   "outputs": [],
   "source": [
    "lines=pd.read_excel(\"TotalP.xlsx\")"
   ]
  },
  {
   "cell_type": "code",
   "execution_count": 5,
   "metadata": {
    "colab": {
     "base_uri": "https://localhost:8080/",
     "height": 555
    },
    "id": "NDdl0aWNEG8j",
    "outputId": "997b0220-d336-470f-8b4b-47d24369939c"
   },
   "outputs": [
    {
     "ename": "KeyError",
     "evalue": "'source'",
     "output_type": "error",
     "traceback": [
      "\u001b[1;31m---------------------------------------------------------------------------\u001b[0m",
      "\u001b[1;31mKeyError\u001b[0m                                  Traceback (most recent call last)",
      "\u001b[1;32m~\\Anaconda3\\lib\\site-packages\\pandas\\core\\indexes\\base.py\u001b[0m in \u001b[0;36mget_loc\u001b[1;34m(self, key, method, tolerance)\u001b[0m\n\u001b[0;32m   3062\u001b[0m             \u001b[1;32mtry\u001b[0m\u001b[1;33m:\u001b[0m\u001b[1;33m\u001b[0m\u001b[0m\n\u001b[1;32m-> 3063\u001b[1;33m                 \u001b[1;32mreturn\u001b[0m \u001b[0mself\u001b[0m\u001b[1;33m.\u001b[0m\u001b[0m_engine\u001b[0m\u001b[1;33m.\u001b[0m\u001b[0mget_loc\u001b[0m\u001b[1;33m(\u001b[0m\u001b[0mkey\u001b[0m\u001b[1;33m)\u001b[0m\u001b[1;33m\u001b[0m\u001b[0m\n\u001b[0m\u001b[0;32m   3064\u001b[0m             \u001b[1;32mexcept\u001b[0m \u001b[0mKeyError\u001b[0m\u001b[1;33m:\u001b[0m\u001b[1;33m\u001b[0m\u001b[0m\n",
      "\u001b[1;32mpandas\\_libs\\index.pyx\u001b[0m in \u001b[0;36mpandas._libs.index.IndexEngine.get_loc\u001b[1;34m()\u001b[0m\n",
      "\u001b[1;32mpandas\\_libs\\index.pyx\u001b[0m in \u001b[0;36mpandas._libs.index.IndexEngine.get_loc\u001b[1;34m()\u001b[0m\n",
      "\u001b[1;32mpandas\\_libs\\hashtable_class_helper.pxi\u001b[0m in \u001b[0;36mpandas._libs.hashtable.PyObjectHashTable.get_item\u001b[1;34m()\u001b[0m\n",
      "\u001b[1;32mpandas\\_libs\\hashtable_class_helper.pxi\u001b[0m in \u001b[0;36mpandas._libs.hashtable.PyObjectHashTable.get_item\u001b[1;34m()\u001b[0m\n",
      "\u001b[1;31mKeyError\u001b[0m: 'source'",
      "\nDuring handling of the above exception, another exception occurred:\n",
      "\u001b[1;31mKeyError\u001b[0m                                  Traceback (most recent call last)",
      "\u001b[1;32m<ipython-input-5-e193ae8631d3>\u001b[0m in \u001b[0;36m<module>\u001b[1;34m()\u001b[0m\n\u001b[1;32m----> 1\u001b[1;33m \u001b[0mlines\u001b[0m\u001b[1;33m[\u001b[0m\u001b[1;34m'source'\u001b[0m\u001b[1;33m]\u001b[0m\u001b[1;33m.\u001b[0m\u001b[0mvalue_counts\u001b[0m\u001b[1;33m(\u001b[0m\u001b[1;33m)\u001b[0m\u001b[1;33m\u001b[0m\u001b[0m\n\u001b[0m",
      "\u001b[1;32m~\\Anaconda3\\lib\\site-packages\\pandas\\core\\frame.py\u001b[0m in \u001b[0;36m__getitem__\u001b[1;34m(self, key)\u001b[0m\n\u001b[0;32m   2683\u001b[0m             \u001b[1;32mreturn\u001b[0m \u001b[0mself\u001b[0m\u001b[1;33m.\u001b[0m\u001b[0m_getitem_multilevel\u001b[0m\u001b[1;33m(\u001b[0m\u001b[0mkey\u001b[0m\u001b[1;33m)\u001b[0m\u001b[1;33m\u001b[0m\u001b[0m\n\u001b[0;32m   2684\u001b[0m         \u001b[1;32melse\u001b[0m\u001b[1;33m:\u001b[0m\u001b[1;33m\u001b[0m\u001b[0m\n\u001b[1;32m-> 2685\u001b[1;33m             \u001b[1;32mreturn\u001b[0m \u001b[0mself\u001b[0m\u001b[1;33m.\u001b[0m\u001b[0m_getitem_column\u001b[0m\u001b[1;33m(\u001b[0m\u001b[0mkey\u001b[0m\u001b[1;33m)\u001b[0m\u001b[1;33m\u001b[0m\u001b[0m\n\u001b[0m\u001b[0;32m   2686\u001b[0m \u001b[1;33m\u001b[0m\u001b[0m\n\u001b[0;32m   2687\u001b[0m     \u001b[1;32mdef\u001b[0m \u001b[0m_getitem_column\u001b[0m\u001b[1;33m(\u001b[0m\u001b[0mself\u001b[0m\u001b[1;33m,\u001b[0m \u001b[0mkey\u001b[0m\u001b[1;33m)\u001b[0m\u001b[1;33m:\u001b[0m\u001b[1;33m\u001b[0m\u001b[0m\n",
      "\u001b[1;32m~\\Anaconda3\\lib\\site-packages\\pandas\\core\\frame.py\u001b[0m in \u001b[0;36m_getitem_column\u001b[1;34m(self, key)\u001b[0m\n\u001b[0;32m   2690\u001b[0m         \u001b[1;31m# get column\u001b[0m\u001b[1;33m\u001b[0m\u001b[1;33m\u001b[0m\u001b[0m\n\u001b[0;32m   2691\u001b[0m         \u001b[1;32mif\u001b[0m \u001b[0mself\u001b[0m\u001b[1;33m.\u001b[0m\u001b[0mcolumns\u001b[0m\u001b[1;33m.\u001b[0m\u001b[0mis_unique\u001b[0m\u001b[1;33m:\u001b[0m\u001b[1;33m\u001b[0m\u001b[0m\n\u001b[1;32m-> 2692\u001b[1;33m             \u001b[1;32mreturn\u001b[0m \u001b[0mself\u001b[0m\u001b[1;33m.\u001b[0m\u001b[0m_get_item_cache\u001b[0m\u001b[1;33m(\u001b[0m\u001b[0mkey\u001b[0m\u001b[1;33m)\u001b[0m\u001b[1;33m\u001b[0m\u001b[0m\n\u001b[0m\u001b[0;32m   2693\u001b[0m \u001b[1;33m\u001b[0m\u001b[0m\n\u001b[0;32m   2694\u001b[0m         \u001b[1;31m# duplicate columns & possible reduce dimensionality\u001b[0m\u001b[1;33m\u001b[0m\u001b[1;33m\u001b[0m\u001b[0m\n",
      "\u001b[1;32m~\\Anaconda3\\lib\\site-packages\\pandas\\core\\generic.py\u001b[0m in \u001b[0;36m_get_item_cache\u001b[1;34m(self, item)\u001b[0m\n\u001b[0;32m   2484\u001b[0m         \u001b[0mres\u001b[0m \u001b[1;33m=\u001b[0m \u001b[0mcache\u001b[0m\u001b[1;33m.\u001b[0m\u001b[0mget\u001b[0m\u001b[1;33m(\u001b[0m\u001b[0mitem\u001b[0m\u001b[1;33m)\u001b[0m\u001b[1;33m\u001b[0m\u001b[0m\n\u001b[0;32m   2485\u001b[0m         \u001b[1;32mif\u001b[0m \u001b[0mres\u001b[0m \u001b[1;32mis\u001b[0m \u001b[1;32mNone\u001b[0m\u001b[1;33m:\u001b[0m\u001b[1;33m\u001b[0m\u001b[0m\n\u001b[1;32m-> 2486\u001b[1;33m             \u001b[0mvalues\u001b[0m \u001b[1;33m=\u001b[0m \u001b[0mself\u001b[0m\u001b[1;33m.\u001b[0m\u001b[0m_data\u001b[0m\u001b[1;33m.\u001b[0m\u001b[0mget\u001b[0m\u001b[1;33m(\u001b[0m\u001b[0mitem\u001b[0m\u001b[1;33m)\u001b[0m\u001b[1;33m\u001b[0m\u001b[0m\n\u001b[0m\u001b[0;32m   2487\u001b[0m             \u001b[0mres\u001b[0m \u001b[1;33m=\u001b[0m \u001b[0mself\u001b[0m\u001b[1;33m.\u001b[0m\u001b[0m_box_item_values\u001b[0m\u001b[1;33m(\u001b[0m\u001b[0mitem\u001b[0m\u001b[1;33m,\u001b[0m \u001b[0mvalues\u001b[0m\u001b[1;33m)\u001b[0m\u001b[1;33m\u001b[0m\u001b[0m\n\u001b[0;32m   2488\u001b[0m             \u001b[0mcache\u001b[0m\u001b[1;33m[\u001b[0m\u001b[0mitem\u001b[0m\u001b[1;33m]\u001b[0m \u001b[1;33m=\u001b[0m \u001b[0mres\u001b[0m\u001b[1;33m\u001b[0m\u001b[0m\n",
      "\u001b[1;32m~\\Anaconda3\\lib\\site-packages\\pandas\\core\\internals.py\u001b[0m in \u001b[0;36mget\u001b[1;34m(self, item, fastpath)\u001b[0m\n\u001b[0;32m   4113\u001b[0m \u001b[1;33m\u001b[0m\u001b[0m\n\u001b[0;32m   4114\u001b[0m             \u001b[1;32mif\u001b[0m \u001b[1;32mnot\u001b[0m \u001b[0misna\u001b[0m\u001b[1;33m(\u001b[0m\u001b[0mitem\u001b[0m\u001b[1;33m)\u001b[0m\u001b[1;33m:\u001b[0m\u001b[1;33m\u001b[0m\u001b[0m\n\u001b[1;32m-> 4115\u001b[1;33m                 \u001b[0mloc\u001b[0m \u001b[1;33m=\u001b[0m \u001b[0mself\u001b[0m\u001b[1;33m.\u001b[0m\u001b[0mitems\u001b[0m\u001b[1;33m.\u001b[0m\u001b[0mget_loc\u001b[0m\u001b[1;33m(\u001b[0m\u001b[0mitem\u001b[0m\u001b[1;33m)\u001b[0m\u001b[1;33m\u001b[0m\u001b[0m\n\u001b[0m\u001b[0;32m   4116\u001b[0m             \u001b[1;32melse\u001b[0m\u001b[1;33m:\u001b[0m\u001b[1;33m\u001b[0m\u001b[0m\n\u001b[0;32m   4117\u001b[0m                 \u001b[0mindexer\u001b[0m \u001b[1;33m=\u001b[0m \u001b[0mnp\u001b[0m\u001b[1;33m.\u001b[0m\u001b[0marange\u001b[0m\u001b[1;33m(\u001b[0m\u001b[0mlen\u001b[0m\u001b[1;33m(\u001b[0m\u001b[0mself\u001b[0m\u001b[1;33m.\u001b[0m\u001b[0mitems\u001b[0m\u001b[1;33m)\u001b[0m\u001b[1;33m)\u001b[0m\u001b[1;33m[\u001b[0m\u001b[0misna\u001b[0m\u001b[1;33m(\u001b[0m\u001b[0mself\u001b[0m\u001b[1;33m.\u001b[0m\u001b[0mitems\u001b[0m\u001b[1;33m)\u001b[0m\u001b[1;33m]\u001b[0m\u001b[1;33m\u001b[0m\u001b[0m\n",
      "\u001b[1;32m~\\Anaconda3\\lib\\site-packages\\pandas\\core\\indexes\\base.py\u001b[0m in \u001b[0;36mget_loc\u001b[1;34m(self, key, method, tolerance)\u001b[0m\n\u001b[0;32m   3063\u001b[0m                 \u001b[1;32mreturn\u001b[0m \u001b[0mself\u001b[0m\u001b[1;33m.\u001b[0m\u001b[0m_engine\u001b[0m\u001b[1;33m.\u001b[0m\u001b[0mget_loc\u001b[0m\u001b[1;33m(\u001b[0m\u001b[0mkey\u001b[0m\u001b[1;33m)\u001b[0m\u001b[1;33m\u001b[0m\u001b[0m\n\u001b[0;32m   3064\u001b[0m             \u001b[1;32mexcept\u001b[0m \u001b[0mKeyError\u001b[0m\u001b[1;33m:\u001b[0m\u001b[1;33m\u001b[0m\u001b[0m\n\u001b[1;32m-> 3065\u001b[1;33m                 \u001b[1;32mreturn\u001b[0m \u001b[0mself\u001b[0m\u001b[1;33m.\u001b[0m\u001b[0m_engine\u001b[0m\u001b[1;33m.\u001b[0m\u001b[0mget_loc\u001b[0m\u001b[1;33m(\u001b[0m\u001b[0mself\u001b[0m\u001b[1;33m.\u001b[0m\u001b[0m_maybe_cast_indexer\u001b[0m\u001b[1;33m(\u001b[0m\u001b[0mkey\u001b[0m\u001b[1;33m)\u001b[0m\u001b[1;33m)\u001b[0m\u001b[1;33m\u001b[0m\u001b[0m\n\u001b[0m\u001b[0;32m   3066\u001b[0m \u001b[1;33m\u001b[0m\u001b[0m\n\u001b[0;32m   3067\u001b[0m         \u001b[0mindexer\u001b[0m \u001b[1;33m=\u001b[0m \u001b[0mself\u001b[0m\u001b[1;33m.\u001b[0m\u001b[0mget_indexer\u001b[0m\u001b[1;33m(\u001b[0m\u001b[1;33m[\u001b[0m\u001b[0mkey\u001b[0m\u001b[1;33m]\u001b[0m\u001b[1;33m,\u001b[0m \u001b[0mmethod\u001b[0m\u001b[1;33m=\u001b[0m\u001b[0mmethod\u001b[0m\u001b[1;33m,\u001b[0m \u001b[0mtolerance\u001b[0m\u001b[1;33m=\u001b[0m\u001b[0mtolerance\u001b[0m\u001b[1;33m)\u001b[0m\u001b[1;33m\u001b[0m\u001b[0m\n",
      "\u001b[1;32mpandas\\_libs\\index.pyx\u001b[0m in \u001b[0;36mpandas._libs.index.IndexEngine.get_loc\u001b[1;34m()\u001b[0m\n",
      "\u001b[1;32mpandas\\_libs\\index.pyx\u001b[0m in \u001b[0;36mpandas._libs.index.IndexEngine.get_loc\u001b[1;34m()\u001b[0m\n",
      "\u001b[1;32mpandas\\_libs\\hashtable_class_helper.pxi\u001b[0m in \u001b[0;36mpandas._libs.hashtable.PyObjectHashTable.get_item\u001b[1;34m()\u001b[0m\n",
      "\u001b[1;32mpandas\\_libs\\hashtable_class_helper.pxi\u001b[0m in \u001b[0;36mpandas._libs.hashtable.PyObjectHashTable.get_item\u001b[1;34m()\u001b[0m\n",
      "\u001b[1;31mKeyError\u001b[0m: 'source'"
     ]
    }
   ],
   "source": [
    "lines['source'].value_counts()"
   ]
  },
  {
   "cell_type": "code",
   "execution_count": null,
   "metadata": {
    "id": "CbivS2L6EG8j"
   },
   "outputs": [],
   "source": [
    "lines=lines[lines['source']=='ted']"
   ]
  },
  {
   "cell_type": "code",
   "execution_count": 20,
   "metadata": {
    "id": "JfN7m9HJEG8l",
    "outputId": "0497b15f-a83b-4bf0-d06c-954fdc059fef"
   },
   "outputs": [
    {
     "data": {
      "text/html": [
       "<div>\n",
       "<style scoped>\n",
       "    .dataframe tbody tr th:only-of-type {\n",
       "        vertical-align: middle;\n",
       "    }\n",
       "\n",
       "    .dataframe tbody tr th {\n",
       "        vertical-align: top;\n",
       "    }\n",
       "\n",
       "    .dataframe thead th {\n",
       "        text-align: right;\n",
       "    }\n",
       "</style>\n",
       "<table border=\"1\" class=\"dataframe\">\n",
       "  <thead>\n",
       "    <tr style=\"text-align: right;\">\n",
       "      <th></th>\n",
       "      <th>Urdu</th>\n",
       "      <th>Pashto</th>\n",
       "    </tr>\n",
       "  </thead>\n",
       "  <tbody>\n",
       "    <tr>\n",
       "      <th>0</th>\n",
       "      <td>کیونکہ ایسے حملوں کے لیے خفیہ معلومات فراہم کر</td>\n",
       "      <td>ځکه چې د دا ډول بریدونو لپاره د پټ معلومات چمت...</td>\n",
       "    </tr>\n",
       "    <tr>\n",
       "      <th>1</th>\n",
       "      <td>شاہد سے قبل پاکستان کی جانب سے سب سے زیادہ رنز</td>\n",
       "      <td>مخکې لدې چې شاهدان د پاکستان لخوا لوړه مناسبه ...</td>\n",
       "    </tr>\n",
       "    <tr>\n",
       "      <th>2</th>\n",
       "      <td>اور یہ جوابات جج کو انتہائی دیناتداری سے معلوم</td>\n",
       "      <td>او دا ځوابونه قاضي ته پیژندل شوي</td>\n",
       "    </tr>\n",
       "    <tr>\n",
       "      <th>3</th>\n",
       "      <td>نئی تصاویر کے لئیے شکریہرات بھر صبح کے مضموں ...</td>\n",
       "      <td>د نوي عکسونو لپاره د سهار په اوږدو کې مننه تاس...</td>\n",
       "    </tr>\n",
       "    <tr>\n",
       "      <th>4</th>\n",
       "      <td>ناشدنی اور ناہنجار وغیرہ وغیرہ سب ہوں اور اس ل</td>\n",
       "      <td>عقاب او نانجار وغيره</td>\n",
       "    </tr>\n",
       "    <tr>\n",
       "      <th>5</th>\n",
       "      <td>بات کرنے سے بات بڑھتی ہےکیوں کیا خیال ہے تمہا...</td>\n",
       "      <td>د خبرو کولو سره خبرې کول د هوش په هوښیارتیا با...</td>\n",
       "    </tr>\n",
       "    <tr>\n",
       "      <th>6</th>\n",
       "      <td>سایۂ دیوار سے لپٹے پڑے ہو خاک پرہم تو ایسے بھ...</td>\n",
       "      <td>سیوري د دیوال سره پوښل شوې په هرصورت ولاړ نه و...</td>\n",
       "    </tr>\n",
       "    <tr>\n",
       "      <th>7</th>\n",
       "      <td>دعا گو ہوں کہ اللہ سوہنا آپ کی تمام میٹھی مراد</td>\n",
       "      <td>له الله څخه وپوښتئ چې تاسو ټولو خواږه تاسو ته ...</td>\n",
       "    </tr>\n",
       "    <tr>\n",
       "      <th>8</th>\n",
       "      <td>حاکم اعلیکیا اب ایسے حالات کو ٹھیک کرنا</td>\n",
       "      <td>د هاکم چاپ اوس ورته شرایط ټاکي</td>\n",
       "    </tr>\n",
       "    <tr>\n",
       "      <th>9</th>\n",
       "      <td>طرحی مشاعرہ میں منتظر ہوں ادیب اور شاعر کا کا...</td>\n",
       "      <td>د مشورې په ډول انتظار زه د سیاست پوه او ساینس ...</td>\n",
       "    </tr>\n",
       "    <tr>\n",
       "      <th>10</th>\n",
       "      <td>اک زلف کی خاطر نہیں انصاف کی خاطر لیکن جائیں ک...</td>\n",
       "      <td>د الفبا لپاره د عدالت لپاره عدالت ته ځي چیرې چ...</td>\n",
       "    </tr>\n",
       "    <tr>\n",
       "      <th>11</th>\n",
       "      <td>مگر اندر پہنچ کر دیکھتا ہوں کہ ہر چیز مرد کی ز</td>\n",
       "      <td>مګر زه ګورم چې هرڅه نارینه دي</td>\n",
       "    </tr>\n",
       "    <tr>\n",
       "      <th>12</th>\n",
       "      <td>بات پر یاں زبان کٹتی ہےاجنبی لگتے ہو میں یہ قی...</td>\n",
       "      <td>د لید په نظر کې تاسو د ډاډ ترلاسه کولو هڅه کول...</td>\n",
       "    </tr>\n",
       "    <tr>\n",
       "      <th>13</th>\n",
       "      <td>ماوراء اللہ تم پر رحم کرئے پروگرام کی ایک اور...</td>\n",
       "      <td>الله الله په تاسو رحمت لري او د هغه د مور د مو...</td>\n",
       "    </tr>\n",
       "    <tr>\n",
       "      <th>14</th>\n",
       "      <td>باؤنسرزسابقہ کارکردگی پر کھیلنے کی روایت</td>\n",
       "      <td>په اتورانو کې د لوبو دود</td>\n",
       "    </tr>\n",
       "    <tr>\n",
       "      <th>15</th>\n",
       "      <td>کیا آپ سٹارز پر یقین کرتے ہیں فکر این و آں نے ...</td>\n",
       "      <td>ایا تاسو په ستورو باور لرئ کله چې زه زما په اړ...</td>\n",
       "    </tr>\n",
       "    <tr>\n",
       "      <th>16</th>\n",
       "      <td>اس کا ابتدائی سرمایہملین درہم تھا جو ایک ل</td>\n",
       "      <td>د دې لومړنۍ پانګه اچمه وه</td>\n",
       "    </tr>\n",
       "    <tr>\n",
       "      <th>17</th>\n",
       "      <td>انہوں نے کہا اس طرح کی پابندی ابھی تک کتابوں م</td>\n",
       "      <td>هغه وویل چې دا ډول بندیز لاهم کتابونه</td>\n",
       "    </tr>\n",
       "    <tr>\n",
       "      <th>18</th>\n",
       "      <td>آپ نے جس خوبصورت انداز سے اس ناچیز کو سراہا ہے</td>\n",
       "      <td>ښکلی لاره چې تاسو یې نڅا پیل کړې</td>\n",
       "    </tr>\n",
       "    <tr>\n",
       "      <th>19</th>\n",
       "      <td>تاازلڑیوں کی نمائش و ھوا السبب المسکان الطویل ...</td>\n",
       "      <td>الله السبي السبي الهامي السمي السمي السمي السو...</td>\n",
       "    </tr>\n",
       "  </tbody>\n",
       "</table>\n",
       "</div>"
      ],
      "text/plain": [
       "                                                 Urdu  \\\n",
       "0      کیونکہ ایسے حملوں کے لیے خفیہ معلومات فراہم کر   \n",
       "1      شاہد سے قبل پاکستان کی جانب سے سب سے زیادہ رنز   \n",
       "2      اور یہ جوابات جج کو انتہائی دیناتداری سے معلوم   \n",
       "3    نئی تصاویر کے لئیے شکریہرات بھر صبح کے مضموں ...   \n",
       "4      ناشدنی اور ناہنجار وغیرہ وغیرہ سب ہوں اور اس ل   \n",
       "5    بات کرنے سے بات بڑھتی ہےکیوں کیا خیال ہے تمہا...   \n",
       "6    سایۂ دیوار سے لپٹے پڑے ہو خاک پرہم تو ایسے بھ...   \n",
       "7      دعا گو ہوں کہ اللہ سوہنا آپ کی تمام میٹھی مراد   \n",
       "8             حاکم اعلیکیا اب ایسے حالات کو ٹھیک کرنا   \n",
       "9    طرحی مشاعرہ میں منتظر ہوں ادیب اور شاعر کا کا...   \n",
       "10  اک زلف کی خاطر نہیں انصاف کی خاطر لیکن جائیں ک...   \n",
       "11     مگر اندر پہنچ کر دیکھتا ہوں کہ ہر چیز مرد کی ز   \n",
       "12  بات پر یاں زبان کٹتی ہےاجنبی لگتے ہو میں یہ قی...   \n",
       "13   ماوراء اللہ تم پر رحم کرئے پروگرام کی ایک اور...   \n",
       "14          باؤنسرزسابقہ کارکردگی پر کھیلنے کی روایت    \n",
       "15  کیا آپ سٹارز پر یقین کرتے ہیں فکر این و آں نے ...   \n",
       "16         اس کا ابتدائی سرمایہملین درہم تھا جو ایک ل   \n",
       "17     انہوں نے کہا اس طرح کی پابندی ابھی تک کتابوں م   \n",
       "18     آپ نے جس خوبصورت انداز سے اس ناچیز کو سراہا ہے   \n",
       "19  تاازلڑیوں کی نمائش و ھوا السبب المسکان الطویل ...   \n",
       "\n",
       "                                               Pashto  \n",
       "0   ځکه چې د دا ډول بریدونو لپاره د پټ معلومات چمت...  \n",
       "1   مخکې لدې چې شاهدان د پاکستان لخوا لوړه مناسبه ...  \n",
       "2                    او دا ځوابونه قاضي ته پیژندل شوي  \n",
       "3   د نوي عکسونو لپاره د سهار په اوږدو کې مننه تاس...  \n",
       "4                                عقاب او نانجار وغيره  \n",
       "5   د خبرو کولو سره خبرې کول د هوش په هوښیارتیا با...  \n",
       "6   سیوري د دیوال سره پوښل شوې په هرصورت ولاړ نه و...  \n",
       "7   له الله څخه وپوښتئ چې تاسو ټولو خواږه تاسو ته ...  \n",
       "8                      د هاکم چاپ اوس ورته شرایط ټاکي  \n",
       "9   د مشورې په ډول انتظار زه د سیاست پوه او ساینس ...  \n",
       "10  د الفبا لپاره د عدالت لپاره عدالت ته ځي چیرې چ...  \n",
       "11                      مګر زه ګورم چې هرڅه نارینه دي  \n",
       "12  د لید په نظر کې تاسو د ډاډ ترلاسه کولو هڅه کول...  \n",
       "13  الله الله په تاسو رحمت لري او د هغه د مور د مو...  \n",
       "14                           په اتورانو کې د لوبو دود  \n",
       "15  ایا تاسو په ستورو باور لرئ کله چې زه زما په اړ...  \n",
       "16                          د دې لومړنۍ پانګه اچمه وه  \n",
       "17              هغه وویل چې دا ډول بندیز لاهم کتابونه  \n",
       "18                   ښکلی لاره چې تاسو یې نڅا پیل کړې  \n",
       "19  الله السبي السبي الهامي السمي السمي السمي السو...  "
      ]
     },
     "execution_count": 20,
     "metadata": {},
     "output_type": "execute_result"
    }
   ],
   "source": [
    "lines.head(20)"
   ]
  },
  {
   "cell_type": "code",
   "execution_count": 26,
   "metadata": {
    "colab": {
     "base_uri": "https://localhost:8080/"
    },
    "id": "9tRAaxRXEG8o",
    "outputId": "3d89e2a7-bc66-4122-f2be-c5aa6682a28a"
   },
   "outputs": [
    {
     "data": {
      "text/plain": [
       "Urdu      1\n",
       "Pashto    1\n",
       "dtype: int64"
      ]
     },
     "execution_count": 26,
     "metadata": {},
     "output_type": "execute_result"
    }
   ],
   "source": [
    "pd.isnull(lines).sum()"
   ]
  },
  {
   "cell_type": "code",
   "execution_count": 27,
   "metadata": {
    "id": "wfdpaiemEG8q"
   },
   "outputs": [],
   "source": [
    "lines.dropna(inplace=True)"
   ]
  },
  {
   "cell_type": "code",
   "execution_count": 29,
   "metadata": {},
   "outputs": [
    {
     "data": {
      "text/plain": [
       "134691"
      ]
     },
     "execution_count": 29,
     "metadata": {},
     "output_type": "execute_result"
    }
   ],
   "source": [
    "len(lines)"
   ]
  },
  {
   "cell_type": "code",
   "execution_count": 28,
   "metadata": {
    "colab": {
     "base_uri": "https://localhost:8080/",
     "height": 417
    },
    "id": "CjquG_pREG8r",
    "outputId": "268e11ea-8e59-4632-dd4f-4f5610d4173a"
   },
   "outputs": [],
   "source": [
    "header=['Urdu', 'Pashto']\n",
    "dfp = pd.DataFrame(columns = header)"
   ]
  },
  {
   "cell_type": "code",
   "execution_count": 30,
   "metadata": {},
   "outputs": [],
   "source": [
    "dfp=lines.head(125000)"
   ]
  },
  {
   "cell_type": "code",
   "execution_count": 31,
   "metadata": {},
   "outputs": [],
   "source": [
    "dft = lines.iloc[125000: , :]"
   ]
  },
  {
   "cell_type": "code",
   "execution_count": 32,
   "metadata": {},
   "outputs": [],
   "source": [
    "dft.to_pickle('Test.pkl')\n",
    "dfp.to_pickle('Train.pkl')\n",
    "lines.to_pickle('Both.pkl')"
   ]
  },
  {
   "cell_type": "markdown",
   "metadata": {
    "id": "BAWtyo-8EG8s"
   },
   "source": [
    "* ### Let us pick any 25000 rows from the dataset."
   ]
  },
  {
   "cell_type": "code",
   "execution_count": 10,
   "metadata": {
    "colab": {
     "base_uri": "https://localhost:8080/",
     "height": 330
    },
    "id": "KwwjBeogEG8s",
    "outputId": "0593aa80-6ef9-4fff-a2fe-3fb3e365892e"
   },
   "outputs": [
    {
     "ename": "ValueError",
     "evalue": "ignored",
     "output_type": "error",
     "traceback": [
      "\u001b[0;31m---------------------------------------------------------------------------\u001b[0m",
      "\u001b[0;31mValueError\u001b[0m                                Traceback (most recent call last)",
      "\u001b[0;32m<ipython-input-10-01ecb266dfd8>\u001b[0m in \u001b[0;36m<module>\u001b[0;34m()\u001b[0m\n\u001b[0;32m----> 1\u001b[0;31m \u001b[0mlines\u001b[0m\u001b[0;34m=\u001b[0m\u001b[0mlines\u001b[0m\u001b[0;34m.\u001b[0m\u001b[0msample\u001b[0m\u001b[0;34m(\u001b[0m\u001b[0mn\u001b[0m\u001b[0;34m=\u001b[0m\u001b[0;36m25000\u001b[0m\u001b[0;34m,\u001b[0m\u001b[0mrandom_state\u001b[0m\u001b[0;34m=\u001b[0m\u001b[0;36m42\u001b[0m\u001b[0;34m)\u001b[0m\u001b[0;34m\u001b[0m\u001b[0;34m\u001b[0m\u001b[0m\n\u001b[0m\u001b[1;32m      2\u001b[0m \u001b[0mlines\u001b[0m\u001b[0;34m.\u001b[0m\u001b[0mshape\u001b[0m\u001b[0;34m\u001b[0m\u001b[0;34m\u001b[0m\u001b[0m\n",
      "\u001b[0;32m/usr/local/lib/python3.7/dist-packages/pandas/core/generic.py\u001b[0m in \u001b[0;36msample\u001b[0;34m(self, n, frac, replace, weights, random_state, axis)\u001b[0m\n\u001b[1;32m   4993\u001b[0m             )\n\u001b[1;32m   4994\u001b[0m \u001b[0;34m\u001b[0m\u001b[0m\n\u001b[0;32m-> 4995\u001b[0;31m         \u001b[0mlocs\u001b[0m \u001b[0;34m=\u001b[0m \u001b[0mrs\u001b[0m\u001b[0;34m.\u001b[0m\u001b[0mchoice\u001b[0m\u001b[0;34m(\u001b[0m\u001b[0maxis_length\u001b[0m\u001b[0;34m,\u001b[0m \u001b[0msize\u001b[0m\u001b[0;34m=\u001b[0m\u001b[0mn\u001b[0m\u001b[0;34m,\u001b[0m \u001b[0mreplace\u001b[0m\u001b[0;34m=\u001b[0m\u001b[0mreplace\u001b[0m\u001b[0;34m,\u001b[0m \u001b[0mp\u001b[0m\u001b[0;34m=\u001b[0m\u001b[0mweights\u001b[0m\u001b[0;34m)\u001b[0m\u001b[0;34m\u001b[0m\u001b[0;34m\u001b[0m\u001b[0m\n\u001b[0m\u001b[1;32m   4996\u001b[0m         \u001b[0;32mreturn\u001b[0m \u001b[0mself\u001b[0m\u001b[0;34m.\u001b[0m\u001b[0mtake\u001b[0m\u001b[0;34m(\u001b[0m\u001b[0mlocs\u001b[0m\u001b[0;34m,\u001b[0m \u001b[0maxis\u001b[0m\u001b[0;34m=\u001b[0m\u001b[0maxis\u001b[0m\u001b[0;34m)\u001b[0m\u001b[0;34m\u001b[0m\u001b[0;34m\u001b[0m\u001b[0m\n\u001b[1;32m   4997\u001b[0m \u001b[0;34m\u001b[0m\u001b[0m\n",
      "\u001b[0;32mmtrand.pyx\u001b[0m in \u001b[0;36mnumpy.random.mtrand.RandomState.choice\u001b[0;34m()\u001b[0m\n",
      "\u001b[0;31mValueError\u001b[0m: Cannot take a larger sample than population when 'replace=False'"
     ]
    }
   ],
   "source": [
    "lines=lines.sample(n=25000,random_state=42)\n",
    "lines.shape"
   ]
  },
  {
   "cell_type": "code",
   "execution_count": 9,
   "metadata": {
    "colab": {
     "base_uri": "https://localhost:8080/",
     "height": 162
    },
    "id": "nTPt9CJCEG8t",
    "outputId": "42e729cd-7b67-4027-e436-822296339b3b"
   },
   "outputs": [
    {
     "ename": "NameError",
     "evalue": "name 'Tokenizer' is not defined",
     "output_type": "error",
     "traceback": [
      "\u001b[1;31m---------------------------------------------------------------------------\u001b[0m",
      "\u001b[1;31mNameError\u001b[0m                                 Traceback (most recent call last)",
      "\u001b[1;32m<ipython-input-9-5966e800ef01>\u001b[0m in \u001b[0;36m<module>\u001b[1;34m()\u001b[0m\n\u001b[1;32m----> 1\u001b[1;33m \u001b[0mtokenizer\u001b[0m \u001b[1;33m=\u001b[0m \u001b[0mTokenizer\u001b[0m\u001b[1;33m(\u001b[0m\u001b[0mnum_words\u001b[0m\u001b[1;33m=\u001b[0m\u001b[1;36m50000\u001b[0m\u001b[1;33m)\u001b[0m\u001b[1;33m\u001b[0m\u001b[0m\n\u001b[0m",
      "\u001b[1;31mNameError\u001b[0m: name 'Tokenizer' is not defined"
     ]
    }
   ],
   "source": [
    "tokenizer = Tokenizer(num_words=50000)"
   ]
  },
  {
   "cell_type": "code",
   "execution_count": null,
   "metadata": {
    "id": "R3gjLOHpEG8t"
   },
   "outputs": [],
   "source": []
  },
  {
   "cell_type": "code",
   "execution_count": null,
   "metadata": {
    "id": "9W9PsGzCEG8u"
   },
   "outputs": [],
   "source": []
  },
  {
   "cell_type": "code",
   "execution_count": null,
   "metadata": {
    "id": "fEMa9ZtzEG8u"
   },
   "outputs": [],
   "source": [
    "\n"
   ]
  },
  {
   "cell_type": "code",
   "execution_count": 8,
   "metadata": {
    "id": "ApIGlq_KEG8v"
   },
   "outputs": [],
   "source": [
    "# Add start and end tokens to target sequences\n",
    "lines['Pashto'] = lines['Pashto'].apply(lambda x : 'START_ '+ x + ' _END')"
   ]
  },
  {
   "cell_type": "code",
   "execution_count": 9,
   "metadata": {
    "colab": {
     "base_uri": "https://localhost:8080/",
     "height": 203
    },
    "id": "ZY-wEuSAEG8v",
    "outputId": "8271d196-445c-4a21-fdd9-4d31d5859701"
   },
   "outputs": [
    {
     "data": {
      "text/html": [
       "<div>\n",
       "<style scoped>\n",
       "    .dataframe tbody tr th:only-of-type {\n",
       "        vertical-align: middle;\n",
       "    }\n",
       "\n",
       "    .dataframe tbody tr th {\n",
       "        vertical-align: top;\n",
       "    }\n",
       "\n",
       "    .dataframe thead th {\n",
       "        text-align: right;\n",
       "    }\n",
       "</style>\n",
       "<table border=\"1\" class=\"dataframe\">\n",
       "  <thead>\n",
       "    <tr style=\"text-align: right;\">\n",
       "      <th></th>\n",
       "      <th>Urdu</th>\n",
       "      <th>Pashto</th>\n",
       "    </tr>\n",
       "  </thead>\n",
       "  <tbody>\n",
       "    <tr>\n",
       "      <th>0</th>\n",
       "      <td>نفیسہ کے لہجے میںلپکتی خواہشاصرارخوف</td>\n",
       "      <td>START_ خطاافقافق _END</td>\n",
       "    </tr>\n",
       "    <tr>\n",
       "      <th>1</th>\n",
       "      <td>چین کے جنوب مشرقی ساحلی علاقوں میں طوفان کے با</td>\n",
       "      <td>START_ د چین سویلي ساحلي سیمو کې طوفان _END</td>\n",
       "    </tr>\n",
       "    <tr>\n",
       "      <th>2</th>\n",
       "      <td>انہوں نے اپنی قیادت سے کہا کہ منافقت کی سیاست</td>\n",
       "      <td>START_ هغه خپل رهبریت ته وویل چې د منافقت سیاس...</td>\n",
       "    </tr>\n",
       "    <tr>\n",
       "      <th>3</th>\n",
       "      <td>ہم لوگ چہل میں نے رات دیکھا کہ میں نے آئی فون...</td>\n",
       "      <td>START_ موږ هغه شپه ولیدل چې ما هغه شپه ولیدل چ...</td>\n",
       "    </tr>\n",
       "    <tr>\n",
       "      <th>4</th>\n",
       "      <td>غیر مسلموں کے ساتھ ملتے جلتے انہیں اپنے کردار</td>\n",
       "      <td>START_ دوی د دوی کرکټر غیر مسلمانانو ته ورته د...</td>\n",
       "    </tr>\n",
       "  </tbody>\n",
       "</table>\n",
       "</div>"
      ],
      "text/plain": [
       "                                                Urdu  \\\n",
       "0              نفیسہ کے لہجے میںلپکتی خواہشاصرارخوف    \n",
       "1     چین کے جنوب مشرقی ساحلی علاقوں میں طوفان کے با   \n",
       "2     انہوں نے اپنی قیادت سے کہا کہ منافقت کی سیاست    \n",
       "3   ہم لوگ چہل میں نے رات دیکھا کہ میں نے آئی فون...   \n",
       "4     غیر مسلموں کے ساتھ ملتے جلتے انہیں اپنے کردار    \n",
       "\n",
       "                                              Pashto  \n",
       "0                              START_ خطاافقافق _END  \n",
       "1        START_ د چین سویلي ساحلي سیمو کې طوفان _END  \n",
       "2  START_ هغه خپل رهبریت ته وویل چې د منافقت سیاس...  \n",
       "3  START_ موږ هغه شپه ولیدل چې ما هغه شپه ولیدل چ...  \n",
       "4  START_ دوی د دوی کرکټر غیر مسلمانانو ته ورته د...  "
      ]
     },
     "execution_count": 9,
     "metadata": {},
     "output_type": "execute_result"
    }
   ],
   "source": [
    "lines.head()"
   ]
  },
  {
   "cell_type": "code",
   "execution_count": 10,
   "metadata": {
    "id": "YQOQ2Dg-EG8w"
   },
   "outputs": [],
   "source": [
    "### Get English and Hindi Vocabulary\n",
    "all_urdu_words=set()\n",
    "for urdu in lines['Urdu']:\n",
    "    for word in urdu.split():\n",
    "        if word not in all_urdu_words:\n",
    "            all_urdu_words.add(word)\n",
    "\n",
    "all_pashto_words=set()\n",
    "for ps in lines['Pashto']:\n",
    "    for word in ps.split():\n",
    "        if word not in all_pashto_words:\n",
    "            all_pashto_words.add(word)"
   ]
  },
  {
   "cell_type": "code",
   "execution_count": 11,
   "metadata": {
    "colab": {
     "base_uri": "https://localhost:8080/"
    },
    "id": "wO1LwqPPEG8w",
    "outputId": "49ada05e-00da-4747-a53a-17c060dda98d"
   },
   "outputs": [
    {
     "data": {
      "text/plain": [
       "141295"
      ]
     },
     "execution_count": 11,
     "metadata": {},
     "output_type": "execute_result"
    }
   ],
   "source": [
    "len(all_urdu_words)"
   ]
  },
  {
   "cell_type": "code",
   "execution_count": 12,
   "metadata": {
    "colab": {
     "base_uri": "https://localhost:8080/"
    },
    "id": "4grt5XDlEG8w",
    "outputId": "bc102418-3247-4d30-d96f-86a1b85001ce"
   },
   "outputs": [
    {
     "data": {
      "text/plain": [
       "64882"
      ]
     },
     "execution_count": 12,
     "metadata": {},
     "output_type": "execute_result"
    }
   ],
   "source": [
    "len(all_pashto_words)\n"
   ]
  },
  {
   "cell_type": "code",
   "execution_count": 13,
   "metadata": {
    "id": "TKft5DO3EG8x"
   },
   "outputs": [],
   "source": [
    "lines['length_urdu_sentence']=lines['Urdu'].apply(lambda x:len(x.split(\" \")))\n",
    "lines['length_pashto_sentence']=lines['Pashto'].apply(lambda x:len(x.split(\" \")))"
   ]
  },
  {
   "cell_type": "code",
   "execution_count": 14,
   "metadata": {
    "colab": {
     "base_uri": "https://localhost:8080/",
     "height": 203
    },
    "id": "5zDPpmyqEG8x",
    "outputId": "01e78ef1-2ec8-4e83-e6cd-67538279a6e7"
   },
   "outputs": [
    {
     "data": {
      "text/html": [
       "<div>\n",
       "<style scoped>\n",
       "    .dataframe tbody tr th:only-of-type {\n",
       "        vertical-align: middle;\n",
       "    }\n",
       "\n",
       "    .dataframe tbody tr th {\n",
       "        vertical-align: top;\n",
       "    }\n",
       "\n",
       "    .dataframe thead th {\n",
       "        text-align: right;\n",
       "    }\n",
       "</style>\n",
       "<table border=\"1\" class=\"dataframe\">\n",
       "  <thead>\n",
       "    <tr style=\"text-align: right;\">\n",
       "      <th></th>\n",
       "      <th>Urdu</th>\n",
       "      <th>Pashto</th>\n",
       "      <th>length_urdu_sentence</th>\n",
       "      <th>length_pashto_sentence</th>\n",
       "    </tr>\n",
       "  </thead>\n",
       "  <tbody>\n",
       "    <tr>\n",
       "      <th>0</th>\n",
       "      <td>نفیسہ کے لہجے میںلپکتی خواہشاصرارخوف</td>\n",
       "      <td>START_ خطاافقافق _END</td>\n",
       "      <td>6</td>\n",
       "      <td>3</td>\n",
       "    </tr>\n",
       "    <tr>\n",
       "      <th>1</th>\n",
       "      <td>چین کے جنوب مشرقی ساحلی علاقوں میں طوفان کے با</td>\n",
       "      <td>START_ د چین سویلي ساحلي سیمو کې طوفان _END</td>\n",
       "      <td>10</td>\n",
       "      <td>9</td>\n",
       "    </tr>\n",
       "    <tr>\n",
       "      <th>2</th>\n",
       "      <td>انہوں نے اپنی قیادت سے کہا کہ منافقت کی سیاست</td>\n",
       "      <td>START_ هغه خپل رهبریت ته وویل چې د منافقت سیاس...</td>\n",
       "      <td>11</td>\n",
       "      <td>11</td>\n",
       "    </tr>\n",
       "    <tr>\n",
       "      <th>3</th>\n",
       "      <td>ہم لوگ چہل میں نے رات دیکھا کہ میں نے آئی فون...</td>\n",
       "      <td>START_ موږ هغه شپه ولیدل چې ما هغه شپه ولیدل چ...</td>\n",
       "      <td>39</td>\n",
       "      <td>34</td>\n",
       "    </tr>\n",
       "    <tr>\n",
       "      <th>4</th>\n",
       "      <td>غیر مسلموں کے ساتھ ملتے جلتے انہیں اپنے کردار</td>\n",
       "      <td>START_ دوی د دوی کرکټر غیر مسلمانانو ته ورته د...</td>\n",
       "      <td>10</td>\n",
       "      <td>11</td>\n",
       "    </tr>\n",
       "  </tbody>\n",
       "</table>\n",
       "</div>"
      ],
      "text/plain": [
       "                                                Urdu  \\\n",
       "0              نفیسہ کے لہجے میںلپکتی خواہشاصرارخوف    \n",
       "1     چین کے جنوب مشرقی ساحلی علاقوں میں طوفان کے با   \n",
       "2     انہوں نے اپنی قیادت سے کہا کہ منافقت کی سیاست    \n",
       "3   ہم لوگ چہل میں نے رات دیکھا کہ میں نے آئی فون...   \n",
       "4     غیر مسلموں کے ساتھ ملتے جلتے انہیں اپنے کردار    \n",
       "\n",
       "                                              Pashto  length_urdu_sentence  \\\n",
       "0                              START_ خطاافقافق _END                     6   \n",
       "1        START_ د چین سویلي ساحلي سیمو کې طوفان _END                    10   \n",
       "2  START_ هغه خپل رهبریت ته وویل چې د منافقت سیاس...                    11   \n",
       "3  START_ موږ هغه شپه ولیدل چې ما هغه شپه ولیدل چ...                    39   \n",
       "4  START_ دوی د دوی کرکټر غیر مسلمانانو ته ورته د...                    10   \n",
       "\n",
       "   length_pashto_sentence  \n",
       "0                       3  \n",
       "1                       9  \n",
       "2                      11  \n",
       "3                      34  \n",
       "4                      11  "
      ]
     },
     "execution_count": 14,
     "metadata": {},
     "output_type": "execute_result"
    }
   ],
   "source": [
    "lines.head()"
   ]
  },
  {
   "cell_type": "code",
   "execution_count": 15,
   "metadata": {
    "colab": {
     "base_uri": "https://localhost:8080/"
    },
    "id": "qwEjOjlIEG8y",
    "outputId": "8fb7aedc-f09b-455e-9807-d97ac2b5d3a4"
   },
   "outputs": [
    {
     "data": {
      "text/plain": [
       "(10493, 4)"
      ]
     },
     "execution_count": 15,
     "metadata": {},
     "output_type": "execute_result"
    }
   ],
   "source": [
    "lines[lines['length_urdu_sentence']>30].shape"
   ]
  },
  {
   "cell_type": "code",
   "execution_count": 16,
   "metadata": {
    "id": "NNe75MrOEG8y"
   },
   "outputs": [],
   "source": [
    "lines=lines[lines['length_urdu_sentence']<=30]\n",
    "lines=lines[lines['length_pashto_sentence']<=30]"
   ]
  },
  {
   "cell_type": "code",
   "execution_count": 17,
   "metadata": {
    "colab": {
     "base_uri": "https://localhost:8080/"
    },
    "id": "f4VmLbtHEG8z",
    "outputId": "4df3be49-94db-424a-e1aa-4f9ce4df1422"
   },
   "outputs": [
    {
     "data": {
      "text/plain": [
       "(116987, 4)"
      ]
     },
     "execution_count": 17,
     "metadata": {},
     "output_type": "execute_result"
    }
   ],
   "source": [
    "lines.shape"
   ]
  },
  {
   "cell_type": "code",
   "execution_count": 18,
   "metadata": {},
   "outputs": [
    {
     "data": {
      "text/html": [
       "<div>\n",
       "<style scoped>\n",
       "    .dataframe tbody tr th:only-of-type {\n",
       "        vertical-align: middle;\n",
       "    }\n",
       "\n",
       "    .dataframe tbody tr th {\n",
       "        vertical-align: top;\n",
       "    }\n",
       "\n",
       "    .dataframe thead th {\n",
       "        text-align: right;\n",
       "    }\n",
       "</style>\n",
       "<table border=\"1\" class=\"dataframe\">\n",
       "  <thead>\n",
       "    <tr style=\"text-align: right;\">\n",
       "      <th></th>\n",
       "      <th>Urdu</th>\n",
       "      <th>Pashto</th>\n",
       "      <th>length_urdu_sentence</th>\n",
       "      <th>length_pashto_sentence</th>\n",
       "    </tr>\n",
       "  </thead>\n",
       "  <tbody>\n",
       "    <tr>\n",
       "      <th>0</th>\n",
       "      <td>نفیسہ کے لہجے میںلپکتی خواہشاصرارخوف</td>\n",
       "      <td>START_ خطاافقافق _END</td>\n",
       "      <td>6</td>\n",
       "      <td>3</td>\n",
       "    </tr>\n",
       "    <tr>\n",
       "      <th>1</th>\n",
       "      <td>چین کے جنوب مشرقی ساحلی علاقوں میں طوفان کے با</td>\n",
       "      <td>START_ د چین سویلي ساحلي سیمو کې طوفان _END</td>\n",
       "      <td>10</td>\n",
       "      <td>9</td>\n",
       "    </tr>\n",
       "    <tr>\n",
       "      <th>2</th>\n",
       "      <td>انہوں نے اپنی قیادت سے کہا کہ منافقت کی سیاست</td>\n",
       "      <td>START_ هغه خپل رهبریت ته وویل چې د منافقت سیاس...</td>\n",
       "      <td>11</td>\n",
       "      <td>11</td>\n",
       "    </tr>\n",
       "    <tr>\n",
       "      <th>4</th>\n",
       "      <td>غیر مسلموں کے ساتھ ملتے جلتے انہیں اپنے کردار</td>\n",
       "      <td>START_ دوی د دوی کرکټر غیر مسلمانانو ته ورته د...</td>\n",
       "      <td>10</td>\n",
       "      <td>11</td>\n",
       "    </tr>\n",
       "    <tr>\n",
       "      <th>5</th>\n",
       "      <td>زندگی کے مسائل کا یکلخت اظہار بھی اس کے فروغ ک</td>\n",
       "      <td>START_ د ژوند ستونزو ایچی هم پرمختګ کوي _END</td>\n",
       "      <td>11</td>\n",
       "      <td>9</td>\n",
       "    </tr>\n",
       "    <tr>\n",
       "      <th>6</th>\n",
       "      <td>کھلی کی کھلی رہ گئی آنکھ سب کی روزی روٹی کی خ...</td>\n",
       "      <td>START_ د فېسبوک توطیه خپره شوې ده چې پیښور د خ...</td>\n",
       "      <td>27</td>\n",
       "      <td>17</td>\n",
       "    </tr>\n",
       "    <tr>\n",
       "      <th>7</th>\n",
       "      <td>باقی یہ بات کہ کون سا اسلام نافذ ہوگا تو انتہا</td>\n",
       "      <td>START_ د اسلام پاتې برخه چې پلي شوې ده افراطیت...</td>\n",
       "      <td>11</td>\n",
       "      <td>11</td>\n",
       "    </tr>\n",
       "    <tr>\n",
       "      <th>8</th>\n",
       "      <td>ہر آنہ تخم بدی شت و چشم نیی داشتبس ہو جائے تو ...</td>\n",
       "      <td>START_ د NII زړونو ترشا هر انین شرمي بد نه پری...</td>\n",
       "      <td>24</td>\n",
       "      <td>20</td>\n",
       "    </tr>\n",
       "    <tr>\n",
       "      <th>9</th>\n",
       "      <td>پاکستانی انسانوں سے پاکستانی ج</td>\n",
       "      <td>START_ د پاکستان خلک له پاکستان څخه _END</td>\n",
       "      <td>6</td>\n",
       "      <td>8</td>\n",
       "    </tr>\n",
       "    <tr>\n",
       "      <th>10</th>\n",
       "      <td>ہوا ہے دستۂ نسرین و نسترن تکیہاس فریق کا اعتم...</td>\n",
       "      <td>START_ باد هڅه شوې چې د ګوند باور له منځه وړلو...</td>\n",
       "      <td>19</td>\n",
       "      <td>15</td>\n",
       "    </tr>\n",
       "    <tr>\n",
       "      <th>11</th>\n",
       "      <td>آئیے لغت کا سہارا لیتے ہیں نقل کرنے کی ایک وج...</td>\n",
       "      <td>START_ راځئ چې د قاموس ملاتړ وکړو چې د کاپي کو...</td>\n",
       "      <td>19</td>\n",
       "      <td>20</td>\n",
       "    </tr>\n",
       "    <tr>\n",
       "      <th>12</th>\n",
       "      <td>اپنی آنکھ بند کر کے اپنے بائیں ہاتھ کا انگوٹھا</td>\n",
       "      <td>START_ ستاسو د سترګو د خلاصولو له لارې ستاسو د...</td>\n",
       "      <td>10</td>\n",
       "      <td>15</td>\n",
       "    </tr>\n",
       "    <tr>\n",
       "      <th>13</th>\n",
       "      <td>خلیل احمد سہارنپوریاچھا گزر رہا ہے چھٹی کا دن ...</td>\n",
       "      <td>START_ خلیل احمد پیرشاهاهاهاهاه نن د رخصتۍ په ...</td>\n",
       "      <td>14</td>\n",
       "      <td>11</td>\n",
       "    </tr>\n",
       "    <tr>\n",
       "      <th>14</th>\n",
       "      <td>میں خود چند ایک فورمز کا ماڈریٹر رہ چکا ہوں او</td>\n",
       "      <td>START_ زه پخپله یو څو فورمونه موډلر او _END</td>\n",
       "      <td>11</td>\n",
       "      <td>9</td>\n",
       "    </tr>\n",
       "    <tr>\n",
       "      <th>15</th>\n",
       "      <td>زندگی رہ گزر نہ ہو جائےمرزاہم آواگون پر یقین ن...</td>\n",
       "      <td>START_ ژوند تیر نه کوي زه په ایګون باور نلرم ک...</td>\n",
       "      <td>14</td>\n",
       "      <td>16</td>\n",
       "    </tr>\n",
       "    <tr>\n",
       "      <th>16</th>\n",
       "      <td>چائے ٹھندی ہو جائے گی جلد پیجئے اس واقعہ کے با...</td>\n",
       "      <td>START_ چای به ژر تر ژره هم ښه وي ما فکر کاوه چ...</td>\n",
       "      <td>18</td>\n",
       "      <td>16</td>\n",
       "    </tr>\n",
       "    <tr>\n",
       "      <th>17</th>\n",
       "      <td>کسی نے سچ ہی کہا ہے کامیابی دوستوں کی فہرست می</td>\n",
       "      <td>START_ یو چا د ملګرو لیست ته ریښتیا ویلي دي _END</td>\n",
       "      <td>11</td>\n",
       "      <td>11</td>\n",
       "    </tr>\n",
       "    <tr>\n",
       "      <th>18</th>\n",
       "      <td>انڈیزائن میں متن کی رائٹ سے لیفٹ الائنمنٹ کیسے</td>\n",
       "      <td>START_ څنګه په انډیز کې د متن له رقام څخه د سا...</td>\n",
       "      <td>9</td>\n",
       "      <td>14</td>\n",
       "    </tr>\n",
       "    <tr>\n",
       "      <th>19</th>\n",
       "      <td>حالانکہ ورون گاندھی نے پیلی بھیت کے ضلع مجسٹری</td>\n",
       "      <td>START_ که څه هم د رحم ګانشي دانې ولسوالۍ ولسوا...</td>\n",
       "      <td>9</td>\n",
       "      <td>11</td>\n",
       "    </tr>\n",
       "    <tr>\n",
       "      <th>20</th>\n",
       "      <td>دل سے تیری نگاہ جگر تک اتر گییایسا وہ ہمیشہ م...</td>\n",
       "      <td>START_ له زړه څخه ستاسو سترګو ته تاسو به تل زم...</td>\n",
       "      <td>17</td>\n",
       "      <td>14</td>\n",
       "    </tr>\n",
       "    <tr>\n",
       "      <th>21</th>\n",
       "      <td>شدت غم میں بھی زندہ ہوں تو حیرت کیسی یا رجلاخ...</td>\n",
       "      <td>START_ شدت هم په غم کې هم ژوندی دی که د حیرانت...</td>\n",
       "      <td>17</td>\n",
       "      <td>21</td>\n",
       "    </tr>\n",
       "    <tr>\n",
       "      <th>22</th>\n",
       "      <td>میرے پاس بھی آئیڈیا بڑے مزے کا ہےفاروق بھائی آ...</td>\n",
       "      <td>START_ زه هم یو ښه خوند اخلم رسنۍ تاسو تاسو رس...</td>\n",
       "      <td>25</td>\n",
       "      <td>24</td>\n",
       "    </tr>\n",
       "    <tr>\n",
       "      <th>23</th>\n",
       "      <td>اسلام آبادرپورٹ حامد میراگرچہ دنیا بھر م</td>\n",
       "      <td>START_ د اسلام زبونې د نړۍ په کچه سګرټ _END</td>\n",
       "      <td>7</td>\n",
       "      <td>10</td>\n",
       "    </tr>\n",
       "    <tr>\n",
       "      <th>24</th>\n",
       "      <td>ہمارا طرز عمل لٹھ لے کر اسلام پر پل پڑنا بن چک</td>\n",
       "      <td>START_ زموږ چلند د اسلام پل له لاسه ورکول دي _END</td>\n",
       "      <td>12</td>\n",
       "      <td>11</td>\n",
       "    </tr>\n",
       "    <tr>\n",
       "      <th>25</th>\n",
       "      <td>خاککہنا یہ چاہتا ہے کہ اس انسان کا بدن خاک</td>\n",
       "      <td>START_ خاکینا غواړي پوه شي چې د دې سړي بدن _END</td>\n",
       "      <td>11</td>\n",
       "      <td>11</td>\n",
       "    </tr>\n",
       "    <tr>\n",
       "      <th>26</th>\n",
       "      <td>المنظر پوائینٹ یہ ایک مختصر مضمون لکھ دیا تاک...</td>\n",
       "      <td>START_ د ایلچین پویل دا یو لنډه مقاله لیکلې تر...</td>\n",
       "      <td>25</td>\n",
       "      <td>18</td>\n",
       "    </tr>\n",
       "    <tr>\n",
       "      <th>28</th>\n",
       "      <td>دوسروں کی مدد کرنامیرے سگے بھائی وکیل ہیں متح...</td>\n",
       "      <td>START_ د نورو سره مرسته کول د ورور وکیل په متح...</td>\n",
       "      <td>20</td>\n",
       "      <td>19</td>\n",
       "    </tr>\n",
       "    <tr>\n",
       "      <th>29</th>\n",
       "      <td>اپنا تعارف ایک الگ سلسلے میں دیںعنایت ہوگیجن م...</td>\n",
       "      <td>START_ دوه لاک شپاړس زره ټکي ستاسو په معرفي کو...</td>\n",
       "      <td>18</td>\n",
       "      <td>19</td>\n",
       "    </tr>\n",
       "    <tr>\n",
       "      <th>31</th>\n",
       "      <td>اگر آپ محفل کو یہ افتخار عطا کیجے تو خوشی ہوگی</td>\n",
       "      <td>START_ که تاسو دا قمار ته ورکړئ نو تاسو به خوش...</td>\n",
       "      <td>11</td>\n",
       "      <td>18</td>\n",
       "    </tr>\n",
       "    <tr>\n",
       "      <th>32</th>\n",
       "      <td>ایک سب آگایک سب پانیہم نے مٹر پلاؤ اور قیمہ بن...</td>\n",
       "      <td>START_ د ټولې ورځې مونکې څخه یو او قیمتي اوه ی...</td>\n",
       "      <td>14</td>\n",
       "      <td>14</td>\n",
       "    </tr>\n",
       "    <tr>\n",
       "      <th>...</th>\n",
       "      <td>...</td>\n",
       "      <td>...</td>\n",
       "      <td>...</td>\n",
       "      <td>...</td>\n",
       "    </tr>\n",
       "    <tr>\n",
       "      <th>128674</th>\n",
       "      <td>دوسرے دن آپرشن ہوا خوش آمدید تو ہم اپنی ٹوٹی پ...</td>\n",
       "      <td>START_ بله ورځ عملیات ښه راغلاست دی نو موږ په ...</td>\n",
       "      <td>15</td>\n",
       "      <td>15</td>\n",
       "    </tr>\n",
       "    <tr>\n",
       "      <th>128675</th>\n",
       "      <td>مکمل مارکسٹ بننا کسی قدر حماقت کا متقاضی ہے</td>\n",
       "      <td>START_ د بشپړ مرمۍ کیدو لپاره د یو څه حملونو ف...</td>\n",
       "      <td>9</td>\n",
       "      <td>14</td>\n",
       "    </tr>\n",
       "    <tr>\n",
       "      <th>128676</th>\n",
       "      <td>رانی نے مغربی لباسہندستانی لباس ہر سیکشن کے</td>\n",
       "      <td>START_ ملکه لویدیځ هره برخه اغوستې _END</td>\n",
       "      <td>8</td>\n",
       "      <td>7</td>\n",
       "    </tr>\n",
       "    <tr>\n",
       "      <th>128677</th>\n",
       "      <td>اور جو سامنے ملتا ہے کھانے کو اسے خود بناتی ہی</td>\n",
       "      <td>START_ او هغه څوک چې د ځان په مخ کې راځي ځان ج...</td>\n",
       "      <td>11</td>\n",
       "      <td>14</td>\n",
       "    </tr>\n",
       "    <tr>\n",
       "      <th>128678</th>\n",
       "      <td>اس کی وضاحت میں اوپر یہاں کر چکا ہوں بھارتی ک...</td>\n",
       "      <td>START_ ما دلته د هندي کریکټ ملي ټیم کپتین مهرډ...</td>\n",
       "      <td>19</td>\n",
       "      <td>17</td>\n",
       "    </tr>\n",
       "    <tr>\n",
       "      <th>128679</th>\n",
       "      <td>مرے ساتھ اس کی رضا ہی نہیں ہے زیادہ انتظار نہی...</td>\n",
       "      <td>START_ په مړو سره هیڅ خوند نشته دا لا ډیر انتظ...</td>\n",
       "      <td>24</td>\n",
       "      <td>24</td>\n",
       "    </tr>\n",
       "    <tr>\n",
       "      <th>128681</th>\n",
       "      <td>پی ایم دیکھ لیںیہ کہہ کر شکیلہ نے سانس کے ذریع...</td>\n",
       "      <td>START_ د لومړي وزیر شیککا د ساه د هغه ساه له ل...</td>\n",
       "      <td>14</td>\n",
       "      <td>14</td>\n",
       "    </tr>\n",
       "    <tr>\n",
       "      <th>128682</th>\n",
       "      <td>کوئی انسان پیدائش کے اعتبار سے دوسرے انسان پر</td>\n",
       "      <td>START_ هر انسان په بل انسان کې _END</td>\n",
       "      <td>10</td>\n",
       "      <td>8</td>\n",
       "    </tr>\n",
       "    <tr>\n",
       "      <th>128683</th>\n",
       "      <td>اگر ایک چہرے پر غبار آ جائے گا تو سینکڑوں چہرے</td>\n",
       "      <td>START_ په سلهاو مخونه که مخ راشي _END</td>\n",
       "      <td>11</td>\n",
       "      <td>8</td>\n",
       "    </tr>\n",
       "    <tr>\n",
       "      <th>128684</th>\n",
       "      <td>کنکشن ختم کرنے یعنیکرنے کے لئے مین</td>\n",
       "      <td>START_ د پیوستون پای ته رسولو لپاره اصلي _END</td>\n",
       "      <td>7</td>\n",
       "      <td>9</td>\n",
       "    </tr>\n",
       "    <tr>\n",
       "      <th>128685</th>\n",
       "      <td>تقریب میں موجود کچھ لوگوں نے انکے الفاظ میں سے</td>\n",
       "      <td>START_ ځینې خلک د دوی د خبرو مراسم وړاندې کوي ...</td>\n",
       "      <td>10</td>\n",
       "      <td>11</td>\n",
       "    </tr>\n",
       "    <tr>\n",
       "      <th>128686</th>\n",
       "      <td>کدھر ہو ماورہ میں بھی اپنے کو اس کلیہ سے الگ ن...</td>\n",
       "      <td>START_ دا په کیسه کې له دې کلینیک څخه جلا شوی ...</td>\n",
       "      <td>15</td>\n",
       "      <td>13</td>\n",
       "    </tr>\n",
       "    <tr>\n",
       "      <th>128687</th>\n",
       "      <td>ہندو تنطیمیں مذہب کو صرف اپنےمتعصبانہ زاویہ سے</td>\n",
       "      <td>START_ د هندو سره د مذهب څخه د مذهب څخه _END</td>\n",
       "      <td>8</td>\n",
       "      <td>11</td>\n",
       "    </tr>\n",
       "    <tr>\n",
       "      <th>128688</th>\n",
       "      <td>جب کوئی کتاب بہت مہنگی ملتی ہے تو اپنی باری کے</td>\n",
       "      <td>START_ ستاسو وار کله چې کتاب خورا ګران دی _END</td>\n",
       "      <td>11</td>\n",
       "      <td>10</td>\n",
       "    </tr>\n",
       "    <tr>\n",
       "      <th>128689</th>\n",
       "      <td>ہر وقت کوئی اسے کسی نہ کسی کام کو کہہ دیتا اور</td>\n",
       "      <td>START_ هر ځل چې یو څوک هغه ته یو څه کار کوي او...</td>\n",
       "      <td>12</td>\n",
       "      <td>14</td>\n",
       "    </tr>\n",
       "    <tr>\n",
       "      <th>128690</th>\n",
       "      <td>اس سے میرا مہ خورشید جمال اچھا ہےعلی بخش کسی ق...</td>\n",
       "      <td>START_ زما د میرا خسالت جمال ښه دی چې غوره ویش...</td>\n",
       "      <td>15</td>\n",
       "      <td>16</td>\n",
       "    </tr>\n",
       "    <tr>\n",
       "      <th>128691</th>\n",
       "      <td>میں نے تو دکھانے کی بات کی تھیجب پانی سر سے گ...</td>\n",
       "      <td>START_ کله چې ما اوبه وښودې دا د سر لخوا تصویب...</td>\n",
       "      <td>20</td>\n",
       "      <td>16</td>\n",
       "    </tr>\n",
       "    <tr>\n",
       "      <th>128692</th>\n",
       "      <td>پاکستانی بھائی یہ پھر فراخ دلی تو نہ ہوئی ناں</td>\n",
       "      <td>START_ پاکستان ورو brothers ه دوام نلري _END</td>\n",
       "      <td>11</td>\n",
       "      <td>8</td>\n",
       "    </tr>\n",
       "    <tr>\n",
       "      <th>128693</th>\n",
       "      <td>سر کٹا انسانہم کیوں ایسے لوگ چنتے ہیں جو مکمل...</td>\n",
       "      <td>START_ ولې د سر غوټ شوي وسیلې هغه خلک غوره کوي...</td>\n",
       "      <td>14</td>\n",
       "      <td>18</td>\n",
       "    </tr>\n",
       "    <tr>\n",
       "      <th>128694</th>\n",
       "      <td>لیکن اس میں کراس دینے کی کیا بات ہےبہت خوب ظفر...</td>\n",
       "      <td>START_ مګر دا د دې ورکولو څه دی په ښه ظفر صاحب...</td>\n",
       "      <td>22</td>\n",
       "      <td>20</td>\n",
       "    </tr>\n",
       "    <tr>\n",
       "      <th>128695</th>\n",
       "      <td>گستاخان نبی کو عہد رسالت سے ہی موت کے گھاٹ اتا</td>\n",
       "      <td>START_ رسول الله صلی الله علیه وسلم فرمایی _END</td>\n",
       "      <td>11</td>\n",
       "      <td>9</td>\n",
       "    </tr>\n",
       "    <tr>\n",
       "      <th>128696</th>\n",
       "      <td>مصباح الحق کا ٹاس جیت کر اپنی مضبوط بولنگ کے ب</td>\n",
       "      <td>START_ مصطف الله خپل قوي توپ اچولی B _END</td>\n",
       "      <td>11</td>\n",
       "      <td>9</td>\n",
       "    </tr>\n",
       "    <tr>\n",
       "      <th>128697</th>\n",
       "      <td>بہت سادہ بہت معصومانہ انداز سے بڑی گنجلک گھتیا</td>\n",
       "      <td>START_ په ډیر بې ګناه ډول خورا ساده _END</td>\n",
       "      <td>9</td>\n",
       "      <td>9</td>\n",
       "    </tr>\n",
       "    <tr>\n",
       "      <th>128698</th>\n",
       "      <td>زنہوا نیوز کے مطابق وانگ نے کہا ہے کہاستغاث</td>\n",
       "      <td>START_ وانګ وویل چې د زیناوا نیوز په وینا _END</td>\n",
       "      <td>9</td>\n",
       "      <td>10</td>\n",
       "    </tr>\n",
       "    <tr>\n",
       "      <th>128699</th>\n",
       "      <td>پھر جب کسی چیز کو کانٹے میں پرو کرمنہ میں لے ج</td>\n",
       "      <td>START_ بیا کله چې زه په ملکه کې د جوان په هډوک...</td>\n",
       "      <td>12</td>\n",
       "      <td>17</td>\n",
       "    </tr>\n",
       "    <tr>\n",
       "      <th>128700</th>\n",
       "      <td>تفہیم الاحکامجلد سیاح الدین کاکاخیل</td>\n",
       "      <td>START_ د الحاممجادادي اتلسئین کاکال باندې پوهی...</td>\n",
       "      <td>6</td>\n",
       "      <td>8</td>\n",
       "    </tr>\n",
       "    <tr>\n",
       "      <th>128701</th>\n",
       "      <td>بڑوں کا بہت احترام کرتے ہیں ایم کیو ایم قوم پر...</td>\n",
       "      <td>START_ زاړه د ملي سیاست په ملي سیاست کې د ملي ...</td>\n",
       "      <td>17</td>\n",
       "      <td>16</td>\n",
       "    </tr>\n",
       "    <tr>\n",
       "      <th>128702</th>\n",
       "      <td>بلا شبہ بہت خوب صورتکسی کو مس ہی نہیں کرتے کت...</td>\n",
       "      <td>START_ بدبختانه پدې اړه هیڅ شک شتون نلري چې څو...</td>\n",
       "      <td>18</td>\n",
       "      <td>13</td>\n",
       "    </tr>\n",
       "    <tr>\n",
       "      <th>128703</th>\n",
       "      <td>میرا خیال ہے کہ تمام بڑے براؤزرز خاص کر فائر ف</td>\n",
       "      <td>START_ زه فکر کوم ټول لوی براوزرونه په ځانګړي ...</td>\n",
       "      <td>11</td>\n",
       "      <td>15</td>\n",
       "    </tr>\n",
       "    <tr>\n",
       "      <th>128704</th>\n",
       "      <td>اگر ایک دفعہ استعمال کر لوں تو پندرہ دن تک یہ</td>\n",
       "      <td>START_ که تاسو د پنځلس ورځو لپاره یو ځل وکاروئ...</td>\n",
       "      <td>12</td>\n",
       "      <td>11</td>\n",
       "    </tr>\n",
       "  </tbody>\n",
       "</table>\n",
       "<p>116987 rows × 4 columns</p>\n",
       "</div>"
      ],
      "text/plain": [
       "                                                     Urdu  \\\n",
       "0                   نفیسہ کے لہجے میںلپکتی خواہشاصرارخوف    \n",
       "1          چین کے جنوب مشرقی ساحلی علاقوں میں طوفان کے با   \n",
       "2          انہوں نے اپنی قیادت سے کہا کہ منافقت کی سیاست    \n",
       "4          غیر مسلموں کے ساتھ ملتے جلتے انہیں اپنے کردار    \n",
       "5          زندگی کے مسائل کا یکلخت اظہار بھی اس کے فروغ ک   \n",
       "6        کھلی کی کھلی رہ گئی آنکھ سب کی روزی روٹی کی خ...   \n",
       "7          باقی یہ بات کہ کون سا اسلام نافذ ہوگا تو انتہا   \n",
       "8       ہر آنہ تخم بدی شت و چشم نیی داشتبس ہو جائے تو ...   \n",
       "9                          پاکستانی انسانوں سے پاکستانی ج   \n",
       "10       ہوا ہے دستۂ نسرین و نسترن تکیہاس فریق کا اعتم...   \n",
       "11       آئیے لغت کا سہارا لیتے ہیں نقل کرنے کی ایک وج...   \n",
       "12         اپنی آنکھ بند کر کے اپنے بائیں ہاتھ کا انگوٹھا   \n",
       "13      خلیل احمد سہارنپوریاچھا گزر رہا ہے چھٹی کا دن ...   \n",
       "14         میں خود چند ایک فورمز کا ماڈریٹر رہ چکا ہوں او   \n",
       "15      زندگی رہ گزر نہ ہو جائےمرزاہم آواگون پر یقین ن...   \n",
       "16      چائے ٹھندی ہو جائے گی جلد پیجئے اس واقعہ کے با...   \n",
       "17         کسی نے سچ ہی کہا ہے کامیابی دوستوں کی فہرست می   \n",
       "18         انڈیزائن میں متن کی رائٹ سے لیفٹ الائنمنٹ کیسے   \n",
       "19         حالانکہ ورون گاندھی نے پیلی بھیت کے ضلع مجسٹری   \n",
       "20       دل سے تیری نگاہ جگر تک اتر گییایسا وہ ہمیشہ م...   \n",
       "21       شدت غم میں بھی زندہ ہوں تو حیرت کیسی یا رجلاخ...   \n",
       "22      میرے پاس بھی آئیڈیا بڑے مزے کا ہےفاروق بھائی آ...   \n",
       "23               اسلام آبادرپورٹ حامد میراگرچہ دنیا بھر م   \n",
       "24         ہمارا طرز عمل لٹھ لے کر اسلام پر پل پڑنا بن چک   \n",
       "25            خاککہنا یہ چاہتا ہے کہ اس انسان کا بدن خاک    \n",
       "26       المنظر پوائینٹ یہ ایک مختصر مضمون لکھ دیا تاک...   \n",
       "28       دوسروں کی مدد کرنامیرے سگے بھائی وکیل ہیں متح...   \n",
       "29      اپنا تعارف ایک الگ سلسلے میں دیںعنایت ہوگیجن م...   \n",
       "31         اگر آپ محفل کو یہ افتخار عطا کیجے تو خوشی ہوگی   \n",
       "32      ایک سب آگایک سب پانیہم نے مٹر پلاؤ اور قیمہ بن...   \n",
       "...                                                   ...   \n",
       "128674  دوسرے دن آپرشن ہوا خوش آمدید تو ہم اپنی ٹوٹی پ...   \n",
       "128675        مکمل مارکسٹ بننا کسی قدر حماقت کا متقاضی ہے   \n",
       "128676        رانی نے مغربی لباسہندستانی لباس ہر سیکشن کے   \n",
       "128677     اور جو سامنے ملتا ہے کھانے کو اسے خود بناتی ہی   \n",
       "128678   اس کی وضاحت میں اوپر یہاں کر چکا ہوں بھارتی ک...   \n",
       "128679  مرے ساتھ اس کی رضا ہی نہیں ہے زیادہ انتظار نہی...   \n",
       "128681  پی ایم دیکھ لیںیہ کہہ کر شکیلہ نے سانس کے ذریع...   \n",
       "128682     کوئی انسان پیدائش کے اعتبار سے دوسرے انسان پر    \n",
       "128683     اگر ایک چہرے پر غبار آ جائے گا تو سینکڑوں چہرے   \n",
       "128684                 کنکشن ختم کرنے یعنیکرنے کے لئے مین   \n",
       "128685     تقریب میں موجود کچھ لوگوں نے انکے الفاظ میں سے   \n",
       "128686  کدھر ہو ماورہ میں بھی اپنے کو اس کلیہ سے الگ ن...   \n",
       "128687     ہندو تنطیمیں مذہب کو صرف اپنےمتعصبانہ زاویہ سے   \n",
       "128688     جب کوئی کتاب بہت مہنگی ملتی ہے تو اپنی باری کے   \n",
       "128689     ہر وقت کوئی اسے کسی نہ کسی کام کو کہہ دیتا اور   \n",
       "128690  اس سے میرا مہ خورشید جمال اچھا ہےعلی بخش کسی ق...   \n",
       "128691   میں نے تو دکھانے کی بات کی تھیجب پانی سر سے گ...   \n",
       "128692     پاکستانی بھائی یہ پھر فراخ دلی تو نہ ہوئی ناں    \n",
       "128693   سر کٹا انسانہم کیوں ایسے لوگ چنتے ہیں جو مکمل...   \n",
       "128694  لیکن اس میں کراس دینے کی کیا بات ہےبہت خوب ظفر...   \n",
       "128695     گستاخان نبی کو عہد رسالت سے ہی موت کے گھاٹ اتا   \n",
       "128696     مصباح الحق کا ٹاس جیت کر اپنی مضبوط بولنگ کے ب   \n",
       "128697     بہت سادہ بہت معصومانہ انداز سے بڑی گنجلک گھتیا   \n",
       "128698        زنہوا نیوز کے مطابق وانگ نے کہا ہے کہاستغاث   \n",
       "128699     پھر جب کسی چیز کو کانٹے میں پرو کرمنہ میں لے ج   \n",
       "128700                تفہیم الاحکامجلد سیاح الدین کاکاخیل   \n",
       "128701  بڑوں کا بہت احترام کرتے ہیں ایم کیو ایم قوم پر...   \n",
       "128702   بلا شبہ بہت خوب صورتکسی کو مس ہی نہیں کرتے کت...   \n",
       "128703     میرا خیال ہے کہ تمام بڑے براؤزرز خاص کر فائر ف   \n",
       "128704     اگر ایک دفعہ استعمال کر لوں تو پندرہ دن تک یہ    \n",
       "\n",
       "                                                   Pashto  \\\n",
       "0                                   START_ خطاافقافق _END   \n",
       "1             START_ د چین سویلي ساحلي سیمو کې طوفان _END   \n",
       "2       START_ هغه خپل رهبریت ته وویل چې د منافقت سیاس...   \n",
       "4       START_ دوی د دوی کرکټر غیر مسلمانانو ته ورته د...   \n",
       "5            START_ د ژوند ستونزو ایچی هم پرمختګ کوي _END   \n",
       "6       START_ د فېسبوک توطیه خپره شوې ده چې پیښور د خ...   \n",
       "7       START_ د اسلام پاتې برخه چې پلي شوې ده افراطیت...   \n",
       "8       START_ د NII زړونو ترشا هر انین شرمي بد نه پری...   \n",
       "9                START_ د پاکستان خلک له پاکستان څخه _END   \n",
       "10      START_ باد هڅه شوې چې د ګوند باور له منځه وړلو...   \n",
       "11      START_ راځئ چې د قاموس ملاتړ وکړو چې د کاپي کو...   \n",
       "12      START_ ستاسو د سترګو د خلاصولو له لارې ستاسو د...   \n",
       "13      START_ خلیل احمد پیرشاهاهاهاهاه نن د رخصتۍ په ...   \n",
       "14            START_ زه پخپله یو څو فورمونه موډلر او _END   \n",
       "15      START_ ژوند تیر نه کوي زه په ایګون باور نلرم ک...   \n",
       "16      START_ چای به ژر تر ژره هم ښه وي ما فکر کاوه چ...   \n",
       "17       START_ یو چا د ملګرو لیست ته ریښتیا ویلي دي _END   \n",
       "18      START_ څنګه په انډیز کې د متن له رقام څخه د سا...   \n",
       "19      START_ که څه هم د رحم ګانشي دانې ولسوالۍ ولسوا...   \n",
       "20      START_ له زړه څخه ستاسو سترګو ته تاسو به تل زم...   \n",
       "21      START_ شدت هم په غم کې هم ژوندی دی که د حیرانت...   \n",
       "22      START_ زه هم یو ښه خوند اخلم رسنۍ تاسو تاسو رس...   \n",
       "23            START_ د اسلام زبونې د نړۍ په کچه سګرټ _END   \n",
       "24      START_ زموږ چلند د اسلام پل له لاسه ورکول دي _END   \n",
       "25        START_ خاکینا غواړي پوه شي چې د دې سړي بدن _END   \n",
       "26      START_ د ایلچین پویل دا یو لنډه مقاله لیکلې تر...   \n",
       "28      START_ د نورو سره مرسته کول د ورور وکیل په متح...   \n",
       "29      START_ دوه لاک شپاړس زره ټکي ستاسو په معرفي کو...   \n",
       "31      START_ که تاسو دا قمار ته ورکړئ نو تاسو به خوش...   \n",
       "32      START_ د ټولې ورځې مونکې څخه یو او قیمتي اوه ی...   \n",
       "...                                                   ...   \n",
       "128674  START_ بله ورځ عملیات ښه راغلاست دی نو موږ په ...   \n",
       "128675  START_ د بشپړ مرمۍ کیدو لپاره د یو څه حملونو ف...   \n",
       "128676            START_ ملکه لویدیځ هره برخه اغوستې _END   \n",
       "128677  START_ او هغه څوک چې د ځان په مخ کې راځي ځان ج...   \n",
       "128678  START_ ما دلته د هندي کریکټ ملي ټیم کپتین مهرډ...   \n",
       "128679  START_ په مړو سره هیڅ خوند نشته دا لا ډیر انتظ...   \n",
       "128681  START_ د لومړي وزیر شیککا د ساه د هغه ساه له ل...   \n",
       "128682                START_ هر انسان په بل انسان کې _END   \n",
       "128683              START_ په سلهاو مخونه که مخ راشي _END   \n",
       "128684      START_ د پیوستون پای ته رسولو لپاره اصلي _END   \n",
       "128685  START_ ځینې خلک د دوی د خبرو مراسم وړاندې کوي ...   \n",
       "128686  START_ دا په کیسه کې له دې کلینیک څخه جلا شوی ...   \n",
       "128687       START_ د هندو سره د مذهب څخه د مذهب څخه _END   \n",
       "128688     START_ ستاسو وار کله چې کتاب خورا ګران دی _END   \n",
       "128689  START_ هر ځل چې یو څوک هغه ته یو څه کار کوي او...   \n",
       "128690  START_ زما د میرا خسالت جمال ښه دی چې غوره ویش...   \n",
       "128691  START_ کله چې ما اوبه وښودې دا د سر لخوا تصویب...   \n",
       "128692       START_ پاکستان ورو brothers ه دوام نلري _END   \n",
       "128693  START_ ولې د سر غوټ شوي وسیلې هغه خلک غوره کوي...   \n",
       "128694  START_ مګر دا د دې ورکولو څه دی په ښه ظفر صاحب...   \n",
       "128695    START_ رسول الله صلی الله علیه وسلم فرمایی _END   \n",
       "128696          START_ مصطف الله خپل قوي توپ اچولی B _END   \n",
       "128697           START_ په ډیر بې ګناه ډول خورا ساده _END   \n",
       "128698     START_ وانګ وویل چې د زیناوا نیوز په وینا _END   \n",
       "128699  START_ بیا کله چې زه په ملکه کې د جوان په هډوک...   \n",
       "128700  START_ د الحاممجادادي اتلسئین کاکال باندې پوهی...   \n",
       "128701  START_ زاړه د ملي سیاست په ملي سیاست کې د ملي ...   \n",
       "128702  START_ بدبختانه پدې اړه هیڅ شک شتون نلري چې څو...   \n",
       "128703  START_ زه فکر کوم ټول لوی براوزرونه په ځانګړي ...   \n",
       "128704  START_ که تاسو د پنځلس ورځو لپاره یو ځل وکاروئ...   \n",
       "\n",
       "        length_urdu_sentence  length_pashto_sentence  \n",
       "0                          6                       3  \n",
       "1                         10                       9  \n",
       "2                         11                      11  \n",
       "4                         10                      11  \n",
       "5                         11                       9  \n",
       "6                         27                      17  \n",
       "7                         11                      11  \n",
       "8                         24                      20  \n",
       "9                          6                       8  \n",
       "10                        19                      15  \n",
       "11                        19                      20  \n",
       "12                        10                      15  \n",
       "13                        14                      11  \n",
       "14                        11                       9  \n",
       "15                        14                      16  \n",
       "16                        18                      16  \n",
       "17                        11                      11  \n",
       "18                         9                      14  \n",
       "19                         9                      11  \n",
       "20                        17                      14  \n",
       "21                        17                      21  \n",
       "22                        25                      24  \n",
       "23                         7                      10  \n",
       "24                        12                      11  \n",
       "25                        11                      11  \n",
       "26                        25                      18  \n",
       "28                        20                      19  \n",
       "29                        18                      19  \n",
       "31                        11                      18  \n",
       "32                        14                      14  \n",
       "...                      ...                     ...  \n",
       "128674                    15                      15  \n",
       "128675                     9                      14  \n",
       "128676                     8                       7  \n",
       "128677                    11                      14  \n",
       "128678                    19                      17  \n",
       "128679                    24                      24  \n",
       "128681                    14                      14  \n",
       "128682                    10                       8  \n",
       "128683                    11                       8  \n",
       "128684                     7                       9  \n",
       "128685                    10                      11  \n",
       "128686                    15                      13  \n",
       "128687                     8                      11  \n",
       "128688                    11                      10  \n",
       "128689                    12                      14  \n",
       "128690                    15                      16  \n",
       "128691                    20                      16  \n",
       "128692                    11                       8  \n",
       "128693                    14                      18  \n",
       "128694                    22                      20  \n",
       "128695                    11                       9  \n",
       "128696                    11                       9  \n",
       "128697                     9                       9  \n",
       "128698                     9                      10  \n",
       "128699                    12                      17  \n",
       "128700                     6                       8  \n",
       "128701                    17                      16  \n",
       "128702                    18                      13  \n",
       "128703                    11                      15  \n",
       "128704                    12                      11  \n",
       "\n",
       "[116987 rows x 4 columns]"
      ]
     },
     "execution_count": 18,
     "metadata": {},
     "output_type": "execute_result"
    }
   ],
   "source": [
    "lines"
   ]
  },
  {
   "cell_type": "code",
   "execution_count": 19,
   "metadata": {
    "colab": {
     "base_uri": "https://localhost:8080/"
    },
    "id": "UQmki14WEG8z",
    "outputId": "6391aba5-747d-4fa3-b2b3-73eae3ec12ab"
   },
   "outputs": [
    {
     "name": "stdout",
     "output_type": "stream",
     "text": [
      "maximum length of Pashto Sentence  30\n",
      "maximum length of Urdu Sentence  30\n"
     ]
    }
   ],
   "source": [
    "print(\"maximum length of Pashto Sentence \",max(lines['length_pashto_sentence']))\n",
    "print(\"maximum length of Urdu Sentence \",max(lines['length_urdu_sentence']))"
   ]
  },
  {
   "cell_type": "code",
   "execution_count": 20,
   "metadata": {
    "id": "yzVkByAcEG8z"
   },
   "outputs": [],
   "source": [
    "max_length_src=max(lines['length_pashto_sentence'])\n",
    "max_length_tar=max(lines['length_urdu_sentence'])"
   ]
  },
  {
   "cell_type": "code",
   "execution_count": 21,
   "metadata": {
    "colab": {
     "base_uri": "https://localhost:8080/"
    },
    "id": "zuIU6wG9EG8z",
    "outputId": "7b749f4b-58b0-4b0c-cd52-3c7fe18b4f40"
   },
   "outputs": [
    {
     "data": {
      "text/plain": [
       "(141295, 64882)"
      ]
     },
     "execution_count": 21,
     "metadata": {},
     "output_type": "execute_result"
    }
   ],
   "source": [
    "input_words = sorted(list(all_urdu_words))\n",
    "target_words = sorted(list(all_pashto_words))\n",
    "num_encoder_tokens = len(all_urdu_words)\n",
    "num_decoder_tokens = len(all_pashto_words)\n",
    "num_encoder_tokens, num_decoder_tokens"
   ]
  },
  {
   "cell_type": "code",
   "execution_count": 22,
   "metadata": {
    "id": "2naD2bcjEG80"
   },
   "outputs": [],
   "source": [
    "num_decoder_tokens += 1 #for zero padding\n"
   ]
  },
  {
   "cell_type": "code",
   "execution_count": 23,
   "metadata": {
    "id": "ot5TZ0YMEG80"
   },
   "outputs": [],
   "source": [
    "input_token_index = dict([(word, i+1) for i, word in enumerate(input_words)])\n",
    "target_token_index = dict([(word, i+1) for i, word in enumerate(target_words)])"
   ]
  },
  {
   "cell_type": "code",
   "execution_count": 24,
   "metadata": {
    "id": "IbVxZ_bOEG80"
   },
   "outputs": [],
   "source": [
    "reverse_input_char_index = dict((i, word) for word, i in input_token_index.items())\n",
    "reverse_target_char_index = dict((i, word) for word, i in target_token_index.items())"
   ]
  },
  {
   "cell_type": "code",
   "execution_count": 25,
   "metadata": {
    "colab": {
     "base_uri": "https://localhost:8080/",
     "height": 357
    },
    "id": "BS0q8n_KEG81",
    "outputId": "443fee73-0d03-41ae-febd-6448a31ea83e"
   },
   "outputs": [
    {
     "data": {
      "text/plain": [
       "116987"
      ]
     },
     "execution_count": 25,
     "metadata": {},
     "output_type": "execute_result"
    }
   ],
   "source": [
    "lines = shuffle(lines)\n",
    "len(lines)"
   ]
  },
  {
   "cell_type": "markdown",
   "metadata": {
    "id": "N7EikcqjEG82"
   },
   "source": [
    "### Split the data into train and test"
   ]
  },
  {
   "cell_type": "code",
   "execution_count": 8,
   "metadata": {
    "colab": {
     "base_uri": "https://localhost:8080/"
    },
    "id": "gCS4BmbdEG82",
    "outputId": "5649051c-3fb0-453f-f52c-2e8f7ac3a320"
   },
   "outputs": [
    {
     "data": {
      "text/plain": [
       "((115835,), (12871,))"
      ]
     },
     "execution_count": 8,
     "metadata": {},
     "output_type": "execute_result"
    }
   ],
   "source": [
    "X, y = lines['Urdu'], lines['Pashto']\n",
    "X_train, X_test, y_train, y_test = train_test_split(X, y, test_size = 0.1,random_state=42)\n",
    "X_train.shape, X_test.shape"
   ]
  },
  {
   "cell_type": "markdown",
   "metadata": {
    "id": "1QUsuj2WEG82"
   },
   "source": [
    "### Let us save this data"
   ]
  },
  {
   "cell_type": "code",
   "execution_count": 27,
   "metadata": {
    "id": "tJPHDXlZEG83"
   },
   "outputs": [],
   "source": [
    "X_train.to_pickle('X_train.pkl')\n",
    "X_test.to_pickle('X_test.pkl')\n"
   ]
  },
  {
   "cell_type": "code",
   "execution_count": 11,
   "metadata": {},
   "outputs": [],
   "source": [
    "header=['Urdu', 'Pashto']\n",
    "dfp = pd.DataFrame(columns = header)"
   ]
  },
  {
   "cell_type": "code",
   "execution_count": 12,
   "metadata": {},
   "outputs": [],
   "source": [
    "dfp['Urdu']=X_train\n",
    "dfp['Pashto']=y_train"
   ]
  },
  {
   "cell_type": "code",
   "execution_count": 13,
   "metadata": {},
   "outputs": [
    {
     "data": {
      "text/html": [
       "<div>\n",
       "<style scoped>\n",
       "    .dataframe tbody tr th:only-of-type {\n",
       "        vertical-align: middle;\n",
       "    }\n",
       "\n",
       "    .dataframe tbody tr th {\n",
       "        vertical-align: top;\n",
       "    }\n",
       "\n",
       "    .dataframe thead th {\n",
       "        text-align: right;\n",
       "    }\n",
       "</style>\n",
       "<table border=\"1\" class=\"dataframe\">\n",
       "  <thead>\n",
       "    <tr style=\"text-align: right;\">\n",
       "      <th></th>\n",
       "      <th>Urdu</th>\n",
       "      <th>Pashto</th>\n",
       "    </tr>\n",
       "  </thead>\n",
       "  <tbody>\n",
       "    <tr>\n",
       "      <th>43312</th>\n",
       "      <td>وہاں تو ٹیمیں سخت مقابل تھیں سلام کے بعد مجاہ...</td>\n",
       "      <td>د مجاهد تاثر د هغه د شخصیت تاثیر وروسته له هغه...</td>\n",
       "    </tr>\n",
       "    <tr>\n",
       "      <th>116500</th>\n",
       "      <td>ہو جانا دیار حسن میں جس کو قبول عام ملے نصاب ع...</td>\n",
       "      <td>په ناڅاپي ډول د داسې یو کتاب ترلاسه کول څوک چې...</td>\n",
       "    </tr>\n",
       "    <tr>\n",
       "      <th>25173</th>\n",
       "      <td>لیکن شمشاد کے آنے کی امید کی جا سکتی ہےمیں بکھ...</td>\n",
       "      <td>مګر شمشاد تمه کیدلی شي چې د ګلونو ګلونه ولري ز...</td>\n",
       "    </tr>\n",
       "    <tr>\n",
       "      <th>24891</th>\n",
       "      <td>گزشتہ برس جنوبی افریقہ کے خلاف دبئی میں ہونے و</td>\n",
       "      <td>پروسږکال د سویلي افریقا پروړاندې په دوبۍ کې کی...</td>\n",
       "    </tr>\n",
       "    <tr>\n",
       "      <th>60457</th>\n",
       "      <td>خلیفہ سوم حضرت عثمان رضی اللہ عنہ کی شہادت جمع</td>\n",
       "      <td>د خلیفه ازموينه د حضرت عزته شاهده راټولوي</td>\n",
       "    </tr>\n",
       "    <tr>\n",
       "      <th>53429</th>\n",
       "      <td>جزاک اللہپیاسابھائیپی ٹی ٹی رپورٹ کے جانبداران...</td>\n",
       "      <td>د الکول د ټی ټي راپور جذب کیدو ناسم تاثیر</td>\n",
       "    </tr>\n",
       "    <tr>\n",
       "      <th>68439</th>\n",
       "      <td>واضح رہے کہ بغداد میں وزرات خزانہ اور خارجہ کی...</td>\n",
       "      <td>دا روښانه ده چې د مالیې او بهرنیو ودانیو څخه ب...</td>\n",
       "    </tr>\n",
       "    <tr>\n",
       "      <th>89670</th>\n",
       "      <td>لیکن وہی مسئلہ جو کہ کل فاتح صاحب کے ساتھ فون</td>\n",
       "      <td>مګر ورته ستونزه چې د ټول ګټونکي سره غږ کوي</td>\n",
       "    </tr>\n",
       "    <tr>\n",
       "      <th>24069</th>\n",
       "      <td>ہم سب کو کھانے کو دیتے ہیں سپرہائی وے پرقبرست...</td>\n",
       "      <td>موږ ټول د ننوتلو ته ننوتلو ته د عالي لایف ته خ...</td>\n",
       "    </tr>\n",
       "    <tr>\n",
       "      <th>94503</th>\n",
       "      <td>رکھیں گے جس کا مشاہدہ احتجاج والے گذشتہ دنوں</td>\n",
       "      <td>د احتجاجونو تیرو ورځو به وساتي</td>\n",
       "    </tr>\n",
       "    <tr>\n",
       "      <th>48040</th>\n",
       "      <td>چند کلو میٹر دور بیٹھے ہوئے سی ڈی اے کے اہلکار</td>\n",
       "      <td>د CDA پرسونل څو کیلومتره لرې ناست دي</td>\n",
       "    </tr>\n",
       "    <tr>\n",
       "      <th>9986</th>\n",
       "      <td>یہ مستقبل میں مزید سروسز کے اجرا کے لئے راہ ہم</td>\n",
       "      <td>پدې لاره کې موږ په راتلونکي کې د نورو خدماتو پ...</td>\n",
       "    </tr>\n",
       "    <tr>\n",
       "      <th>8935</th>\n",
       "      <td>کیا اللہ نہ کرے ان کی جیبوں اور بیگ میں ہر وقت...</td>\n",
       "      <td>ایا الله په هر وخت کې د دوی جیبونه او کوچني او...</td>\n",
       "    </tr>\n",
       "    <tr>\n",
       "      <th>88031</th>\n",
       "      <td>اسی وقت ہوائی جہاز کی روانگی کا اعلان ہو گیا ا</td>\n",
       "      <td>په ورته وخت کې الوتکه اعلان شوه</td>\n",
       "    </tr>\n",
       "    <tr>\n",
       "      <th>102364</th>\n",
       "      <td>سعودیہ میں ہمیشہ ہی سے کفیل سے باہر کام کرنا غ</td>\n",
       "      <td>په سعودي عربستان کې د کالیل څخه کار کول</td>\n",
       "    </tr>\n",
       "    <tr>\n",
       "      <th>28951</th>\n",
       "      <td>تفصیلی کمنٹ کا ارادہ ہےیہاں پر بھی اور اپنے</td>\n",
       "      <td>د تفصيلي ساتلو اراده هم دلته ده او ستاسو</td>\n",
       "    </tr>\n",
       "    <tr>\n",
       "      <th>20433</th>\n",
       "      <td>ابھی رات ہوچکی ہےگاؤں دیہات میں تو آدھی رات</td>\n",
       "      <td>همدا اوس همدا اوس په کوه کې دي</td>\n",
       "    </tr>\n",
       "    <tr>\n",
       "      <th>966</th>\n",
       "      <td>حضرت عمر رضی اللہ تعالی عنہ افسروں کو مجبور ن</td>\n",
       "      <td>حضرت عمر</td>\n",
       "    </tr>\n",
       "    <tr>\n",
       "      <th>90957</th>\n",
       "      <td>ود نو کمینٹس غالبا انکا نام نعیم امجد ہے جائے...</td>\n",
       "      <td>د وا viata نهه ټولنې شاید نعيیم امجاد نوم وي</td>\n",
       "    </tr>\n",
       "    <tr>\n",
       "      <th>95923</th>\n",
       "      <td>نہیں معلوم وہ کیا ہو گئیہاں جی روحیں روحوں کو...</td>\n",
       "      <td>نه پوهیږم څه پیښیږي</td>\n",
       "    </tr>\n",
       "    <tr>\n",
       "      <th>5399</th>\n",
       "      <td>سوال پوچھنا منع ہے جواب دینا تومنع تو نہیں ہے</td>\n",
       "      <td>دا د پوښتنو لپاره جواز نلري</td>\n",
       "    </tr>\n",
       "    <tr>\n",
       "      <th>86404</th>\n",
       "      <td>آپ کیسی ہوںمیک لارن اپنی سی کوشش کرتے رہے جس ک...</td>\n",
       "      <td>تاسو څنګه هڅه کوئ چې خپل هڅه وکړئ</td>\n",
       "    </tr>\n",
       "    <tr>\n",
       "      <th>1170</th>\n",
       "      <td>جی بیٹا آپ ابھی یہیں رہئےوڈا علیم بنا پھردا ای...</td>\n",
       "      <td>هو تاسو لاهم دلته ژوند وکړئ سره له دې چې په چټ...</td>\n",
       "    </tr>\n",
       "    <tr>\n",
       "      <th>17318</th>\n",
       "      <td>ہم سے شیئر کرنے پر دلی تشکر اور بہت سی داد قب</td>\n",
       "      <td>ډیلي زموږ د شریکولو لپاره مننه او ډیری باداوي ...</td>\n",
       "    </tr>\n",
       "    <tr>\n",
       "      <th>68370</th>\n",
       "      <td>ایرانی صدر محمود احمدی نژاد نے مجوزہ وزرا کی ف...</td>\n",
       "      <td>د ایران ولسمشر محمود احمدي نژاد د وړاندیز شویو...</td>\n",
       "    </tr>\n",
       "    <tr>\n",
       "      <th>8543</th>\n",
       "      <td>سری نیواسن کے داماد اور چنی سپر کنگز کے گرونات</td>\n",
       "      <td>د سری نیغان زوی په ان قانون او چینایی سوپر پاچ...</td>\n",
       "    </tr>\n",
       "    <tr>\n",
       "      <th>49462</th>\n",
       "      <td>اپنی رحمت کے میری حفاظت کر میری زبان کو اپنے ذ</td>\n",
       "      <td>زما په ژبه زما د رحم لپاره ځان وژغورئ</td>\n",
       "    </tr>\n",
       "    <tr>\n",
       "      <th>11893</th>\n",
       "      <td>انھیں سپوکس مین کا عہدہ کس نے دیاہے یہ بات انہ...</td>\n",
       "      <td>هغه هغه ته د ایران د ویاند نوم لیکنه ورکړه عرب...</td>\n",
       "    </tr>\n",
       "    <tr>\n",
       "      <th>81036</th>\n",
       "      <td>چناچنہ حضرت محمدنے فرمایابھوکے پیٹ رہنے</td>\n",
       "      <td>د معدې معدې محمد محمد پاتې کیدل</td>\n",
       "    </tr>\n",
       "    <tr>\n",
       "      <th>9983</th>\n",
       "      <td>اس پھول کو پسند کرنے والے بے حد فیاض ہوتے ہیںن...</td>\n",
       "      <td>هغه دا ګل خوښوي کوم چې د خوب غوښتنه یې وکړه هغ...</td>\n",
       "    </tr>\n",
       "    <tr>\n",
       "      <th>...</th>\n",
       "      <td>...</td>\n",
       "      <td>...</td>\n",
       "    </tr>\n",
       "    <tr>\n",
       "      <th>103357</th>\n",
       "      <td>ا لحمد للہ پھول ہنس ہنس کے گلستاں میں فنا ہوجا...</td>\n",
       "      <td>ګل په خندا کې خاندي خان خاندي</td>\n",
       "    </tr>\n",
       "    <tr>\n",
       "      <th>5311</th>\n",
       "      <td>دوسری جانب وزیراعظم یوسف رضا گیلانی نے کہا ہے</td>\n",
       "      <td>له بلې خوا لومړي وزیر یوسف رضا ګیلاني ویلي دي</td>\n",
       "    </tr>\n",
       "    <tr>\n",
       "      <th>67969</th>\n",
       "      <td>ایک ایک کو میرے پاس بھیجو ایک ایک آدمی اٹھ کر ...</td>\n",
       "      <td>یو سړی ماته راولیږئ یو سړی پورته شو او د پلټون...</td>\n",
       "    </tr>\n",
       "    <tr>\n",
       "      <th>121639</th>\n",
       "      <td>ٹائیٹلچلتے چلتے کبھی الوداع نہ کہناکہیں نریند...</td>\n",
       "      <td>هیڅکله یې د خدای په امان مه وایاست نریندرا مود...</td>\n",
       "    </tr>\n",
       "    <tr>\n",
       "      <th>64925</th>\n",
       "      <td>یہ اچھے نمونے پیش کئے آپ نے حضرت اتنے دلبرداشت...</td>\n",
       "      <td>دا ښه نمونې وړاندې شوې ولې تاسو هرچیرې ډیر زړه...</td>\n",
       "    </tr>\n",
       "    <tr>\n",
       "      <th>62955</th>\n",
       "      <td>السوالصوفیاء کے نزدیک علم الیقین اس یقین س</td>\n",
       "      <td>د ال سالکیویا منل شوی پوهه</td>\n",
       "    </tr>\n",
       "    <tr>\n",
       "      <th>59735</th>\n",
       "      <td>حج و عمرہ میں صفا اور مروہ کی سعی کرنااب یہ م...</td>\n",
       "      <td>د صفا او مامور ظرم په حج او عمرا کې اندیښنه لر...</td>\n",
       "    </tr>\n",
       "    <tr>\n",
       "      <th>769</th>\n",
       "      <td>مجھے اس لئے بھی پڑھ کے مزہ آیا کہ اس سے ملتی ج</td>\n",
       "      <td>ما هم لوستل چې دا میچ کوي</td>\n",
       "    </tr>\n",
       "    <tr>\n",
       "      <th>64820</th>\n",
       "      <td>الصمداللہ اس بحث کو مزید تعمیری بحث بنائے اور ...</td>\n",
       "      <td>الصلیالا دا بحث نور هم رغنده بحث کوي</td>\n",
       "    </tr>\n",
       "    <tr>\n",
       "      <th>67221</th>\n",
       "      <td>اسٹاک مارکیٹ سپورٹ کے لئےارب روپے کے فنڈکا</td>\n",
       "      <td>د سټاک بازار ملاتړ تمویل</td>\n",
       "    </tr>\n",
       "    <tr>\n",
       "      <th>41090</th>\n",
       "      <td>مقام نبوت سے سب سے زیادہ نزدیک اہل علم اور مجا</td>\n",
       "      <td>ځای نبوت نامتو علم او عظمت</td>\n",
       "    </tr>\n",
       "    <tr>\n",
       "      <th>16023</th>\n",
       "      <td>اب سے دفتر میں کسی بھی قسم کا ڈاکٹری سرٹیفکیٹ</td>\n",
       "      <td>اوس مهال په دفتر کې د غاښونو هر ډول سند</td>\n",
       "    </tr>\n",
       "    <tr>\n",
       "      <th>60263</th>\n",
       "      <td>یہ حدیث متفق علیہ ہے اور الفاظ مسلم کے ہیں</td>\n",
       "      <td>دا حدیث موافقه شوې او ټکي د مسلمانان دي</td>\n",
       "    </tr>\n",
       "    <tr>\n",
       "      <th>44131</th>\n",
       "      <td>ان کا کہنا تھا کہ انہیں رات کو کمرے میں اور دن</td>\n",
       "      <td>هغه وویل چې دوی د شپې او ورځې په خونه کې</td>\n",
       "    </tr>\n",
       "    <tr>\n",
       "      <th>126326</th>\n",
       "      <td>ہم کبھی لیتے نہیں ہے در بدر کی روشنی ہر شخص ک...</td>\n",
       "      <td>موږ هیڅکله د هر شخص ر light ا ته پاملرنه نه کو...</td>\n",
       "    </tr>\n",
       "    <tr>\n",
       "      <th>112729</th>\n",
       "      <td>ننھی پری نے آج ڈنر میں کیا لیاآپ کیا سوچ سوچ ...</td>\n",
       "      <td>نن ورځ تاسو فکر کاوه تاسو د فکر کولو فکر کوئ ه...</td>\n",
       "    </tr>\n",
       "    <tr>\n",
       "      <th>87500</th>\n",
       "      <td>پھرمیں سے</td>\n",
       "      <td>له حد څخه</td>\n",
       "    </tr>\n",
       "    <tr>\n",
       "      <th>37194</th>\n",
       "      <td>موم بتیاں تو شودے کیا جلاتےالبتہ داڑھی جلا</td>\n",
       "      <td>شمعې سوځیدلي ږيره وهلې وې</td>\n",
       "    </tr>\n",
       "    <tr>\n",
       "      <th>128216</th>\n",
       "      <td>لیکن مسئلہ یہ ہے کہ یہ مطلوبہ نتائج نہیں دیتا ...</td>\n",
       "      <td>مګر ستونزه دا ده چې دا مطلوب پایلې نه ورکوي چې...</td>\n",
       "    </tr>\n",
       "    <tr>\n",
       "      <th>82387</th>\n",
       "      <td>پہلے دو رکن اچھے نہیں لگتےتھے اب سبھی اچھے لگت</td>\n",
       "      <td>لومړی دوه غړی اوس ښه نه ښکاري</td>\n",
       "    </tr>\n",
       "    <tr>\n",
       "      <th>6265</th>\n",
       "      <td>پوچھو تو کہتا ہےصاحب فخرو کمرے سے نکلا اگر منظ...</td>\n",
       "      <td>پوښتنه وکړئ بیا یې وویل که تاسو کوټې ته نږدې ش...</td>\n",
       "    </tr>\n",
       "    <tr>\n",
       "      <th>54886</th>\n",
       "      <td>میں تم کو اس کی دو مثالیں دوں گی یا صرف آخری م...</td>\n",
       "      <td>زه به تاسو ته د دې دوه مثالونه درکړم یا په ورو...</td>\n",
       "    </tr>\n",
       "    <tr>\n",
       "      <th>76821</th>\n",
       "      <td>لڑکے کے ایک اور رشتہ دار نے بی بی سی کو بتایا</td>\n",
       "      <td>د هلک بل خپلوان بی بی سی ته وویل</td>\n",
       "    </tr>\n",
       "    <tr>\n",
       "      <th>110270</th>\n",
       "      <td>مجھے بہت خوشی ہوگی کہ آپ پاکستانیوں کے زوال کے</td>\n",
       "      <td>زه به ډیر خوښ شم چې تاسو د پاکستانیانو له رانس...</td>\n",
       "    </tr>\n",
       "    <tr>\n",
       "      <th>119881</th>\n",
       "      <td>میں نے پوچھا کوئی ایسا کام بھی ہے جو تمہیں کرن</td>\n",
       "      <td>ما له کار څخه وپوښتل چې تاسو</td>\n",
       "    </tr>\n",
       "    <tr>\n",
       "      <th>128108</th>\n",
       "      <td>اکا دکا شیر بھی پائے جاتے ہیںمیں سنگ صفت ایک ہ...</td>\n",
       "      <td>دلته په ورته ډول موندل شوي سرونه هم شتون لري پ...</td>\n",
       "    </tr>\n",
       "    <tr>\n",
       "      <th>103696</th>\n",
       "      <td>جس میںشہر میں بدھ کی صبح بسیںمنی بسیںرکشہاو</td>\n",
       "      <td>چهارشنبه د چهارشنبه په سهار</td>\n",
       "    </tr>\n",
       "    <tr>\n",
       "      <th>860</th>\n",
       "      <td>پھر اس کی ہیں کئی ساری بحریںبرائے مہربانی میر...</td>\n",
       "      <td>بیا دا د خپل نوم لیست سربیره زما د خپل نوم په ...</td>\n",
       "    </tr>\n",
       "    <tr>\n",
       "      <th>15795</th>\n",
       "      <td>پھر سے مجھے بھول جاو گی کہیںلہو کے تریڑوں میںب...</td>\n",
       "      <td>بیا به زه ما وبخښه بیا د سوداګرو طارقه نوموم ب...</td>\n",
       "    </tr>\n",
       "    <tr>\n",
       "      <th>121960</th>\n",
       "      <td>کہ ہے قافلہ میں تیاریہمارے جد امجد اس کے داداس...</td>\n",
       "      <td>دا هغه دی چې زه په کاروان کې چمتو یم</td>\n",
       "    </tr>\n",
       "  </tbody>\n",
       "</table>\n",
       "<p>115835 rows × 2 columns</p>\n",
       "</div>"
      ],
      "text/plain": [
       "                                                     Urdu  \\\n",
       "43312    وہاں تو ٹیمیں سخت مقابل تھیں سلام کے بعد مجاہ...   \n",
       "116500  ہو جانا دیار حسن میں جس کو قبول عام ملے نصاب ع...   \n",
       "25173   لیکن شمشاد کے آنے کی امید کی جا سکتی ہےمیں بکھ...   \n",
       "24891      گزشتہ برس جنوبی افریقہ کے خلاف دبئی میں ہونے و   \n",
       "60457      خلیفہ سوم حضرت عثمان رضی اللہ عنہ کی شہادت جمع   \n",
       "53429   جزاک اللہپیاسابھائیپی ٹی ٹی رپورٹ کے جانبداران...   \n",
       "68439   واضح رہے کہ بغداد میں وزرات خزانہ اور خارجہ کی...   \n",
       "89670      لیکن وہی مسئلہ جو کہ کل فاتح صاحب کے ساتھ فون    \n",
       "24069    ہم سب کو کھانے کو دیتے ہیں سپرہائی وے پرقبرست...   \n",
       "94503       رکھیں گے جس کا مشاہدہ احتجاج والے گذشتہ دنوں    \n",
       "48040      چند کلو میٹر دور بیٹھے ہوئے سی ڈی اے کے اہلکار   \n",
       "9986       یہ مستقبل میں مزید سروسز کے اجرا کے لئے راہ ہم   \n",
       "8935    کیا اللہ نہ کرے ان کی جیبوں اور بیگ میں ہر وقت...   \n",
       "88031      اسی وقت ہوائی جہاز کی روانگی کا اعلان ہو گیا ا   \n",
       "102364     سعودیہ میں ہمیشہ ہی سے کفیل سے باہر کام کرنا غ   \n",
       "28951         تفصیلی کمنٹ کا ارادہ ہےیہاں پر بھی اور اپنے   \n",
       "20433         ابھی رات ہوچکی ہےگاؤں دیہات میں تو آدھی رات   \n",
       "966         حضرت عمر رضی اللہ تعالی عنہ افسروں کو مجبور ن   \n",
       "90957    ود نو کمینٹس غالبا انکا نام نعیم امجد ہے جائے...   \n",
       "95923    نہیں معلوم وہ کیا ہو گئیہاں جی روحیں روحوں کو...   \n",
       "5399       سوال پوچھنا منع ہے جواب دینا تومنع تو نہیں ہے    \n",
       "86404   آپ کیسی ہوںمیک لارن اپنی سی کوشش کرتے رہے جس ک...   \n",
       "1170    جی بیٹا آپ ابھی یہیں رہئےوڈا علیم بنا پھردا ای...   \n",
       "17318       ہم سے شیئر کرنے پر دلی تشکر اور بہت سی داد قب   \n",
       "68370   ایرانی صدر محمود احمدی نژاد نے مجوزہ وزرا کی ف...   \n",
       "8543       سری نیواسن کے داماد اور چنی سپر کنگز کے گرونات   \n",
       "49462      اپنی رحمت کے میری حفاظت کر میری زبان کو اپنے ذ   \n",
       "11893   انھیں سپوکس مین کا عہدہ کس نے دیاہے یہ بات انہ...   \n",
       "81036            چناچنہ حضرت محمدنے فرمایابھوکے پیٹ رہنے    \n",
       "9983    اس پھول کو پسند کرنے والے بے حد فیاض ہوتے ہیںن...   \n",
       "...                                                   ...   \n",
       "103357  ا لحمد للہ پھول ہنس ہنس کے گلستاں میں فنا ہوجا...   \n",
       "5311        دوسری جانب وزیراعظم یوسف رضا گیلانی نے کہا ہے   \n",
       "67969   ایک ایک کو میرے پاس بھیجو ایک ایک آدمی اٹھ کر ...   \n",
       "121639   ٹائیٹلچلتے چلتے کبھی الوداع نہ کہناکہیں نریند...   \n",
       "64925   یہ اچھے نمونے پیش کئے آپ نے حضرت اتنے دلبرداشت...   \n",
       "62955          السوالصوفیاء کے نزدیک علم الیقین اس یقین س   \n",
       "59735    حج و عمرہ میں صفا اور مروہ کی سعی کرنااب یہ م...   \n",
       "769        مجھے اس لئے بھی پڑھ کے مزہ آیا کہ اس سے ملتی ج   \n",
       "64820   الصمداللہ اس بحث کو مزید تعمیری بحث بنائے اور ...   \n",
       "67221          اسٹاک مارکیٹ سپورٹ کے لئےارب روپے کے فنڈکا   \n",
       "41090      مقام نبوت سے سب سے زیادہ نزدیک اہل علم اور مجا   \n",
       "16023      اب سے دفتر میں کسی بھی قسم کا ڈاکٹری سرٹیفکیٹ    \n",
       "60263         یہ حدیث متفق علیہ ہے اور الفاظ مسلم کے ہیں    \n",
       "44131      ان کا کہنا تھا کہ انہیں رات کو کمرے میں اور دن   \n",
       "126326   ہم کبھی لیتے نہیں ہے در بدر کی روشنی ہر شخص ک...   \n",
       "112729   ننھی پری نے آج ڈنر میں کیا لیاآپ کیا سوچ سوچ ...   \n",
       "87500                                           پھرمیں سے   \n",
       "37194         موم بتیاں تو شودے کیا جلاتےالبتہ داڑھی جلا    \n",
       "128216  لیکن مسئلہ یہ ہے کہ یہ مطلوبہ نتائج نہیں دیتا ...   \n",
       "82387      پہلے دو رکن اچھے نہیں لگتےتھے اب سبھی اچھے لگت   \n",
       "6265    پوچھو تو کہتا ہےصاحب فخرو کمرے سے نکلا اگر منظ...   \n",
       "54886   میں تم کو اس کی دو مثالیں دوں گی یا صرف آخری م...   \n",
       "76821      لڑکے کے ایک اور رشتہ دار نے بی بی سی کو بتایا    \n",
       "110270     مجھے بہت خوشی ہوگی کہ آپ پاکستانیوں کے زوال کے   \n",
       "119881     میں نے پوچھا کوئی ایسا کام بھی ہے جو تمہیں کرن   \n",
       "128108  اکا دکا شیر بھی پائے جاتے ہیںمیں سنگ صفت ایک ہ...   \n",
       "103696        جس میںشہر میں بدھ کی صبح بسیںمنی بسیںرکشہاو   \n",
       "860      پھر اس کی ہیں کئی ساری بحریںبرائے مہربانی میر...   \n",
       "15795   پھر سے مجھے بھول جاو گی کہیںلہو کے تریڑوں میںب...   \n",
       "121960  کہ ہے قافلہ میں تیاریہمارے جد امجد اس کے داداس...   \n",
       "\n",
       "                                                   Pashto  \n",
       "43312   د مجاهد تاثر د هغه د شخصیت تاثیر وروسته له هغه...  \n",
       "116500  په ناڅاپي ډول د داسې یو کتاب ترلاسه کول څوک چې...  \n",
       "25173   مګر شمشاد تمه کیدلی شي چې د ګلونو ګلونه ولري ز...  \n",
       "24891   پروسږکال د سویلي افریقا پروړاندې په دوبۍ کې کی...  \n",
       "60457           د خلیفه ازموينه د حضرت عزته شاهده راټولوي  \n",
       "53429           د الکول د ټی ټي راپور جذب کیدو ناسم تاثیر  \n",
       "68439   دا روښانه ده چې د مالیې او بهرنیو ودانیو څخه ب...  \n",
       "89670          مګر ورته ستونزه چې د ټول ګټونکي سره غږ کوي  \n",
       "24069   موږ ټول د ننوتلو ته ننوتلو ته د عالي لایف ته خ...  \n",
       "94503                      د احتجاجونو تیرو ورځو به وساتي  \n",
       "48040                د CDA پرسونل څو کیلومتره لرې ناست دي  \n",
       "9986    پدې لاره کې موږ په راتلونکي کې د نورو خدماتو پ...  \n",
       "8935    ایا الله په هر وخت کې د دوی جیبونه او کوچني او...  \n",
       "88031                     په ورته وخت کې الوتکه اعلان شوه  \n",
       "102364            په سعودي عربستان کې د کالیل څخه کار کول  \n",
       "28951            د تفصيلي ساتلو اراده هم دلته ده او ستاسو  \n",
       "20433                      همدا اوس همدا اوس په کوه کې دي  \n",
       "966                                              حضرت عمر  \n",
       "90957        د وا viata نهه ټولنې شاید نعيیم امجاد نوم وي  \n",
       "95923                                 نه پوهیږم څه پیښیږي  \n",
       "5399                          دا د پوښتنو لپاره جواز نلري  \n",
       "86404                   تاسو څنګه هڅه کوئ چې خپل هڅه وکړئ  \n",
       "1170    هو تاسو لاهم دلته ژوند وکړئ سره له دې چې په چټ...  \n",
       "17318   ډیلي زموږ د شریکولو لپاره مننه او ډیری باداوي ...  \n",
       "68370   د ایران ولسمشر محمود احمدي نژاد د وړاندیز شویو...  \n",
       "8543    د سری نیغان زوی په ان قانون او چینایی سوپر پاچ...  \n",
       "49462               زما په ژبه زما د رحم لپاره ځان وژغورئ  \n",
       "11893   هغه هغه ته د ایران د ویاند نوم لیکنه ورکړه عرب...  \n",
       "81036                     د معدې معدې محمد محمد پاتې کیدل  \n",
       "9983    هغه دا ګل خوښوي کوم چې د خوب غوښتنه یې وکړه هغ...  \n",
       "...                                                   ...  \n",
       "103357                      ګل په خندا کې خاندي خان خاندي  \n",
       "5311        له بلې خوا لومړي وزیر یوسف رضا ګیلاني ویلي دي  \n",
       "67969   یو سړی ماته راولیږئ یو سړی پورته شو او د پلټون...  \n",
       "121639  هیڅکله یې د خدای په امان مه وایاست نریندرا مود...  \n",
       "64925   دا ښه نمونې وړاندې شوې ولې تاسو هرچیرې ډیر زړه...  \n",
       "62955                          د ال سالکیویا منل شوی پوهه  \n",
       "59735   د صفا او مامور ظرم په حج او عمرا کې اندیښنه لر...  \n",
       "769                             ما هم لوستل چې دا میچ کوي  \n",
       "64820                الصلیالا دا بحث نور هم رغنده بحث کوي  \n",
       "67221                            د سټاک بازار ملاتړ تمویل  \n",
       "41090                          ځای نبوت نامتو علم او عظمت  \n",
       "16023             اوس مهال په دفتر کې د غاښونو هر ډول سند  \n",
       "60263             دا حدیث موافقه شوې او ټکي د مسلمانان دي  \n",
       "44131            هغه وویل چې دوی د شپې او ورځې په خونه کې  \n",
       "126326  موږ هیڅکله د هر شخص ر light ا ته پاملرنه نه کو...  \n",
       "112729  نن ورځ تاسو فکر کاوه تاسو د فکر کولو فکر کوئ ه...  \n",
       "87500                                           له حد څخه  \n",
       "37194                           شمعې سوځیدلي ږيره وهلې وې  \n",
       "128216  مګر ستونزه دا ده چې دا مطلوب پایلې نه ورکوي چې...  \n",
       "82387                       لومړی دوه غړی اوس ښه نه ښکاري  \n",
       "6265    پوښتنه وکړئ بیا یې وویل که تاسو کوټې ته نږدې ش...  \n",
       "54886   زه به تاسو ته د دې دوه مثالونه درکړم یا په ورو...  \n",
       "76821                    د هلک بل خپلوان بی بی سی ته وویل  \n",
       "110270  زه به ډیر خوښ شم چې تاسو د پاکستانیانو له رانس...  \n",
       "119881                       ما له کار څخه وپوښتل چې تاسو  \n",
       "128108  دلته په ورته ډول موندل شوي سرونه هم شتون لري پ...  \n",
       "103696                        چهارشنبه د چهارشنبه په سهار  \n",
       "860     بیا دا د خپل نوم لیست سربیره زما د خپل نوم په ...  \n",
       "15795   بیا به زه ما وبخښه بیا د سوداګرو طارقه نوموم ب...  \n",
       "121960               دا هغه دی چې زه په کاروان کې چمتو یم  \n",
       "\n",
       "[115835 rows x 2 columns]"
      ]
     },
     "execution_count": 13,
     "metadata": {},
     "output_type": "execute_result"
    }
   ],
   "source": [
    "dfp"
   ]
  },
  {
   "cell_type": "code",
   "execution_count": 2,
   "metadata": {
    "id": "eBddPgvkEG83"
   },
   "outputs": [
    {
     "ename": "NameError",
     "evalue": "name 'X_train' is not defined",
     "output_type": "error",
     "traceback": [
      "\u001b[1;31m---------------------------------------------------------------------------\u001b[0m",
      "\u001b[1;31mNameError\u001b[0m                                 Traceback (most recent call last)",
      "\u001b[1;32m<ipython-input-2-e10eda4bce58>\u001b[0m in \u001b[0;36m<module>\u001b[1;34m()\u001b[0m\n\u001b[1;32m----> 1\u001b[1;33m \u001b[1;32mdef\u001b[0m \u001b[0mgenerate_batch\u001b[0m\u001b[1;33m(\u001b[0m\u001b[0mX\u001b[0m \u001b[1;33m=\u001b[0m \u001b[0mX_train\u001b[0m\u001b[1;33m,\u001b[0m \u001b[0my\u001b[0m \u001b[1;33m=\u001b[0m \u001b[0my_train\u001b[0m\u001b[1;33m,\u001b[0m \u001b[0mbatch_size\u001b[0m \u001b[1;33m=\u001b[0m \u001b[1;36m128\u001b[0m\u001b[1;33m)\u001b[0m\u001b[1;33m:\u001b[0m\u001b[1;33m\u001b[0m\u001b[0m\n\u001b[0m\u001b[0;32m      2\u001b[0m     \u001b[1;34m''' Generate a batch of data '''\u001b[0m\u001b[1;33m\u001b[0m\u001b[0m\n\u001b[0;32m      3\u001b[0m     \u001b[1;32mwhile\u001b[0m \u001b[1;32mTrue\u001b[0m\u001b[1;33m:\u001b[0m\u001b[1;33m\u001b[0m\u001b[0m\n\u001b[0;32m      4\u001b[0m         \u001b[1;32mfor\u001b[0m \u001b[0mj\u001b[0m \u001b[1;32min\u001b[0m \u001b[0mrange\u001b[0m\u001b[1;33m(\u001b[0m\u001b[1;36m0\u001b[0m\u001b[1;33m,\u001b[0m \u001b[0mlen\u001b[0m\u001b[1;33m(\u001b[0m\u001b[0mX\u001b[0m\u001b[1;33m)\u001b[0m\u001b[1;33m,\u001b[0m \u001b[0mbatch_size\u001b[0m\u001b[1;33m)\u001b[0m\u001b[1;33m:\u001b[0m\u001b[1;33m\u001b[0m\u001b[0m\n\u001b[0;32m      5\u001b[0m             \u001b[0mencoder_input_data\u001b[0m \u001b[1;33m=\u001b[0m \u001b[0mnp\u001b[0m\u001b[1;33m.\u001b[0m\u001b[0mzeros\u001b[0m\u001b[1;33m(\u001b[0m\u001b[1;33m(\u001b[0m\u001b[0mbatch_size\u001b[0m\u001b[1;33m,\u001b[0m \u001b[0mmax_length_src\u001b[0m\u001b[1;33m)\u001b[0m\u001b[1;33m,\u001b[0m\u001b[0mdtype\u001b[0m\u001b[1;33m=\u001b[0m\u001b[1;34m'float32'\u001b[0m\u001b[1;33m)\u001b[0m\u001b[1;33m\u001b[0m\u001b[0m\n",
      "\u001b[1;31mNameError\u001b[0m: name 'X_train' is not defined"
     ]
    }
   ],
   "source": [
    "def generate_batch(X = Urdu, batch_size = 128):\n",
    "    ''' Generate a batch of data '''\n",
    "    while True:\n",
    "        for j in range(0, len(X), batch_size):\n",
    "            encoder_input_data = np.zeros((batch_size, max_length_src),dtype='float32')\n",
    "            decoder_input_data = np.zeros((batch_size, max_length_tar),dtype='float32')\n",
    "            decoder_target_data = np.zeros((batch_size, max_length_tar, num_decoder_tokens),dtype='float32')\n",
    "            for i, (input_text) in enumerate(zip(X[j:j+batch_size])):\n",
    "                for t, word in enumerate(input_text.split()):\n",
    "                    encoder_input_data[i, t] = input_token_index[word] # encoder input seq\n",
    "            yield([encoder_input_data])"
   ]
  },
  {
   "cell_type": "markdown",
   "metadata": {
    "id": "QRV0JZTvEG83"
   },
   "source": [
    "### Encoder-Decoder Architecture"
   ]
  },
  {
   "cell_type": "code",
   "execution_count": 29,
   "metadata": {
    "id": "wDN30BiVEG84"
   },
   "outputs": [],
   "source": [
    "latent_dim=300"
   ]
  },
  {
   "cell_type": "code",
   "execution_count": 30,
   "metadata": {
    "id": "6Q0zu04pEG84"
   },
   "outputs": [],
   "source": [
    "# Encoder\n",
    "encoder_inputs = Input(shape=(None,))\n",
    "enc_emb =  Embedding(num_encoder_tokens+1, latent_dim, mask_zero = True)(encoder_inputs)\n",
    "encoder_lstm = LSTM(latent_dim, return_state=True)\n",
    "encoder_outputs, state_h, state_c = encoder_lstm(enc_emb)\n",
    "# We discard `encoder_outputs` and only keep the states.\n",
    "encoder_states = [state_h, state_c]"
   ]
  },
  {
   "cell_type": "code",
   "execution_count": null,
   "metadata": {
    "id": "S8oFGvEXyZ5n"
   },
   "outputs": [],
   "source": []
  },
  {
   "cell_type": "code",
   "execution_count": 31,
   "metadata": {
    "id": "9NHmKB4AEG84"
   },
   "outputs": [],
   "source": [
    "# Set up the decoder, using `encoder_states` as initial state.\n",
    "decoder_inputs = Input(shape=(None,))\n",
    "dec_emb_layer = Embedding(num_decoder_tokens, latent_dim, mask_zero = True)\n",
    "dec_emb = dec_emb_layer(decoder_inputs)\n",
    "# We set up our decoder to return full output sequences,\n",
    "# and to return internal states as well. We don't use the\n",
    "# return states in the training model, but we will use them in inference.\n",
    "decoder_lstm = LSTM(latent_dim, return_sequences=True, return_state=True)\n",
    "decoder_outputs, _, _ = decoder_lstm(dec_emb,\n",
    "                                     initial_state=encoder_states)\n",
    "decoder_dense = Dense(num_decoder_tokens, activation='softmax')\n",
    "decoder_outputs = decoder_dense(decoder_outputs)\n",
    "\n",
    "# Define the model that will turn\n",
    "# `encoder_input_data` & `decoder_input_data` into `decoder_target_data`\n",
    "model = Model([encoder_inputs, decoder_inputs], decoder_outputs)"
   ]
  },
  {
   "cell_type": "code",
   "execution_count": 32,
   "metadata": {
    "id": "eh3HWfFeEG85"
   },
   "outputs": [],
   "source": [
    "model.compile(optimizer='rmsprop', loss='categorical_crossentropy', metrics = ['accuracy'])"
   ]
  },
  {
   "cell_type": "code",
   "execution_count": 33,
   "metadata": {
    "colab": {
     "base_uri": "https://localhost:8080/"
    },
    "id": "Uron68K3EG85",
    "outputId": "6fd0fd43-2283-4fdf-efc6-2d4223af83de"
   },
   "outputs": [
    {
     "name": "stdout",
     "output_type": "stream",
     "text": [
      "Model: \"model\"\n",
      "__________________________________________________________________________________________________\n",
      "Layer (type)                    Output Shape         Param #     Connected to                     \n",
      "==================================================================================================\n",
      "input_1 (InputLayer)            [(None, None)]       0                                            \n",
      "__________________________________________________________________________________________________\n",
      "input_2 (InputLayer)            [(None, None)]       0                                            \n",
      "__________________________________________________________________________________________________\n",
      "embedding (Embedding)           (None, None, 300)    42388800    input_1[0][0]                    \n",
      "__________________________________________________________________________________________________\n",
      "embedding_1 (Embedding)         (None, None, 300)    19464900    input_2[0][0]                    \n",
      "__________________________________________________________________________________________________\n",
      "lstm (LSTM)                     [(None, 300), (None, 721200      embedding[0][0]                  \n",
      "__________________________________________________________________________________________________\n",
      "lstm_1 (LSTM)                   [(None, None, 300),  721200      embedding_1[0][0]                \n",
      "                                                                 lstm[0][1]                       \n",
      "                                                                 lstm[0][2]                       \n",
      "__________________________________________________________________________________________________\n",
      "dense (Dense)                   (None, None, 64883)  19529783    lstm_1[0][0]                     \n",
      "==================================================================================================\n",
      "Total params: 82,825,883\n",
      "Trainable params: 82,825,883\n",
      "Non-trainable params: 0\n",
      "__________________________________________________________________________________________________\n"
     ]
    }
   ],
   "source": [
    "model.summary()"
   ]
  },
  {
   "cell_type": "code",
   "execution_count": 34,
   "metadata": {
    "colab": {
     "base_uri": "https://localhost:8080/"
    },
    "id": "_ClqtNvxEG85",
    "outputId": "7951a60c-0575-40cc-9ae1-544ac4dbc1c9"
   },
   "outputs": [
    {
     "data": {
      "text/plain": [
       "93589"
      ]
     },
     "execution_count": 34,
     "metadata": {},
     "output_type": "execute_result"
    }
   ],
   "source": [
    "train_samples = len(X_train)\n",
    "val_samples = len(X_test)\n",
    "batch_size = 128\n",
    "epochs = 100\n",
    "len(X_train)"
   ]
  },
  {
   "cell_type": "code",
   "execution_count": 35,
   "metadata": {
    "colab": {
     "base_uri": "https://localhost:8080/"
    },
    "id": "o6-RiAzDEG85",
    "outputId": "a09f729c-b017-46c7-b67b-0bf9b3b28e0a"
   },
   "outputs": [
    {
     "name": "stderr",
     "output_type": "stream",
     "text": [
      "C:\\Users\\Rameel\\Anaconda3\\lib\\site-packages\\keras\\engine\\training.py:1972: UserWarning: `Model.fit_generator` is deprecated and will be removed in a future version. Please use `Model.fit`, which supports generators.\n",
      "  warnings.warn('`Model.fit_generator` is deprecated and '\n"
     ]
    },
    {
     "name": "stdout",
     "output_type": "stream",
     "text": [
      "Epoch 1/100\n",
      "731/731 [==============================] - 5910s 8s/step - loss: 2.4732 - val_loss: 2.2322\n",
      "Epoch 2/100\n",
      "731/731 [==============================] - 5989s 8s/step - loss: 2.1380 - val_loss: 2.0665\n",
      "Epoch 3/100\n",
      "731/731 [==============================] - 6333s 9s/step - loss: 1.9846 - val_loss: 1.9738\n",
      "Epoch 4/100\n",
      "731/731 [==============================] - 5808s 8s/step - loss: 1.8699 - val_loss: 1.9186\n",
      "Epoch 5/100\n",
      "731/731 [==============================] - 5626s 8s/step - loss: 1.7740 - val_loss: 1.8779\n",
      "Epoch 6/100\n",
      "731/731 [==============================] - 5640s 8s/step - loss: 1.6911 - val_loss: 1.8574\n",
      "Epoch 7/100\n",
      "731/731 [==============================] - 5646s 8s/step - loss: 1.6165 - val_loss: 1.8499\n",
      "Epoch 8/100\n",
      "731/731 [==============================] - 5638s 8s/step - loss: 1.5491 - val_loss: 1.8528\n",
      "Epoch 9/100\n",
      "731/731 [==============================] - 5651s 8s/step - loss: 1.4843 - val_loss: 1.8604\n",
      "Epoch 10/100\n",
      "731/731 [==============================] - 5726s 8s/step - loss: 1.4256 - val_loss: 1.8799\n",
      "Epoch 11/100\n",
      "731/731 [==============================] - 5889s 8s/step - loss: 1.3725 - val_loss: 1.8962\n",
      "Epoch 12/100\n",
      "731/731 [==============================] - 5897s 8s/step - loss: 1.3239 - val_loss: 1.9142\n",
      "Epoch 13/100\n",
      "731/731 [==============================] - 5946s 8s/step - loss: 1.2787 - val_loss: 1.9387\n",
      "Epoch 14/100\n",
      "731/731 [==============================] - 6880s 9s/step - loss: 1.2376 - val_loss: 1.9628\n",
      "Epoch 15/100\n",
      "731/731 [==============================] - 4505s 6s/step - loss: 1.1971 - val_loss: 1.9912\n",
      "Epoch 00015: early stopping\n"
     ]
    },
    {
     "data": {
      "text/plain": [
       "<keras.callbacks.History at 0x2608c96fd68>"
      ]
     },
     "execution_count": 35,
     "metadata": {},
     "output_type": "execute_result"
    }
   ],
   "source": [
    "es = EarlyStopping(monitor='val_loss', mode='min', verbose=1, patience=8)\n",
    "model.fit_generator(generator = generate_batch(X_train, y_train, batch_size = batch_size),\n",
    "                    steps_per_epoch = train_samples//batch_size,\n",
    "                    epochs=epochs,\n",
    "                    validation_data = generate_batch(X_test, y_test, batch_size = batch_size),\n",
    "                    validation_steps = val_samples//batch_size,\n",
    "                    callbacks=[es])\n",
    "\n"
   ]
  },
  {
   "cell_type": "code",
   "execution_count": 36,
   "metadata": {
    "id": "g0AaT0iDEG85"
   },
   "outputs": [],
   "source": [
    "model.save('best_model_P.h5')"
   ]
  },
  {
   "cell_type": "code",
   "execution_count": 37,
   "metadata": {
    "id": "zDQZgDIZEG86"
   },
   "outputs": [],
   "source": [
    "# Encode the input sequence to get the \"thought vectors\"\n",
    "encoder_model = Model(encoder_inputs, encoder_states)\n",
    "\n",
    "# Decoder setup\n",
    "# Below tensors will hold the states of the previous time step\n",
    "decoder_state_input_h = Input(shape=(latent_dim,))\n",
    "decoder_state_input_c = Input(shape=(latent_dim,))\n",
    "decoder_states_inputs = [decoder_state_input_h, decoder_state_input_c]\n",
    "\n",
    "dec_emb2= dec_emb_layer(decoder_inputs) # Get the embeddings of the decoder sequence\n",
    "\n",
    "# To predict the next word in the sequence, set the initial states to the states from the previous time step\n",
    "decoder_outputs2, state_h2, state_c2 = decoder_lstm(dec_emb2, initial_state=decoder_states_inputs)\n",
    "decoder_states2 = [state_h2, state_c2]\n",
    "decoder_outputs2 = decoder_dense(decoder_outputs2) # A dense softmax layer to generate prob dist. over the target vocabulary\n",
    "\n",
    "# Final decoder model\n",
    "decoder_model = Model(\n",
    "    [decoder_inputs] + decoder_states_inputs,\n",
    "    [decoder_outputs2] + decoder_states2)\n"
   ]
  },
  {
   "cell_type": "code",
   "execution_count": 38,
   "metadata": {
    "id": "A3NFqFPpEG86"
   },
   "outputs": [],
   "source": [
    "def decode_sequence(input_seq):\n",
    "    # Encode the input as state vectors.\n",
    "    states_value = encoder_model.predict(input_seq)\n",
    "    # Generate empty target sequence of length 1.\n",
    "    target_seq = np.zeros((1,1))\n",
    "    # Populate the first character of target sequence with the start character.\n",
    "    target_seq[0, 0] = target_token_index['START_']\n",
    "\n",
    "    # Sampling loop for a batch of sequences\n",
    "    # (to simplify, here we assume a batch of size 1).\n",
    "    stop_condition = False\n",
    "    decoded_sentence = ''\n",
    "    while not stop_condition:\n",
    "        output_tokens, h, c = decoder_model.predict([target_seq] + states_value)\n",
    "\n",
    "        # Sample a token\n",
    "        sampled_token_index = np.argmax(output_tokens[0, -1, :])\n",
    "        sampled_char = reverse_target_char_index[sampled_token_index]\n",
    "        decoded_sentence += ' '+sampled_char\n",
    "\n",
    "        # Exit condition: either hit max length\n",
    "        # or find stop character.\n",
    "        if (sampled_char == '_END' or\n",
    "           len(decoded_sentence) > 50):\n",
    "            stop_condition = True\n",
    "\n",
    "        # Update the target sequence (of length 1).\n",
    "        target_seq = np.zeros((1,1))\n",
    "        target_seq[0, 0] = sampled_token_index\n",
    "\n",
    "        # Update states\n",
    "        states_value = [h, c]\n",
    "\n",
    "    return decoded_sentence"
   ]
  },
  {
   "cell_type": "code",
   "execution_count": 39,
   "metadata": {
    "id": "6qezt-7AEG86"
   },
   "outputs": [],
   "source": [
    "train_gen = generate_batch(X_train, y_train, batch_size = 1)\n",
    "k=-1"
   ]
  },
  {
   "cell_type": "code",
   "execution_count": 42,
   "metadata": {},
   "outputs": [
    {
     "ename": "NameError",
     "evalue": "name 'train' is not defined",
     "output_type": "error",
     "traceback": [
      "\u001b[1;31m---------------------------------------------------------------------------\u001b[0m",
      "\u001b[1;31mNameError\u001b[0m                                 Traceback (most recent call last)",
      "\u001b[1;32m<ipython-input-42-46059e60c12d>\u001b[0m in \u001b[0;36m<module>\u001b[1;34m()\u001b[0m\n\u001b[1;32m----> 1\u001b[1;33m \u001b[0mX\u001b[0m\u001b[1;33m-\u001b[0m\u001b[0mtrain\u001b[0m\u001b[1;33m\u001b[0m\u001b[0m\n\u001b[0m",
      "\u001b[1;31mNameError\u001b[0m: name 'train' is not defined"
     ]
    }
   ],
   "source": [
    "X-train"
   ]
  },
  {
   "cell_type": "code",
   "execution_count": 40,
   "metadata": {
    "id": "Tp0WjXrCEG86"
   },
   "outputs": [
    {
     "name": "stdout",
     "output_type": "stream",
     "text": [
      "Input English sentence: تفسیر بھائی میں یہاں کس طرح پروف ریڈنگ کررہی ہ\n",
      "Actual Hindi Translation:  د ماشوم ترجمان ورور کې دلته څومره مسلکي لوستل \n",
      "Predicted Hindi Translation:  د ورور په اړه فکر کول دلته دي \n"
     ]
    }
   ],
   "source": [
    "k+=1\n",
    "(input_seq, actual_output), _ = next(train_gen)\n",
    "decoded_sentence = decode_sequence(input_seq)\n",
    "print('Input English sentence:', X_train[k:k+1].values[0])\n",
    "print('Actual Hindi Translation:', y_train[k:k+1].values[0][6:-4])\n",
    "print('Predicted Hindi Translation:', decoded_sentence[:-4])"
   ]
  },
  {
   "cell_type": "code",
   "execution_count": 41,
   "metadata": {
    "id": "UNuWxaICEG87"
   },
   "outputs": [
    {
     "name": "stdout",
     "output_type": "stream",
     "text": [
      "Input English sentence: میں دو سو ساٹھ روپے میں اپنے لئے نئی چھتری لے \n",
      "Actual Hindi Translation:  زه خپل ځان په دوه سوه او شپږ روپیو کې یو نوی چترۍ اخلم \n",
      "Predicted Hindi Translation:  زه دوه ځله د نوي او کمپیوټر ته لاړم \n"
     ]
    }
   ],
   "source": [
    "k+=1\n",
    "(input_seq, actual_output), _ = next(train_gen)\n",
    "decoded_sentence = decode_sequence(input_seq)\n",
    "print('Input English sentence:', X_train[k:k+1].values[0])\n",
    "print('Actual Hindi Translation:', y_train[k:k+1].values[0][6:-4])\n",
    "print('Predicted Hindi Translation:', decoded_sentence[:-4])"
   ]
  },
  {
   "cell_type": "code",
   "execution_count": 42,
   "metadata": {
    "id": "IQR8FjBoEG87"
   },
   "outputs": [
    {
     "name": "stdout",
     "output_type": "stream",
     "text": [
      "Input English sentence: دو دوستجو اب ہم میں نہیںہر اک شے اس ضد سے قائم ہے جہان خواب ہستی میںشعیب صفدر جیبالکل ی ہتو اس سے بھی ڈراو\n",
      "Actual Hindi Translation:  دوه ملګري اوس هیڅوک په متحده ایالاتو کې هیڅ ډول تباه نه ده دا په نړۍ کې ویل شوي \n",
      "Predicted Hindi Translation:  موږ دوه ورځې په اړه خبرې کوو اوس زه ډیر څه یم ا\n"
     ]
    }
   ],
   "source": [
    "k+=1\n",
    "(input_seq, actual_output), _ = next(train_gen)\n",
    "decoded_sentence = decode_sequence(input_seq)\n",
    "print('Input English sentence:', X_train[k:k+1].values[0])\n",
    "print('Actual Hindi Translation:', y_train[k:k+1].values[0][6:-4])\n",
    "print('Predicted Hindi Translation:', decoded_sentence[:-4])"
   ]
  },
  {
   "cell_type": "code",
   "execution_count": 43,
   "metadata": {
    "id": "kxs6TzsZEG87"
   },
   "outputs": [
    {
     "name": "stdout",
     "output_type": "stream",
     "text": [
      "Input English sentence: اسٹیٹ بینک نےء میں برانچ لیس بینکنگ کے ق\n",
      "Actual Hindi Translation:  د ریاست بانک q د څانګې لایفینګ Q \n",
      "Predicted Hindi Translation:  د بانک په پلازمینه کې سازمان ډاکټر خبري اژانس \n"
     ]
    }
   ],
   "source": [
    "k+=1\n",
    "(input_seq, actual_output), _ = next(train_gen)\n",
    "decoded_sentence = decode_sequence(input_seq)\n",
    "print('Input English sentence:', X_train[k:k+1].values[0])\n",
    "print('Actual Hindi Translation:', y_train[k:k+1].values[0][6:-4])\n",
    "print('Predicted Hindi Translation:', decoded_sentence[:-4])"
   ]
  },
  {
   "cell_type": "code",
   "execution_count": 44,
   "metadata": {
    "id": "IrpTaMOjEG88"
   },
   "outputs": [
    {
     "name": "stdout",
     "output_type": "stream",
     "text": [
      "Input English sentence:  اتنے پتھر میں تو ایک نیا انڈیا گیٹ بن جاتا امرکی حکومت پاکستانی فوجوں کی ہلاکت پر دکھ ا\n",
      "Actual Hindi Translation:  په داسې تیږو کې یو نوی هندي دروازې نوی هندي حکومت کیږي د متحده ایالاتو حکومت د پاکستان د پوځ په مړینه رنځ و \n",
      "Predicted Hindi Translation:  په هند کې یو نوی حکومت د هند په هند کې د هند د ح\n"
     ]
    }
   ],
   "source": [
    "k+=1\n",
    "(input_seq, actual_output), _ = next(train_gen)\n",
    "decoded_sentence = decode_sequence(input_seq)\n",
    "print('Input English sentence:', X_train[k:k+1].values[0])\n",
    "print('Actual Hindi Translation:', y_train[k:k+1].values[0][6:-4])\n",
    "print('Predicted Hindi Translation:', decoded_sentence[:-4])"
   ]
  },
  {
   "cell_type": "code",
   "execution_count": null,
   "metadata": {
    "id": "Gsys1uJkMh7q"
   },
   "outputs": [],
   "source": []
  },
  {
   "cell_type": "code",
   "execution_count": null,
   "metadata": {},
   "outputs": [],
   "source": []
  }
 ],
 "metadata": {
  "colab": {
   "collapsed_sections": [],
   "name": "english-to-hindi-neural-machine-translation.ipynb",
   "provenance": []
  },
  "kernelspec": {
   "display_name": "Python 3",
   "language": "python",
   "name": "python3"
  },
  "language_info": {
   "codemirror_mode": {
    "name": "ipython",
    "version": 3
   },
   "file_extension": ".py",
   "mimetype": "text/x-python",
   "name": "python",
   "nbconvert_exporter": "python",
   "pygments_lexer": "ipython3",
   "version": "3.6.5"
  }
 },
 "nbformat": 4,
 "nbformat_minor": 1
}
